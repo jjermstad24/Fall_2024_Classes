{
 "cells": [
  {
   "cell_type": "code",
   "execution_count": 1,
   "metadata": {},
   "outputs": [],
   "source": [
    "import control as ct\n",
    "import matplotlib.pyplot as plt\n",
    "import numpy as np\n",
    "%matplotlib tk\n",
    "\n",
    "K1 = 10\n",
    "K2 = 5\n",
    "\n",
    "error = ct.summing_junction(['r', '-ym'], 'e')\n",
    "C = ct.tf([K1,K2],[1,0], inputs='e', outputs='u')\n",
    "disturbance = ct.summing_junction(['d', 'u'], 'w')\n",
    "P = ct.tf(1, [1,3,2], inputs='w', outputs='y')\n",
    "y_measured = ct.summing_junction(['y', 'n'], 'ym')\n",
    "\n",
    "# interconnect everything based on signal names\n",
    "sys = ct.interconnect([error,C,disturbance,P,y_measured],\n",
    "                       inputs=['r','d','n'], outputs='y')\n",
    "\n",
    "def r(t):\n",
    "    return np.ones_like(t)\n",
    "\n",
    "def d(t):\n",
    "    return np.ones_like(t)*0.5\n",
    "\n",
    "def n(t):\n",
    "    return np.random.random(len(t))*0.05\n",
    "\n",
    "t = np.linspace(0,10,100)\n",
    "t,y_total = ct.input_output_response(sys,T=t,U=[r(t),d(t),n(t)])\n",
    "\n",
    "fig,axes = plt.subplots(1,2,figsize=(10,5))\n",
    "axes[0].plot(t,y_total[0],label=\"ouput\")\n",
    "axes[0].plot(t,r(t),linestyle=\"--\",label=\"input\")\n",
    "axes[0].grid()\n",
    "axes[0].legend()\n",
    "\n",
    "reals = []\n",
    "imags = []\n",
    "for pole in sys.poles():\n",
    "    reals.append(pole.real);imags.append(pole.imag)\n",
    "axes[1].scatter(reals,imags,marker=\"x\",color=\"red\")\n",
    "axes[1].set_xlim([-max(np.abs(reals))-1,max(np.abs(reals))+1])\n",
    "axes[1].set_ylim([-max(np.abs(imags))-1,max(np.abs(imags))+1])\n",
    "axes[1].grid()\n",
    "plt.show()"
   ]
  }
 ],
 "metadata": {
  "kernelspec": {
   "display_name": "Python 3",
   "language": "python",
   "name": "python3"
  },
  "language_info": {
   "codemirror_mode": {
    "name": "ipython",
    "version": 3
   },
   "file_extension": ".py",
   "mimetype": "text/x-python",
   "name": "python",
   "nbconvert_exporter": "python",
   "pygments_lexer": "ipython3",
   "version": "3.12.0"
  }
 },
 "nbformat": 4,
 "nbformat_minor": 2
}
