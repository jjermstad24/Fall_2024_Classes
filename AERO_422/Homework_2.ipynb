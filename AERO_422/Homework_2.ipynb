{
 "cells": [
  {
   "cell_type": "code",
   "execution_count": 54,
   "metadata": {},
   "outputs": [],
   "source": [
    "import sympy as sy\n",
    "\n",
    "import IPython\n",
    "from IPython.display import display\n",
    "from tbcontrol.symbolic import routh\n",
    "import control as ct\n",
    "import numpy as np\n",
    "import matplotlib.pyplot as plt\n",
    "\n",
    "\n",
    "def displayH(a1,a2='', a3='', a4='', a5='', a6='', a7='',):\n",
    "    latex_a1 = sy.latex(a1)\n",
    "    latex_a2 = sy.latex(a2)\n",
    "    latex_a3 = sy.latex(a3)\n",
    "    latex_a4 = sy.latex(a4)\n",
    "    latex_a5 = sy.latex(a5)\n",
    "    latex_a6 = sy.latex(a6)\n",
    "    latex_a7 = sy.latex(a7)\n",
    "    display( IPython.core.display.Math(latex_a1 + latex_a2 + latex_a3 + latex_a4 + latex_a5 + latex_a6 + latex_a7)  )"
   ]
  },
  {
   "cell_type": "code",
   "execution_count": 2,
   "metadata": {},
   "outputs": [
    {
     "data": {
      "text/latex": [
       "$\\displaystyle G_{yr} =\\frac{K \\beta \\left(\\alpha + s\\right) \\left(s^{2} + 1\\right)}{K \\beta \\left(\\alpha + s\\right) \\left(s^{2} + 1\\right) + \\alpha \\left(\\beta + s\\right) \\left(s^{3} - 5 s + 1\\right)}\\mathtt{\\text{}}\\mathtt{\\text{}}\\mathtt{\\text{}}\\mathtt{\\text{}}\\mathtt{\\text{}}$"
      ],
      "text/plain": [
       "<IPython.core.display.Math object>"
      ]
     },
     "metadata": {},
     "output_type": "display_data"
    },
    {
     "data": {
      "text/latex": [
       "$\\displaystyle G_{yd} =\\frac{\\alpha \\left(\\beta + s\\right) \\left(s^{2} + 1\\right)}{K \\beta \\left(\\alpha + s\\right) \\left(s^{2} + 1\\right) + \\alpha \\left(\\beta + s\\right) \\left(s^{3} - 5 s + 1\\right)}\\mathtt{\\text{}}\\mathtt{\\text{}}\\mathtt{\\text{}}\\mathtt{\\text{}}\\mathtt{\\text{}}$"
      ],
      "text/plain": [
       "<IPython.core.display.Math object>"
      ]
     },
     "metadata": {},
     "output_type": "display_data"
    },
    {
     "data": {
      "text/latex": [
       "$\\displaystyle G_{yn} =- \\frac{K \\beta \\left(\\alpha + s\\right) \\left(s^{2} + 1\\right)}{K \\beta \\left(\\alpha + s\\right) \\left(s^{2} + 1\\right) + \\alpha \\left(\\beta + s\\right) \\left(s^{3} - 5 s + 1\\right)}\\mathtt{\\text{}}\\mathtt{\\text{}}\\mathtt{\\text{}}\\mathtt{\\text{}}\\mathtt{\\text{}}$"
      ],
      "text/plain": [
       "<IPython.core.display.Math object>"
      ]
     },
     "metadata": {},
     "output_type": "display_data"
    }
   ],
   "source": [
    "# 2\n",
    "\n",
    "s = sy.Symbol(\"s\")\n",
    "\n",
    "a = sy.Symbol(\"alpha\")\n",
    "b = sy.Symbol(\"beta\")\n",
    "K = sy.Symbol(\"K\")\n",
    "\n",
    "C = K*(s/a+1)/(s/b+1)\n",
    "P = (s**2+1)/(s**3-5*s+1)\n",
    "\n",
    "Gyr = P*C/(1+P*C)\n",
    "Gyd = P/(1+P*C)\n",
    "Gyn = -P*C/(1+P*C)\n",
    "\n",
    "displayH(sy.Symbol(\"G_{yr} =\"),Gyr.simplify())\n",
    "displayH(sy.Symbol(\"G_{yd} =\"),Gyd.simplify())\n",
    "displayH(sy.Symbol(\"G_{yn} =\"),Gyn.simplify())"
   ]
  },
  {
   "cell_type": "code",
   "execution_count": 3,
   "metadata": {},
   "outputs": [
    {
     "data": {
      "text/latex": [
       "$\\displaystyle G_{yr} =\\frac{K_{p} \\beta \\left(\\alpha + s\\right)}{K_{p} \\beta \\left(\\alpha + s\\right) + \\alpha \\left(\\beta + s\\right)}\\mathtt{\\text{}}\\mathtt{\\text{}}\\mathtt{\\text{}}\\mathtt{\\text{}}\\mathtt{\\text{}}$"
      ],
      "text/plain": [
       "<IPython.core.display.Math object>"
      ]
     },
     "metadata": {},
     "output_type": "display_data"
    },
    {
     "data": {
      "text/latex": [
       "$\\displaystyle S_{\\alpha} =- \\frac{\\alpha s \\left(\\beta + s\\right)}{\\left(\\alpha + s\\right) \\left(K_{p} \\beta \\left(\\alpha + s\\right) + \\alpha \\left(\\beta + s\\right)\\right)}\\mathtt{\\text{}}\\mathtt{\\text{}}\\mathtt{\\text{}}\\mathtt{\\text{}}\\mathtt{\\text{}}$"
      ],
      "text/plain": [
       "<IPython.core.display.Math object>"
      ]
     },
     "metadata": {},
     "output_type": "display_data"
    },
    {
     "data": {
      "text/latex": [
       "$\\displaystyle S_{\\beta} =\\frac{\\alpha s}{K_{p} \\beta \\left(\\alpha + s\\right) + \\alpha \\left(\\beta + s\\right)}\\mathtt{\\text{}}\\mathtt{\\text{}}\\mathtt{\\text{}}\\mathtt{\\text{}}\\mathtt{\\text{}}$"
      ],
      "text/plain": [
       "<IPython.core.display.Math object>"
      ]
     },
     "metadata": {},
     "output_type": "display_data"
    },
    {
     "data": {
      "text/latex": [
       "$\\displaystyle G_{yd} =\\frac{\\beta \\left(\\alpha + s\\right)}{K_{p} \\beta \\left(\\alpha + s\\right) + \\alpha \\left(\\beta + s\\right)}\\mathtt{\\text{}}\\mathtt{\\text{}}\\mathtt{\\text{}}\\mathtt{\\text{}}\\mathtt{\\text{}}$"
      ],
      "text/plain": [
       "<IPython.core.display.Math object>"
      ]
     },
     "metadata": {},
     "output_type": "display_data"
    },
    {
     "data": {
      "text/latex": [
       "$\\displaystyle S_{\\alpha} =- \\frac{\\alpha s \\left(\\beta + s\\right)}{\\left(\\alpha + s\\right) \\left(K_{p} \\beta \\left(\\alpha + s\\right) + \\alpha \\left(\\beta + s\\right)\\right)}\\mathtt{\\text{}}\\mathtt{\\text{}}\\mathtt{\\text{}}\\mathtt{\\text{}}\\mathtt{\\text{}}$"
      ],
      "text/plain": [
       "<IPython.core.display.Math object>"
      ]
     },
     "metadata": {},
     "output_type": "display_data"
    },
    {
     "data": {
      "text/latex": [
       "$\\displaystyle S_{\\beta} =\\frac{\\alpha s}{K_{p} \\beta \\left(\\alpha + s\\right) + \\alpha \\left(\\beta + s\\right)}\\mathtt{\\text{}}\\mathtt{\\text{}}\\mathtt{\\text{}}\\mathtt{\\text{}}\\mathtt{\\text{}}$"
      ],
      "text/plain": [
       "<IPython.core.display.Math object>"
      ]
     },
     "metadata": {},
     "output_type": "display_data"
    },
    {
     "data": {
      "text/latex": [
       "$\\displaystyle G_{yn} =- \\frac{K_{p} \\beta \\left(\\alpha + s\\right)}{K_{p} \\beta \\left(\\alpha + s\\right) + \\alpha \\left(\\beta + s\\right)}\\mathtt{\\text{}}\\mathtt{\\text{}}\\mathtt{\\text{}}\\mathtt{\\text{}}\\mathtt{\\text{}}$"
      ],
      "text/plain": [
       "<IPython.core.display.Math object>"
      ]
     },
     "metadata": {},
     "output_type": "display_data"
    },
    {
     "data": {
      "text/latex": [
       "$\\displaystyle S_{\\alpha} =- \\frac{\\alpha s \\left(\\beta + s\\right)}{\\left(\\alpha + s\\right) \\left(K_{p} \\beta \\left(\\alpha + s\\right) + \\alpha \\left(\\beta + s\\right)\\right)}\\mathtt{\\text{}}\\mathtt{\\text{}}\\mathtt{\\text{}}\\mathtt{\\text{}}\\mathtt{\\text{}}$"
      ],
      "text/plain": [
       "<IPython.core.display.Math object>"
      ]
     },
     "metadata": {},
     "output_type": "display_data"
    },
    {
     "data": {
      "text/latex": [
       "$\\displaystyle S_{\\beta} =\\frac{\\alpha s}{K_{p} \\beta \\left(\\alpha + s\\right) + \\alpha \\left(\\beta + s\\right)}\\mathtt{\\text{}}\\mathtt{\\text{}}\\mathtt{\\text{}}\\mathtt{\\text{}}\\mathtt{\\text{}}$"
      ],
      "text/plain": [
       "<IPython.core.display.Math object>"
      ]
     },
     "metadata": {},
     "output_type": "display_data"
    }
   ],
   "source": [
    "# 3\n",
    "\n",
    "s = sy.Symbol(\"s\")\n",
    "\n",
    "a = sy.Symbol(\"alpha\")\n",
    "b = sy.Symbol(\"beta\")\n",
    "Kp = sy.Symbol(\"K_p\")\n",
    "\n",
    "C = Kp\n",
    "P = (s/a+1)/(s/b+1)\n",
    "\n",
    "Gyr = P*C/(1+P*C)\n",
    "Gyd = P/(1+P*C)\n",
    "Gyn = -P*C/(1+P*C)\n",
    "\n",
    "displayH(sy.Symbol(\"G_{yr} =\"),Gyr.simplify())\n",
    "displayH(sy.Symbol(r\"S_{\\alpha} =\"),(sy.diff(Gyr,a)*a/Gyr).simplify())\n",
    "displayH(sy.Symbol(r\"S_{\\beta} =\"),(sy.diff(Gyr,b)*b/Gyr).simplify())\n",
    "\n",
    "displayH(sy.Symbol(\"G_{yd} =\"),Gyd.simplify())\n",
    "displayH(sy.Symbol(r\"S_{\\alpha} =\"),(sy.diff(Gyd,a)*a/Gyd).simplify())\n",
    "displayH(sy.Symbol(r\"S_{\\beta} =\"),(sy.diff(Gyd,b)*b/Gyd).simplify())\n",
    "\n",
    "displayH(sy.Symbol(\"G_{yn} =\"),Gyn.simplify())\n",
    "displayH(sy.Symbol(r\"S_{\\alpha} =\"),(sy.diff(Gyn,a)*a/Gyn).simplify())\n",
    "displayH(sy.Symbol(r\"S_{\\beta} =\"),(sy.diff(Gyn,b)*b/Gyn).simplify())"
   ]
  },
  {
   "cell_type": "code",
   "execution_count": 4,
   "metadata": {},
   "outputs": [
    {
     "data": {
      "text/latex": [
       "$\\displaystyle \\left[\\begin{matrix}1 & K_{I} a\\\\K_{p} a + a & 0\\\\K_{I} a & 0\\end{matrix}\\right]\\mathtt{\\text{}}\\mathtt{\\text{}}\\mathtt{\\text{}}\\mathtt{\\text{}}\\mathtt{\\text{}}\\mathtt{\\text{}}$"
      ],
      "text/plain": [
       "<IPython.core.display.Math object>"
      ]
     },
     "metadata": {},
     "output_type": "display_data"
    }
   ],
   "source": [
    "# 4\n",
    "\n",
    "s = sy.Symbol(\"s\")\n",
    "\n",
    "a = sy.Symbol(\"a\")\n",
    "Kp = sy.Symbol(\"K_p\")\n",
    "Ki = sy.Symbol(\"K_I\")\n",
    "\n",
    "C = Kp+Ki/s\n",
    "P = 1/(s/a+1)\n",
    "\n",
    "D,N = sy.fraction((1+P*C).simplify())\n",
    "\n",
    "p = sy.Poly(D, s)\n",
    "table = routh(p)\n",
    "displayH(table)"
   ]
  },
  {
   "cell_type": "code",
   "execution_count": 5,
   "metadata": {},
   "outputs": [
    {
     "data": {
      "text/latex": [
       "$\\displaystyle \\left[\\begin{matrix}1 & - K_{P}\\\\K_{P} & 0\\\\- K_{P} & 0\\end{matrix}\\right]\\mathtt{\\text{}}\\mathtt{\\text{}}\\mathtt{\\text{}}\\mathtt{\\text{}}\\mathtt{\\text{}}\\mathtt{\\text{}}$"
      ],
      "text/plain": [
       "<IPython.core.display.Math object>"
      ]
     },
     "metadata": {},
     "output_type": "display_data"
    },
    {
     "data": {
      "text/latex": [
       "$\\displaystyle \\left[\\begin{matrix}K_{D} + 1 & K_{I} - K_{P}\\\\- K_{D} + K_{P} & - K_{I}\\\\\\frac{- K_{D} K_{P} - K_{I} K_{P} - K_{I} + K_{P}^{2}}{K_{D} - K_{P}} & 0\\\\- K_{I} & 0\\end{matrix}\\right]\\mathtt{\\text{}}\\mathtt{\\text{}}\\mathtt{\\text{}}\\mathtt{\\text{}}\\mathtt{\\text{}}\\mathtt{\\text{}}$"
      ],
      "text/plain": [
       "<IPython.core.display.Math object>"
      ]
     },
     "metadata": {},
     "output_type": "display_data"
    }
   ],
   "source": [
    "# 4\n",
    "\n",
    "s = sy.Symbol(\"s\")\n",
    "\n",
    "a = sy.Symbol(\"a\")\n",
    "Kp = sy.Symbol(\"K_P\")\n",
    "Ki = sy.Symbol(\"K_I\")\n",
    "Kd = sy.Symbol(\"K_D\")\n",
    "\n",
    "C1 = Kp\n",
    "C2 = Kp+Ki/s+Kd*s\n",
    "P = (s-1)/s**2\n",
    "\n",
    "D1,N1 = sy.fraction((1+P*C1).factor())\n",
    "D2,N2 = sy.fraction((1+P*C2).factor())\n",
    "\n",
    "p1 = sy.Poly(D1, s)\n",
    "table1 = routh(p1)\n",
    "displayH(table1)\n",
    "\n",
    "p2 = sy.Poly(D2, s)\n",
    "table2 = routh(p2)\n",
    "displayH(table2)"
   ]
  },
  {
   "cell_type": "code",
   "execution_count": 55,
   "metadata": {},
   "outputs": [],
   "source": [
    "# 6\n",
    "\n",
    "s = sy.Symbol(\"s\")\n",
    "\n",
    "a = sy.Symbol(\"a\")\n",
    "Kp = sy.Symbol(\"K_P\")\n",
    "Ki = sy.Symbol(\"K_I\")\n",
    "\n",
    "C1 = Kp\n",
    "C2 = Kp+Ki/s\n",
    "P = (s-1)/(s**2+s+1)\n",
    "\n",
    "D1,N1 = sy.fraction((1+P*C1).factor())\n",
    "D2,N2 = sy.fraction((1+P*C2).factor())\n",
    "\n"
   ]
  },
  {
   "cell_type": "code",
   "execution_count": 180,
   "metadata": {},
   "outputs": [
    {
     "name": "stdout",
     "output_type": "stream",
     "text": [
      "signal    | source                        | destination\n",
      "--------------------------------------------------------------------------\n",
      "y_m       | Noise                         | output, Error                 \n",
      "n         | input                         | Noise                         \n",
      "u         | C                             | Disturbances                  \n",
      "r         | input                         | Error                         \n",
      "d         | input                         | Disturbances                  \n",
      "e         | Error                         | output, C                     \n",
      "y         | P                             | Noise                         \n",
      "u_m       | Disturbances                  | P                             \n"
     ]
    },
    {
     "data": {
      "image/png": "[encoded data removed]",
      "text/plain": [
       "<Figure size 640x480 with 6 Axes>"
      ]
     },
     "metadata": {},
     "output_type": "display_data"
    }
   ],
   "source": [
    "Kp = -1\n",
    "Ki = 2\n",
    "Kd = 2\n",
    "\n",
    "error_blk = ct.summing_junction(inputs=['r', '-y_m'], output='e',name='Error')\n",
    "C = ct.tf([Kp,Ki,Kd], [1,0,0], inputs='e', outputs='u', name='C')\n",
    "disturbance_blk = ct.summing_junction(inputs=['u', 'd'], output='u_m',name='Disturbances')\n",
    "P = ct.tf(1,[1,1,1], inputs='u_m', outputs='y', name='P')\n",
    "measurement_blk = ct.summing_junction(inputs=['y', 'n'], output='y_m',name='Noise')\n",
    "\n",
    "system = ct.interconnect([error_blk,C,disturbance_blk, P,measurement_blk], inputs=['r','d','n'], outputs=['e','y_m'])\n",
    "system.connection_table(show_names=True)\n",
    "\n",
    "t,y = ct.step_response(system)\n",
    "\n",
    "A,B,N = np.shape(y)\n",
    "fig,axes = plt.subplots(A,B)\n",
    "\n",
    "for i in range(A):\n",
    "    for j in range(B):\n",
    "        axes[i,j].plot(t,y[i,j])\n",
    "axes[0,0].set_ylabel(\"e (t)\")\n",
    "axes[1,0].set_ylabel(\"y (t)\")\n",
    "plt.show()"
   ]
  }
 ],
 "metadata": {
  "kernelspec": {
   "display_name": "base",
   "language": "python",
   "name": "python3"
  },
  "language_info": {
   "codemirror_mode": {
    "name": "ipython",
    "version": 3
   },
   "file_extension": ".py",
   "mimetype": "text/x-python",
   "name": "python",
   "nbconvert_exporter": "python",
   "pygments_lexer": "ipython3",
   "version": "3.12.3"
  }
 },
 "nbformat": 4,
 "nbformat_minor": 2
}
