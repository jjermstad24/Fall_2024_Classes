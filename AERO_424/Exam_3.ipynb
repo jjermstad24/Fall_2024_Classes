{
 "cells": [
  {
   "cell_type": "raw",
   "metadata": {
    "vscode": {
     "languageId": "raw"
    }
   },
   "source": [
    "---\n",
    "title: AERO 424 Homework 2\n",
    "---"
   ]
  },
  {
   "cell_type": "code",
   "execution_count": 16,
   "metadata": {},
   "outputs": [],
   "source": [
    "from scipy.integrate import odeint\n",
    "from plotly.subplots import make_subplots\n",
    "import numpy as np\n",
    "import sympy as sy\n",
    "import IPython\n",
    "from IPython.display import display\n",
    "import matplotlib.pyplot as plt\n",
    "\n",
    "def displayH(a1,a2='', a3='', a4='', a5='', a6='', a7='',):\n",
    "    latex_a1 = sy.latex(a1)\n",
    "    latex_a2 = sy.latex(a2)\n",
    "    latex_a3 = sy.latex(a3)\n",
    "    latex_a4 = sy.latex(a4)\n",
    "    latex_a5 = sy.latex(a5)\n",
    "    latex_a6 = sy.latex(a6)\n",
    "    latex_a7 = sy.latex(a7)\n",
    "    display( IPython.core.display.Math(latex_a1 + latex_a2 + latex_a3 + latex_a4 + latex_a5 + latex_a6 + latex_a7)  )"
   ]
  },
  {
   "cell_type": "markdown",
   "metadata": {},
   "source": [
    "# 1. Attitude Reorientation Maneuver Using Reaction Wheels (40 pts)\n",
    "\n",
    "The spacecraft orbiting Earth (gravitational parameter, $\\mu = 398600.4418 \\, \\text{km}^3/\\text{s}^2$), has the following Earth-Centered-Inertial (ECI) position and velocity vectors at the initial time $t_0$:\n",
    "\n",
    "$$\n",
    "\\mathbf{r}(t_0) = \\begin{bmatrix} 7022.743 \\\\ 6699.3496 \\\\ 3.7886 \\end{bmatrix} \\, \\text{km}, \\quad \\mathbf{r}'(t_0) = \\begin{bmatrix} -6.2119 \\\\ 0.9524 \\\\ 4.3946 \\end{bmatrix} \\, \\text{km/s}\n",
    "$$\n",
    "\n",
    "The spacecraft's moment of inertia matrix is:\n",
    "\n",
    "$$\n",
    "\\mathbf{I} = \\begin{bmatrix} 6400 & -76.4 & -25.6 \\\\ -76.4 & 4730 & -40 \\\\ -25.6 & -40 & 8160 \\end{bmatrix} \\, \\text{kg-m}^2.\n",
    "$$\n",
    "\n",
    "The initial orientation of the spacecraft with respect to the ECI frame is defined by the quaternion vector,\n",
    "\n",
    "$$\n",
    "\\mathbf{q}(t_0) = \\frac{\\mathbf{z}_0}{\\lVert \\mathbf{z}_0 \\rVert}, \\quad \\mathbf{z}_0 = \\begin{bmatrix} 0.685 & 0.695 & 0.153 & 0.153 \\end{bmatrix}^T\n",
    "$$\n",
    "\n",
    "**Note:** The quaternion $\\mathbf{q}$ has its scalar component as the fourth entry.  \n",
    "The spacecraft's initial angular velocity is:\n",
    "\n",
    "$$\n",
    "\\mathbf{\\omega}(t_0) = \\begin{bmatrix} 0.53 & 0.53 & 0.053 \\end{bmatrix}^\\top \\, \\text{deg/s}\n",
    "$$\n",
    "\n",
    "**Note:** The units are given in $\\text{deg/s}$ and must be converted to $\\text{rad/s}$ for analysis. Additionally, the $\\omega_z$ component is smaller than $\\omega_x$ and $\\omega_y$ by a factor of 10.\n",
    "\n",
    "At $t_0$, the reaction wheels are not spinning; therefore, the initial wheel momentum is $\\mathbf{h}_w(t_0) = \\begin{bmatrix} 0 & 0 & 0 \\end{bmatrix}^T$. The commanded (desired) quaternion is the identity quaternion,\n",
    "\n",
    "$$\n",
    "\\mathbf{q} = \\begin{bmatrix} 0 & 0 & 0 & 1 \\end{bmatrix}^T.\n",
    "$$\n",
    "\n",
    "In addition to achieving the commanded quaternion, it is desired that the spacecraft come to a complete stop, i.e., the final angular velocity and the commanded quaternion should be $\\mathbf{\\omega}_c = \\begin{bmatrix} 0 & 0 & 0 \\end{bmatrix}^T \\, \\text{rad/s}$. For this purpose, the following quaternion-based proportional-derivative control law needs to be tested:\n",
    "\n",
    "$$\n",
    "\\mathbf{L}_{rw} = -k_p \\text{sign}(\\delta q_4) \\delta \\mathbf{q}_{1:3} - k_d \\mathbf{\\omega}\n",
    "$$\n",
    "\n",
    "where:\n",
    "\n",
    "- $\\mathbf{L}_{rw}$ = control torque on the spacecraft due to reaction wheels  \n",
    "- $k_p = 50$, the proportional control gain  \n",
    "- $k_d = 150$, the derivative control gain  \n",
    "- $\\delta \\mathbf{\\omega} = \\mathbf{\\omega} - \\mathbf{\\omega}_c$, is the angular velocity error  \n",
    "- $\\delta \\mathbf{q} = \\begin{bmatrix} \\delta q_1 & \\delta q_2 & \\delta q_3 & \\delta q_4 \\end{bmatrix}^T$, is the quaternion error  "
   ]
  },
  {
   "cell_type": "code",
   "execution_count": 17,
   "metadata": {},
   "outputs": [],
   "source": [
    "mu = 398600.4418\n",
    "\n",
    "rECI_0 = np.array([7022.743,6699.3496,3.7886])\n",
    "vECI_0 = np.array([-6.2119,0.9524,4.3946])\n",
    "\n",
    "wECI_0 = 180/np.pi*np.array([0.53,0.53,0.053])\n",
    "qECI_0 = np.array([0.685,0.695,0.153,0.153])\n",
    "\n",
    "I_body = np.array([[6400,-76.4,-25.6],\n",
    "                   [-76.4,4730,-40],\n",
    "                   [-25.6,-40,8160]])\n",
    "\n",
    "hw_0 = np.array([0,0,0])\n",
    "qc = np.array([0,0,0,1])\n",
    "wc = np.array([0,0,0])\n",
    "\n",
    "t0 = 0\n",
    "dt = 5\n",
    "tf = 2*3600\n",
    "\n",
    "times = np.arange(t0,tf,0.1)\n",
    "tol = 1e-12\n",
    "xECI_0 = np.hstack([rECI_0,vECI_0])"
   ]
  },
  {
   "cell_type": "code",
   "execution_count": 18,
   "metadata": {},
   "outputs": [],
   "source": [
    "def Translation_EOM(x,t,mu):\n",
    "    A = -mu/np.linalg.norm(x[:3])**3\n",
    "    return np.array([[0,0,0,1,0,0],\n",
    "                     [0,0,0,0,1,0],\n",
    "                     [0,0,0,0,0,1],\n",
    "                     [A,0,0,0,0,0],\n",
    "                     [0,A,0,0,0,0],\n",
    "                     [0,0,A,0,0,0]])@x\n",
    "\n",
    "xECI = odeint(Translation_EOM,xECI_0,times,rtol=tol,atol=tol,args=(mu,))"
   ]
  },
  {
   "cell_type": "code",
   "execution_count": 19,
   "metadata": {},
   "outputs": [],
   "source": [
    "fig, axes = plt.subplots(3, 1, figsize=(8, 6), sharex=True)\n",
    "for i, label in enumerate([\"x\",\"y\",\"z\"]):\n",
    "    axes[i].plot(times, xECI[:,i])\n",
    "    axes[i].set_ylabel(f\"${label}\\\\;[km]$\")\n",
    "    axes[i].grid()\n",
    "axes[-1].set_xlabel(\"Time [s]\")\n",
    "fig.suptitle(\"Position vs Time\",fontsize=16)\n",
    "plt.tight_layout(rect=[0, 0, 1, 0.96])\n",
    "plt.show()"
   ]
  },
  {
   "cell_type": "code",
   "execution_count": null,
   "metadata": {},
   "outputs": [],
   "source": [
    "fig = plt.figure(figsize=(8,8))\n",
    "ax = fig.add_subplot(111, projection='3d')\n",
    "ax.plot(xECI[:, 0], xECI[:, 1], xECI[:, 2], color='b')\n",
    "ax.set_box_aspect([1, 1, 1])\n",
    "ax.set_xlabel('$x\\\\;[km]$')\n",
    "ax.set_ylabel('$y\\\\;[km]$')\n",
    "ax.set_zlabel('$z\\\\;[km]$')\n",
    "max_val = np.max(np.abs(xECI[:, :3]))\n",
    "ax.set_xlim([-max_val,max_val])\n",
    "ax.set_ylim([-max_val,max_val])\n",
    "ax.set_zlim([-max_val,max_val])\n",
    "ax.set_title('Orbit in the Inertial Frame')\n",
    "ax.view_init(elev=5, azim=45)\n",
    "plt.show()"
   ]
  },
  {
   "cell_type": "code",
   "execution_count": null,
   "metadata": {},
   "outputs": [],
   "source": [
    "kp = 10\n",
    "kd = 150\n",
    "\n",
    "def A(q):\n",
    "    return np.array([[ q[3], -q[2],  q[1]],\n",
    "                     [ q[2],  q[3], -q[0]],\n",
    "                     [-q[1],  q[0],  q[3]],\n",
    "                     [-q[0], -q[1], -q[2]]])\n",
    "\n",
    "def L_sw(q,w):\n",
    "    dq = np.zeros(4)\n",
    "    dq[:3] = A(qc).T@q\n",
    "    dq[3] = qc.T@q\n",
    "    dw = w-wc\n",
    "    return -kp*np.sign(dq[3])*dq[:3]-kd*dw\n",
    "\n",
    "def EOM(x,t):\n",
    "    q = x[:4]\n",
    "    w = x[4:7]\n",
    "    hw = x[7:]\n",
    "    dq = 0.5*A(q)@w\n",
    "    dw = I@(L_sw-np.cross(w,I@w))\n",
    "    L_sw = -L_sw(q,w)\n",
    "    dhw = L_sw-np.cross(w,hw)\n",
    "    return [dq[0],\n",
    "            dq[1],\n",
    "            dq[2],\n",
    "            dq[3],\n",
    "            dwI[0]/I[0,0],\n",
    "            dwI[1]/I[1,1],\n",
    "            dwI[2]/I[2,2],\n",
    "            dhw[0],\n",
    "            dhw[1],\n",
    "            dhw[2]]"
   ]
  }
 ],
 "metadata": {
  "kernelspec": {
   "display_name": "Python 3",
   "language": "python",
   "name": "python3"
  },
  "language_info": {
   "codemirror_mode": {
    "name": "ipython",
    "version": 3
   },
   "file_extension": ".py",
   "mimetype": "text/x-python",
   "name": "python",
   "nbconvert_exporter": "python",
   "pygments_lexer": "ipython3",
   "version": "3.12.0"
  }
 },
 "nbformat": 4,
 "nbformat_minor": 2
}
