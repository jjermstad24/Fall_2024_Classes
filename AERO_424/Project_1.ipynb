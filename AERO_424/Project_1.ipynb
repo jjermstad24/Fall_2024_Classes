{
 "cells": [
  {
   "cell_type": "code",
   "execution_count": 1,
   "metadata": {},
   "outputs": [],
   "source": [
    "from scipy.integrate import odeint\n",
    "from scipy.spatial.transform import Rotation\n",
    "import pandas as pd\n",
    "import numpy as np\n",
    "import plotly.graph_objects as go"
   ]
  },
  {
   "cell_type": "markdown",
   "metadata": {},
   "source": [
    "#### Creating Initial Conditions\n",
    "$$\n",
    "\\vec{R}_{PER} = \\frac{a(1-e^2)}{1+e cos(f)}\n",
    "\\left[\n",
    "cos(f) \\hat{\\textbf{e}}+\n",
    "sin(f) \\hat{\\textbf{p}}\n",
    "\\right]\n",
    "$$\n",
    "\n",
    "$$\n",
    "\\vec{V}_{PER} = \\sqrt{\\frac{\\mu}{a(1-e^2)}}\n",
    "\\left[\n",
    "-sin(f) \\hat{\\textbf{e}}+\n",
    "(1+cos(f)) \\hat{\\textbf{p}}\n",
    "\\right]\n",
    "$$\n",
    "\n",
    "$$\n",
    "T_{PER \\rightarrow ECI} = \\left[\\begin{array}{c|c|c}\n",
    "\\cos \\Omega \\cos \\omega - \\sin \\Omega \\sin \\omega \\cos i & -\\cos \\Omega \\sin \\omega - \\sin \\Omega \\cos \\omega \\cos i & \\sin \\Omega \\sin i \\\\\n",
    "\\hline\n",
    "\\sin \\Omega \\cos \\omega + \\cos \\Omega \\sin \\omega \\cos i & -\\sin \\Omega \\sin \\omega + \\cos \\Omega \\cos \\omega \\cos i & -\\cos \\Omega \\sin i \\\\\n",
    "\\hline\n",
    "\\sin \\omega \\sin i & \\cos \\omega \\sin i & \\cos i\n",
    "\\end{array}\\right]\n",
    "$$"
   ]
  },
  {
   "cell_type": "code",
   "execution_count": 2,
   "metadata": {},
   "outputs": [],
   "source": [
    "mu=398600.4418\n",
    "wE = np.array([0,0,7.2921159e-5])\n",
    "\n",
    "def T_PER_to_ECI(raan,i,aop):\n",
    "    cos_raan = np.cos(np.radians(raan))\n",
    "    sin_raan = np.sin(np.radians(raan))\n",
    "    cos_i = np.cos(np.radians(i))\n",
    "    sin_i = np.sin(np.radians(i))\n",
    "    cos_aop = np.cos(np.radians(aop))\n",
    "    sin_aop = np.sin(np.radians(aop))\n",
    "\n",
    "    return np.array([[cos_raan * cos_aop - sin_raan * sin_aop * cos_i,-cos_raan * sin_aop - sin_raan * cos_aop * cos_i,sin_raan * sin_i],\n",
    "                     [sin_raan * cos_aop + cos_raan * sin_aop * cos_i,-sin_raan * sin_aop + cos_raan * cos_aop * cos_i,-cos_raan * sin_i],\n",
    "                     [sin_aop * sin_i,cos_aop * sin_i,cos_i]])\n",
    "\n",
    "def T_ECI_to_ECEF(t):\n",
    "    gamma = wE[2]*np.array(t)\n",
    "    sin_gamma = np.sin(gamma)\n",
    "    cos_gamma = np.cos(gamma)\n",
    "    if np.shape(t):\n",
    "        z = np.zeros_like(sin_gamma)\n",
    "        o = np.ones_like(sin_gamma)\n",
    "        return np.array([[cos_gamma,sin_gamma,z],\n",
    "                         [-sin_gamma,cos_gamma,z],\n",
    "                         [z,z,o]]).T\n",
    "    else:\n",
    "        return np.array([[cos_gamma,sin_gamma,0],\n",
    "                         [-sin_gamma,cos_gamma,0],\n",
    "                         [0,0,1]])\n",
    "\n",
    "def Translation_EOM(x,t):\n",
    "    r_3 = np.linalg.norm(x[:3])**3\n",
    "    return np.array([x[3],x[4],x[5],-mu*x[0]/r_3,-mu*x[1]/r_3,-mu*x[2]/r_3])"
   ]
  },
  {
   "cell_type": "code",
   "execution_count": 3,
   "metadata": {},
   "outputs": [],
   "source": [
    "a = 6378+700\n",
    "e = 0.0\n",
    "i = 80\n",
    "raan = 50\n",
    "aop = 20\n",
    "f = 0\n",
    "\n",
    "T = 2*np.pi*(a**3/mu)**0.5\n",
    "ra = a*(1+e)\n",
    "\n",
    "rPER_0 = a*(1-e**2)/(1+e*np.cos(np.radians(f)))*np.array([np.cos(np.radians(f)),np.sin(np.radians(f)),0])\n",
    "vPER_0 = (mu/(a*(1-e**2)))**0.5*np.array([-np.sin(np.radians(f)),(e+np.cos(np.radians(f))),0])\n",
    "\n",
    "R = T_PER_to_ECI(raan,i,aop)\n",
    "\n",
    "rECI_0 = R@rPER_0\n",
    "vECI_0 = R@vPER_0\n",
    "\n",
    "times = np.arange(0,T,0.1)\n",
    "tol = 1e-12\n",
    "xECI_0 = np.hstack([rECI_0,vECI_0])\n",
    "xECI = odeint(Translation_EOM,xECI_0,times,rtol=tol,atol=tol)\n",
    "\n",
    "rECI = xECI[:,:3]\n",
    "vECI = xECI[:,3:]"
   ]
  },
  {
   "cell_type": "markdown",
   "metadata": {},
   "source": [
    "#### Computing ECEF State\n",
    "$$\n",
    "\\omega_{E} = 7.2921159e^{-5} [rad/s]\n",
    "$$\n",
    "\n",
    "$$\n",
    "\\gamma = \\omega_{E} t\n",
    "$$\n",
    "\n",
    "$$\n",
    "T_{ECI\\rightarrow ECEF} = \\left[\\begin{array}{c|c|c}\n",
    "cos(\\gamma)&-sin(\\gamma)&0\\\\\n",
    "\\hline\n",
    "sin(\\gamma)&cos(\\gamma)&0\\\\\n",
    "\\hline\n",
    "0&0&1\n",
    "\\end{array}\\right]\n",
    "$$\n",
    "\n",
    "$$\n",
    "\\vec{R}_{ECEF} = T_{ECI\\rightarrow ECEF} \\vec{R}_{ECI}\n",
    "$$\n",
    "\n",
    "$$\n",
    "\\vec{V}_{ECEF} = T_{ECI\\rightarrow ECEF} \\vec{V}_{ECI} + \\vec{R}_{ECI}\\times \\vec{\\omega}_E\n",
    "$$"
   ]
  },
  {
   "cell_type": "code",
   "execution_count": 4,
   "metadata": {},
   "outputs": [],
   "source": [
    "# Computing ECEF State\n",
    "\n",
    "R = T_ECI_to_ECEF(times)\n",
    "\n",
    "rECEF = np.array([r@T for r,T in zip(rECI,R)])\n",
    "vECEF = np.array([v@T+np.cross(r,wE) for r,v,T in zip(rECI,vECI,R)])"
   ]
  },
  {
   "cell_type": "code",
   "execution_count": 5,
   "metadata": {},
   "outputs": [
    {
     "name": "stdout",
     "output_type": "stream",
     "text": [
      "7.5043591156129805\n",
      "7.430101402915084\n"
     ]
    }
   ],
   "source": [
    "print(np.linalg.norm(vECI[0]))\n",
    "print(np.linalg.norm(vECEF[0]))"
   ]
  },
  {
   "cell_type": "markdown",
   "metadata": {},
   "source": [
    "#### Computing Gravity Gradient Torque\n",
    "$$\n",
    "\\vec{L_g} = \\frac{3\\mu}{R_c^5}(\\vec{R_c}\\times I_c\\vec{R_c})\n",
    "$$"
   ]
  },
  {
   "cell_type": "code",
   "execution_count": 6,
   "metadata": {},
   "outputs": [],
   "source": [
    "# Computing Gravity Gradient Torque\n",
    "\n",
    "I = np.array([[1,0,0],\n",
    "              [0,2,0],\n",
    "              [0,0,3]])\n",
    "\n",
    "Lg = np.array([3*mu/np.linalg.norm(r)**5*np.cross(r,I@r) for r in rECI])"
   ]
  }
 ],
 "metadata": {
  "kernelspec": {
   "display_name": "Python 3",
   "language": "python",
   "name": "python3"
  },
  "language_info": {
   "codemirror_mode": {
    "name": "ipython",
    "version": 3
   },
   "file_extension": ".py",
   "mimetype": "text/x-python",
   "name": "python",
   "nbconvert_exporter": "python",
   "pygments_lexer": "ipython3",
   "version": "3.12.0"
  }
 },
 "nbformat": 4,
 "nbformat_minor": 2
}
