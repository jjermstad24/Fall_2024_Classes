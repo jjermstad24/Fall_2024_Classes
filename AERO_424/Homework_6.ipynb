{
 "cells": [
  {
   "cell_type": "raw",
   "metadata": {
    "vscode": {
     "languageId": "raw"
    }
   },
   "source": [
    "---\n",
    "title: AERO 424 Homework 6\n",
    "---"
   ]
  },
  {
   "cell_type": "code",
   "execution_count": null,
   "metadata": {},
   "outputs": [],
   "source": [
    "import sympy as sy\n",
    "\n",
    "import IPython\n",
    "from IPython.display import display\n",
    "\n",
    "import matplotlib.pyplot as plt\n",
    "\n",
    "import numpy as np\n",
    "import pandas as pd\n",
    "\n",
    "from scipy.integrate import odeint\n",
    "\n",
    "def displayH(a1,a2='', a3='', a4='', a5='', a6='', a7='',):\n",
    "    latex_a1 = sy.latex(a1)\n",
    "    latex_a2 = sy.latex(a2)\n",
    "    latex_a3 = sy.latex(a3)\n",
    "    latex_a4 = sy.latex(a4)\n",
    "    latex_a5 = sy.latex(a5)\n",
    "    latex_a6 = sy.latex(a6)\n",
    "    latex_a7 = sy.latex(a7)\n",
    "    display( IPython.core.display.Math(latex_a1 + latex_a2 + latex_a3 + latex_a4 + latex_a5 + latex_a6 + latex_a7)  )"
   ]
  },
  {
   "cell_type": "markdown",
   "metadata": {},
   "source": [
    "$\\newpage$\n",
    "\n",
    "## 1. TRIAD Algorithm\n",
    "\n",
    "A spacecraft equipped with a star tracker measures the following two vectors in its body frame:\n",
    "\n",
    "$$\n",
    "\\mathbf{b}_1 = \\begin{bmatrix} 0.2500 \\\\ 0.5177 \\\\ 0.8311 \\end{bmatrix}\n",
    "$$\n",
    "$$\n",
    "\\mathbf{b}_2 = \\begin{bmatrix} 0.8479 \\\\ 0.5040 \\\\ 0.2018 \\end{bmatrix}\n",
    "$$\n",
    "\n",
    "An onboard star catalog provides the following unit vectors representing the positions of the tracked stars in the Earth-Centered Inertial (ECI) frame:\n",
    "\n",
    "$$\n",
    "\\mathbf{r}_1 = \\begin{bmatrix} 0.5637 \\\\ 0.3054 \\\\ 0.7674 \\end{bmatrix}\n",
    "$$\n",
    "$$\n",
    "\\mathbf{r}_2 = \\begin{bmatrix} 0.2569 \\\\ 0.9337 \\\\ 0.2495 \\end{bmatrix}\n",
    "$$\n",
    "\n",
    "Using the TRIAD algorithm, determine the attitude matrix/DCM that transforms vectors from the ECI frame to the spacecraft body frame."
   ]
  },
  {
   "cell_type": "code",
   "execution_count": 70,
   "metadata": {},
   "outputs": [
    {
     "data": {
      "text/latex": [
       "$\\displaystyle T_{ECI\\rightarrow B}=\\left[\\begin{matrix}0.359545290467058 & 0.895380710736912 & -0.294686665096864\\\\-0.41225566685024 & 0.437678951238699 & 0.803212049507664\\\\0.841308754616298 & -0.166700423583808 & 0.531282334188543\\end{matrix}\\right]\\mathtt{\\text{}}\\mathtt{\\text{}}\\mathtt{\\text{}}\\mathtt{\\text{}}\\mathtt{\\text{}}$"
      ],
      "text/plain": [
       "<IPython.core.display.Math object>"
      ]
     },
     "metadata": {},
     "output_type": "display_data"
    }
   ],
   "source": [
    "b1 = np.array([0.2500, 0.5177, 0.8311])\n",
    "b2 = np.array([0.8479, 0.5040, 0.2018])\n",
    "\n",
    "r1 = np.array([0.5637, 0.3054, 0.7674])\n",
    "r2 = np.array([0.2569, 0.9337, 0.2495])\n",
    "\n",
    "def Triad_Estimate(b1,b2,r1,r2):\n",
    "\n",
    "    bx = np.cross(b1,b2)/np.linalg.norm(np.cross(b1,b2))\n",
    "    rx = np.cross(r1,r2)/np.linalg.norm(np.cross(r1,r2))\n",
    "\n",
    "    return np.outer(b1,r1)+np.outer(bx,rx)+np.outer(np.cross(b1,bx),np.cross(r1,rx))\n",
    "\n",
    "T_ECI_to_B = Triad_Estimate(b1,b2,r1,r2)\n",
    "\n",
    "displayH(sy.Symbol(r\"T_{ECI\\rightarrow B}=\"),sy.Matrix(T_ECI_to_B))"
   ]
  },
  {
   "cell_type": "markdown",
   "metadata": {},
   "source": [
    "$\\newpage$\n",
    "\n",
    "## 2. Quaternion Solution of Wahba's Problem - Davenport's q Method\n",
    "\n",
    "A spacecraft is equipped with a solid-state star tracker capable of simultaneously tracking multiple stars. It records vector measurements to 30 stars in the spacecraft body frame. These measurements are provided in the Excel file \"bvec_Meas.xls\", which contains a matrix of size $3 \\times 30$. Each column of the matrix corresponds to a vector $\\mathbf{b}_i$, where $i = 1, 2, \\dots, 30$.\n",
    "\n",
    "An onboard star catalog provides the unit vectors representing the positions of the tracked stars in the Earth-Centered Inertial (ECI) frame. These vectors are provided in the Excel file \"rvec_Refs.xls\", which also contains a $3 \\times 30$ matrix. The columns of this matrix represent the individual vectors $\\mathbf{v}_i$, corresponding to $\\mathbf{b}_i$ for $i = 1, 2, \\dots, 30$.\n",
    "\n",
    "Assuming that all measurements are weighted equally, with $a_i = 0.01$, $i = 1, 2, \\dots, 30$.\n",
    "\n",
    "Use the Davenport’s q method, to determine the following:\n",
    "\n",
    "(a) The estimated optimal quaternion: $\\hat{\\mathbf{q}}$\n",
    "\n",
    "(b) The corresponding attitude matrix/DCM that transforms vectors from the ECI frame to the spacecraft body-frame: $\\mathbf{A}(\\hat{\\mathbf{q}})$\n",
    "\n",
    "The following equations may be useful in the implementation of the Davenport’s q method:\n",
    "\n",
    "$$\n",
    "\\mathbf{A}(\\mathbf{q}) = \\begin{bmatrix} \n",
    "q_1^2 - q_2^2 - q_3^2 + q_4^2 & 2(q_1q_2 + q_3q_4) & 2(q_1q_3 - q_2q_4) \\\\\n",
    "2(q_1q_2 - q_3q_4) & -q_1^2 + q_2^2 - q_3^2 + q_4^2 & 2(q_2q_3 + q_1q_4) \\\\\n",
    "2(q_1q_3 + q_2q_4) & 2(q_2q_3 - q_1q_4) & -q_1^2 - q_2^2 + q_3^2 + q_4^2 \n",
    "\\end{bmatrix} \\quad \\text{... Attitude matrix/DCM}\n",
    "$$\n",
    "\n",
    "$$\n",
    "\\mathbf{B} = \\sum_{i=1}^{N} a_i \\mathbf{b}_i \\mathbf{r}_i^T \\quad \\text{... Attitude profile matrix}\n",
    "$$\n",
    "\n",
    "$$\n",
    "\\mathbf{z} = \\begin{bmatrix} B_{23} - B_{32} \\\\ B_{31} - B_{13} \\\\ B_{12} - B_{21} \\end{bmatrix}\n",
    "$$\n",
    "\n",
    "$$\n",
    "\\mathbf{K}(\\mathbf{B}) = \\begin{bmatrix} \\mathbf{B} + \\mathbf{B}^T - (\\operatorname{tr} \\mathbf{B}) \\mathbf{I}_3 & \\mathbf{z} \\\\ \\mathbf{z}^T & \\operatorname{tr} \\mathbf{B} \\end{bmatrix}\n",
    "$$\n"
   ]
  },
  {
   "cell_type": "code",
   "execution_count": null,
   "metadata": {},
   "outputs": [],
   "source": [
    "def Quat_to_DCM(q):\n",
    "    q_1 = q[0]\n",
    "    q_2 = q[1]\n",
    "    q_3 = q[2]\n",
    "    q_4 = q[3]\n",
    "    q_1q_2 = q_1*q_2\n",
    "    q_1q_3 = q_1*q_3\n",
    "    q_3q_4 = q_3*q_4\n",
    "    q_2q_4 = q_2*q_4\n",
    "    q_2q_3 = q_2*q_3\n",
    "    q_1q_4 = q_1*q_4\n",
    "\n",
    "    return np.array([[q_1**2 - q_2**2 - q_3**2 + q_4**2, 2*(q_1q_2 + q_3q_4), 2*(q_1q_3 - q_2q_4)],\n",
    "                     [2*(q_1q_2 - q_3q_4), -q_1**2 + q_2**2 - q_3**2 + q_4**2, 2*(q_2q_3 + q_1q_4)],\n",
    "                     [2*(q_1q_3 + q_2q_4), 2*(q_2q_3 - q_1q_4), -q_1**2 - q_2**2 + q_3**2 + q_4**2]])"
   ]
  },
  {
   "cell_type": "code",
   "execution_count": 101,
   "metadata": {},
   "outputs": [
    {
     "data": {
      "text/plain": [
       "array([[ 0.11264821, -0.15545227,  0.02303415, -0.08917601],\n",
       "       [-0.15545227, -0.11630002, -0.15376081, -0.04072508],\n",
       "       [ 0.02303415, -0.15376081,  0.15730757,  0.14747669],\n",
       "       [-0.08917601, -0.04072508,  0.14747669, -0.15365576]])"
      ]
     },
     "execution_count": 101,
     "metadata": {},
     "output_type": "execute_result"
    }
   ],
   "source": [
    "bvec_Meas = pd.read_csv(\"bvec_Meas.csv\",header=None).T.to_numpy()\n",
    "rvec_Refs = pd.read_csv(\"rvec_Refs.csv\",header=None).T.to_numpy()\n",
    "weights = len(rvec_Refs)*[0.01]\n",
    "\n",
    "# Attitude Profile Matrix\n",
    "B = sum([a*np.outer(b,r.T) for a,b,r in zip(weights,bvec_Meas,rvec_Refs)])\n",
    "\n",
    "z = np.array([B[1,2]-B[2,1],\n",
    "              B[2,0]-B[0,2],\n",
    "              B[0,1]-B[1,0]])\n",
    "\n",
    "K = np.zeros([4,4])\n",
    "K[:3,:3] = B+B.T-np.trace(B)*np.eye(3)\n",
    "K[:3,3] = z\n",
    "K[3,:3] = z\n",
    "K[3,3] = np.trace(B)\n",
    "K"
   ]
  },
  {
   "cell_type": "code",
   "execution_count": 95,
   "metadata": {},
   "outputs": [
    {
     "data": {
      "text/plain": [
       "array([[0., 0.],\n",
       "       [0., 0.]])"
      ]
     },
     "execution_count": 95,
     "metadata": {},
     "output_type": "execute_result"
    }
   ],
   "source": [
    "K[0:2,0:2]"
   ]
  },
  {
   "cell_type": "code",
   "execution_count": 90,
   "metadata": {},
   "outputs": [
    {
     "data": {
      "text/plain": [
       "array([[-0.02050378, -0.00398779,  0.03187962],\n",
       "       [-0.15146448, -0.13497789, -0.12146841],\n",
       "       [-0.00884546, -0.0322924 ,  0.00182591]])"
      ]
     },
     "execution_count": 90,
     "metadata": {},
     "output_type": "execute_result"
    }
   ],
   "source": [
    "A = np.zeros([3,3])\n",
    "for a,b,r in zip(weights,bvec_Meas,rvec_Refs):\n",
    "    A += a*np.outer(b,r.T)\n",
    "\n",
    "A"
   ]
  }
 ],
 "metadata": {
  "kernelspec": {
   "display_name": "base",
   "language": "python",
   "name": "python3"
  },
  "language_info": {
   "codemirror_mode": {
    "name": "ipython",
    "version": 3
   },
   "file_extension": ".py",
   "mimetype": "text/x-python",
   "name": "python",
   "nbconvert_exporter": "python",
   "pygments_lexer": "ipython3",
   "version": "3.12.7"
  }
 },
 "nbformat": 4,
 "nbformat_minor": 2
}
