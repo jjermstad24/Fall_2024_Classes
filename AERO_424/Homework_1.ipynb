{
 "cells": [
  {
   "cell_type": "raw",
   "id": "fab0e2cd",
   "metadata": {},
   "source": [
    "---\n",
    "title: AERO 424 Homework 1\n",
    "---"
   ]
  },
  {
   "cell_type": "markdown",
   "id": "c2535e3c",
   "metadata": {},
   "source": [
    "By Jonathan Jermstad (8/31/2024)"
   ]
  },
  {
   "cell_type": "code",
   "execution_count": 1,
   "id": "abfc05f9",
   "metadata": {},
   "outputs": [],
   "source": [
    "import sympy as sy\n",
    "from sympy.physics.vector import ReferenceFrame,dynamicsymbols\n",
    "from sympy.physics.vector import Point\n",
    "\n",
    "import IPython\n",
    "from IPython.display import display\n",
    "\n",
    "import matplotlib.pyplot as plt\n",
    "\n",
    "import numpy as np\n",
    "\n",
    "import scipy"
   ]
  },
  {
   "cell_type": "code",
   "execution_count": 2,
   "id": "757601b0",
   "metadata": {},
   "outputs": [],
   "source": [
    "def displayH(a1,a2='', a3='', a4='', a5='', a6='', a7='',):\n",
    "    latex_a1 = sy.latex(a1)\n",
    "    latex_a2 = sy.latex(a2)\n",
    "    latex_a3 = sy.latex(a3)\n",
    "    latex_a4 = sy.latex(a4)\n",
    "    latex_a5 = sy.latex(a5)\n",
    "    latex_a6 = sy.latex(a6)\n",
    "    latex_a7 = sy.latex(a7)\n",
    "    display( IPython.core.display.Math(latex_a1 + latex_a2 + latex_a3 + latex_a4 + latex_a5 + latex_a6 + latex_a7)  )"
   ]
  },
  {
   "cell_type": "markdown",
   "id": "4288f05f",
   "metadata": {},
   "source": [
    "$\\newline$\n",
    "\n",
    "## 1) Transport Theorem:\n",
    "\n",
    "Consider a simplified planetary system shown in the figure. The Earth is in a circular orbit of radius R around the Sun, and is orbiting at a constant rate $\\dot{\\phi}$. The moon is orbiting Earth also in a circular orbit of radius r at a constant rate $\\dot{\\theta}$. Assume the Sun is inertially fixed with body-frame $N = \\left\\{\\hat{n_{1}}, \\hat{n_{2}}, \\hat{n_{3}}\\right\\}$. Let Earth body-fixed frame be $E = \\left\\{\\hat{e_{r}}, \\hat{e_{\\theta}}, \\hat{e_{3}}\\right\\}$ Let moon body-fixed frame be $M = \\left\\{\\hat{m_{r}}, \\hat{m_{\\theta}}, \\hat{m_{3}}\\right\\}$. Find the inertial velocity and acceleration of the Moon."
   ]
  },
  {
   "cell_type": "code",
   "execution_count": null,
   "id": "016324f8",
   "metadata": {},
   "outputs": [],
   "source": [
    "img = plt.imread(\"Homework_1_1_Problem.PNG\")\n",
    "plt.imshow(img)\n",
    "plt.tick_params(axis='x',which='both',bottom=False,top=False,labelbottom=False)\n",
    "plt.tick_params(axis='y',which='both',left=False,right=False,labelleft=False)\n",
    "plt.title(\"Problem 1\")\n",
    "plt.show()"
   ]
  },
  {
   "cell_type": "code",
   "execution_count": null,
   "id": "ae2a6974",
   "metadata": {},
   "outputs": [],
   "source": [
    "phi = dynamicsymbols(\"phi\")\n",
    "theta = dynamicsymbols(\"theta\")\n",
    "R = sy.Symbol(\"R\")\n",
    "r = sy.Symbol(\"r\")\n",
    "t = sy.Symbol(\"t\")\n",
    "\n",
    "# Define inrtl reference frame (sun)\n",
    "N = ReferenceFrame('N')\n",
    "O = Point('O')\n",
    "# Define intermediate reference frame (earth) rotated about N.z by phi\n",
    "E = N.orientnew('E','Axis',[phi,N.z])\n",
    "# Define final reference frame (moon) rotated about E.z by theta\n",
    "M = E.orientnew('M','Axis',[theta,E.z])\n",
    "\n",
    "displayH(\"N =\",N.x+N.y+N.z)\n",
    "displayH(\"E =\",E.x+E.y+E.z)\n",
    "displayH(\"M =\",M.x+M.y+M.z)"
   ]
  },
  {
   "cell_type": "markdown",
   "id": "1a4da0ca",
   "metadata": {},
   "source": [
    "$\\newline$\n",
    "\n",
    "#### Solution:\n",
    "\n",
    "##### 1. Define position vector of the moon.\n",
    "$$\n",
    "\\vec{r}_{moon} = R \\hat{e}_{r} + r \\hat{m}_{r}\n",
    "$$\n"
   ]
  },
  {
   "cell_type": "code",
   "execution_count": null,
   "id": "58bf42ca",
   "metadata": {},
   "outputs": [],
   "source": [
    "# Coordinates of final reference frame (moon) translated byR in E.x and r in M.x\n",
    "r_moon = O.locatenew(\"pos_moon\",R*E.x+r*M.x)\n",
    "\n",
    "displayH(sy.Symbol(r\"\\vec{r}_{moon} =\"),r_moon.pos_from(O))"
   ]
  },
  {
   "cell_type": "markdown",
   "id": "3442542f",
   "metadata": {},
   "source": [
    "##### 2. Define position vector in body frame.\n",
    "$$\n",
    "\\hat{e}_{r} = cos(\\theta) \\hat{m}_{r} - sin(\\theta) \\hat{m}_{\\theta}\n",
    "$$\n",
    "\n",
    "$$\n",
    "\\vec{r}_{moon} =  \\left(R cos(\\theta) + r \\right)\\hat{m}_{r} - R sin(\\theta) \\hat{m}_{theta}\n",
    "$$\n"
   ]
  },
  {
   "cell_type": "code",
   "execution_count": null,
   "id": "0379249f",
   "metadata": {},
   "outputs": [],
   "source": [
    "displayH(sy.Symbol(r\"\\vec{r}_{moon} =\"),r_moon.pos_from(O).express(M))"
   ]
  },
  {
   "cell_type": "markdown",
   "id": "f1c32624",
   "metadata": {},
   "source": [
    "##### 3. Define angular velocity vector ($\\vec{\\omega}$).\n",
    "$$\n",
    "\\vec{\\omega} = \\dot{\\phi} \\hat{n}_{3}+\\dot{\\theta} \\hat{e}_{3} = (\\dot{\\\\phi}+\\dot{\\theta}) \\hat{m}_{3}\n",
    "$$\n"
   ]
  },
  {
   "cell_type": "code",
   "execution_count": null,
   "id": "3ea5e2a6",
   "metadata": {},
   "outputs": [],
   "source": [
    "omega = M.ang_vel_in(N)\n",
    "displayH(sy.Symbol(r\"\\vec{\\omega} =\"),omega,\"=\",omega.express(M))"
   ]
  },
  {
   "cell_type": "markdown",
   "id": "9d268212",
   "metadata": {},
   "source": [
    "$\\newline$\n",
    "\n",
    "##### 4. Take the inertial derivative (N) of the position vector.\n",
    "$$\n",
    "\\frac{^{N}d \\vec{r}_{moon}}{dt} = \\frac{^{M}d \\vec{r}_{moon}}{dt} + \\vec{\\omega}\\times\\vec{r}_{moon}\n",
    "$$\n",
    "\n",
    "$$\n",
    "\\frac{^{M}d \\vec{r}_{moon}}{dt} = -R \\dot{\\theta} sin(\\theta) \\hat{m}_{r} - R \\dot{\\theta}cos(\\theta) \\hat{m}_{\\theta}\n",
    "$$\n",
    "\n",
    "$$\n",
    "\\vec{\\omega}\\times\\vec{r}_{moon} = (\\dot{\\theta} + \\dot{\\phi})\\left[R sin(\\theta) \\hat{m}_{r}+(R cos(\\theta) + r)\\hat{m}_{\\theta}\\right]\n",
    "$$\n",
    "\n",
    "$$\n",
    "\\boxed{\n",
    "    \\begin{align}\n",
    "        ^{N}\\vec{v}_{moon} = \\frac{^{N}d \\vec{r}_{moon}}{dt} & = \\left[R\\dot{\\phi}sin(\\theta)\\right]\\hat{m}_{r} \\nonumber \\\\\n",
    "        & + \\left[R\\dot{\\phi}cos(\\theta) +(\\dot{\\phi}+\\dot{\\theta})r\\right]\\hat{m}_{\\theta}\\nonumber\n",
    "    \\end{align}\n",
    "}\n",
    "$$\n"
   ]
  },
  {
   "cell_type": "code",
   "execution_count": null,
   "id": "5ac15673",
   "metadata": {},
   "outputs": [],
   "source": [
    "displayH(sy.Symbol(r\"\\frac{^{M}d \\vec{r}_{moon}}{dt} =\"),sy.diff(r_moon.pos_from(O),t,M))\n",
    "displayH(sy.Symbol(r\"\\vec{\\omega}\\times\\vec{r}_{moon} =\"),omega.cross(r_moon.pos_from(O)).express(M))\n",
    "v_moon = sy.diff(r_moon.pos_from(O),t,N)\n",
    "displayH(sy.Symbol(r\"\\frac{^{N}d \\vec{r}_{moon}}{dt} =\"),v_moon.express(M).simplify())"
   ]
  },
  {
   "cell_type": "markdown",
   "id": "678d1a85",
   "metadata": {},
   "source": [
    "$\\newline$\n",
    "\n",
    "##### 5. Take the inertial derivative (N) of the velocity vector.\n",
    "$$\n",
    "\\frac{^{N}d \\vec{v}_{moon}}{dt} = \\frac{^{M}d \\vec{v}_{moon}}{dt} + \\vec{\\omega}\\times\\vec{v}_{moon}\n",
    "$$\n",
    "\n",
    "$$\n",
    "\\frac{^{M}d \\vec{v}_{moon}}{dt} = \\left[R(\\ddot{\\phi}sin(\\theta)+\\dot{\\theta}\\dot{\\phi}cos(\\theta))\\right]\\hat{m}_{r} + \\left[R(\\ddot{\\phi}cos(\\theta)-\\dot{\\theta}\\dot{\\phi}sin(\\theta))+(\\ddot{\\theta}+\\ddot{\\phi})r\\right]\\hat{m}_{\\theta}\n",
    "$$\n",
    "\n",
    "$$\n",
    "\\vec{\\omega}\\times\\vec{v}_{moon} = (\\dot{\\phi} + \\dot{\\theta})\\left[-\\left(R\\dot{\\phi}cos(\\theta)+(\\dot{\\phi}+\\dot{\\theta})r\\right)\\hat{m}_{r} + R\\dot{\\phi}sin(\\theta)\\hat{m}_{\\theta}\\right]\n",
    "$$\n",
    "\n",
    "$$\n",
    "\\boxed{\n",
    "    \\begin{align}\n",
    "    ^{N}\\vec{a}_{moon} = \\frac{^{N}d \\vec{v}_{moon}}{dt} & = \n",
    "        \\left[R(\\ddot{\\phi}sin(\\theta)-\\dot{\\phi}^{2}cos(\\theta))-r(2\\dot{\\theta}\\dot{\\phi}+\\dot{\\theta}^{2}+\\dot{\\phi}^{2})\\right]\\hat{m}_{r} \\nonumber \\\\\n",
    "        & +\\left[R(\\dot{\\phi}^{2}sin(\\theta)+\\ddot{\\phi}cos(\\theta))+r(\\ddot{\\theta}+\\ddot{\\phi})\\right]\\hat{m}_{\\theta} \\nonumber\n",
    "    \\end{align}\n",
    "}\n",
    "$$\n"
   ]
  },
  {
   "cell_type": "code",
   "execution_count": null,
   "id": "f2a8ef37",
   "metadata": {},
   "outputs": [],
   "source": [
    "displayH(sy.Symbol(r\"\\frac{^{M}d \\vec{v}_{moon}}{dt} =\"),sy.diff(v_moon,t,M).simplify())\n",
    "displayH(sy.Symbol(r\"\\vec{\\omega}\\times\\vec{v}_{moon} =\"),omega.cross(v_moon).express(M).simplify())\n",
    "a_moon = sy.diff(v_moon,t,N)\n",
    "displayH(sy.Symbol(r\"\\frac{^{N}d \\vec{v}_{moon}}{dt} =\"),a_moon.express(M).simplify())"
   ]
  },
  {
   "cell_type": "markdown",
   "id": "9935bbd8",
   "metadata": {},
   "source": [
    "$\\newline$\n",
    "\n",
    "## 2. ODEs and Numerical Integration: \n",
    "\n",
    "Consider the following differential equation for the Simple Harmonic Motion (SHM):\n",
    "\n",
    "$$\n",
    "m\\ddot{x} + kx = 0\n",
    "$$\n",
    "\n",
    "This second-order differential equation has a closed form analytic solution given by,\n",
    "\n",
    "$$\n",
    "x(t) = A sin (\\omega t + \\phi) \\\\\n",
    "$$\n",
    "\n",
    "Where frequency $\\omega = \\sqrt{\\frac{k}{m}}$, and the constants A and φ are amplitude and phase angle, respectively, and are deter-\n",
    "mined using initial conditions.\n",
    "\n",
    "Given:\n",
    "* m = 1 kg.\n",
    "* k = 10 N/m.\n",
    "* Initial conditions: x(t0) = 3 m and x′(t0) = 0 m/s.\n",
    "\n",
    "Perform the following tasks:\n",
    "\n",
    "### (a) Find the exact values of x(t) over the time interval t = (0, 0.1, 0.2, . . . 10) secs using the closed form analytic solution. Plot these values.\n",
    "\n",
    "#### Solution:\n",
    "##### 1. Find the characteristic equation and roots of the differential equation.\n",
    "$$\n",
    "m\\ddot{x} + kx => ms^{2}+k=0\n",
    "$$\n",
    "$$\n",
    "s = \\sqrt{\\frac{-k}{m}} = i\\sqrt{\\frac{k}{m}}\n",
    "$$\n",
    "$$\n",
    "\\omega = imag(s)\n",
    "$$\n",
    "\n",
    "##### 2. Write the general solution to the differential equation.\n",
    "\n",
    "$$\n",
    "x(t) = A sin(\\omega t)+B cos(\\omega t)\n",
    "$$\n",
    "$$\n",
    "\\dot{x}(t) = A \\omega cos(\\omega t)-B \\omega sin(\\omega t)\n",
    "$$\n",
    "\n",
    "##### 3. Plug in known quantities to solve for coefficients, knowing that sin(0) = 0 and cos(0) = 1.\n",
    "\n",
    "$$\n",
    "x(0) = 3 = \\cancel{A sin(\\sqrt{10} (0))}+B cos(\\sqrt{10} (0)) = B\n",
    "$$\n",
    "$$\n",
    "\\dot{x}(0) = 0 = A \\sqrt{10} cos(\\sqrt{10} t)- \\cancel{B \\sqrt{10} sin(\\sqrt{10} (0))}= A\n",
    "$$\n",
    "\n",
    "##### 4. This gives us the final solution to the differential equation.\n",
    "\n",
    "$$\n",
    "\\boxed{\n",
    "    x(t) = 3cos\\left(\\sqrt{10}t\\right)=3sin\\left(\\sqrt{10}t+\\frac{\\pi}{2}\\right)\n",
    "}\n",
    "$$"
   ]
  },
  {
   "cell_type": "code",
   "execution_count": null,
   "id": "269613a3",
   "metadata": {},
   "outputs": [],
   "source": [
    "k = 10\n",
    "m = 1\n",
    "x0 = [3,0]\n",
    "\n",
    "A = 0\n",
    "B = 3\n",
    "w = (k/m)**.5\n",
    "\n",
    "def exact_x(t):\n",
    "    return A*np.sin(w*t)+B*np.cos(w*t)\n",
    "\n",
    "times = np.arange(0,10,0.1)\n",
    "plt.figure(figsize=(5,3))\n",
    "plt.plot(times,exact_x(times))\n",
    "plt.xlabel(\"Time (s)\")\n",
    "plt.ylabel(\"x (m)\")\n",
    "plt.title(r\"$Exact Solution vs Time$\")\n",
    "plt.grid()\n",
    "plt.show()"
   ]
  },
  {
   "cell_type": "markdown",
   "id": "2f4326b5",
   "metadata": {},
   "source": [
    "$\\newline$\n",
    "\n",
    "### (b) For the same time interval, numerically integrate the SHM differential equation using MATLAB’s ”ode45” function. Further, perform the integration with four different relative and absolute error tolerances: <br> 1. tol1 = 10−3 <br> 2. tol2 = 10−6 <br> 3. tol3 = 10−9 <br> 4. tol4 = 10−12 <br> This will provide you with four numerically integrated approximate solutions for x(t).\n"
   ]
  },
  {
   "cell_type": "code",
   "execution_count": 11,
   "id": "4cc146c0",
   "metadata": {},
   "outputs": [],
   "source": [
    "import scipy.integrate\n",
    "\n",
    "\n",
    "tolerances = [1e-3,1e-6,1e-9,1e-12]\n",
    "\n",
    "def dx(x,t):\n",
    "    return [x[1],-k*x[0]/m]\n",
    "\n",
    "x_list = []\n",
    "for tol in tolerances:\n",
    "    x_list.append(scipy.integrate.odeint(dx,x0,times,rtol=tol,atol=tol)[:,0])"
   ]
  },
  {
   "cell_type": "markdown",
   "id": "8b4b592f",
   "metadata": {},
   "source": [
    "$\\newline$\n",
    "\n",
    "### (c) For each of the four solutions, compute the absolute error between the exact solution and the numerically integrated solutions as follows: <br> $err(t) = |x_{num} − x_{exact}|$ <br> This will result in four sets of error values corresponding to the four numerical solutions.\n"
   ]
  },
  {
   "cell_type": "code",
   "execution_count": 12,
   "id": "9ea9ac2a",
   "metadata": {},
   "outputs": [],
   "source": [
    "error_list = [[x[idx]-exact_x(times[idx]) for idx in range(len(x))] for x in x_list]"
   ]
  },
  {
   "cell_type": "markdown",
   "id": "9f54142d",
   "metadata": {},
   "source": [
    "$\\newline$\n",
    "\n",
    "### (d) Plot the four error curves on the same graph and comment on your observations. Make sure to provide your computer program along with your solution. Hint: Since the errors between the exact and approximate solutions will be small, consider using a logarithmic scale for the y-axis on the error plot for better visualization.\n",
    "\n",
    "Note: You may use software packages other than MATLAB for this problem, as long\n",
    "as they support numerical integration with adjustable tolerances.\n"
   ]
  },
  {
   "cell_type": "code",
   "execution_count": null,
   "id": "47c95a12",
   "metadata": {},
   "outputs": [],
   "source": [
    "plt.figure(figsize=(5,3))\n",
    "plt.plot(times,exact_x(times),label=\"exact\")\n",
    "for tol,x in zip(tolerances,x_list):\n",
    "    plt.plot(times,x,label=f\"tol={tol}\")\n",
    "plt.xlabel(\"Time (s)\")\n",
    "plt.ylabel(r\"$x_{num} (m)$\")\n",
    "plt.title(\"Estimated Solution vs Time\")\n",
    "plt.legend(loc=2)\n",
    "plt.grid()\n",
    "plt.show()\n",
    "\n",
    "plt.figure(figsize=(5,3))\n",
    "for tol,errors in zip(tolerances,error_list):\n",
    "    plt.plot(times,errors,label=f\"Error: tol={tol}\")\n",
    "plt.xlabel(\"Time (s)\")\n",
    "plt.ylabel(r\"$log_{10}(err)$\")\n",
    "plt.title(\"Error vs Time\")\n",
    "plt.yscale(\"log\")\n",
    "plt.legend(loc=2)\n",
    "plt.grid()\n",
    "plt.show()"
   ]
  },
  {
   "cell_type": "markdown",
   "id": "a9ac1b23",
   "metadata": {},
   "source": [
    "$\\newline$\n",
    "\n",
    "As shown in the plot above, we see that error is sinusoidal and increases by accumulation over time. We can also see that as the tolerance decreases, the magnitude of the error decreases.\n",
    "\n",
    "From this, we can see that error is a big deal, and must be dealt with, specifically, for a spacecraft one must periodically use sensor data to correct errors in the state vector.\n",
    "\n",
    "## 3. Attitude Description:\n",
    "\n",
    "The initial (3-2-1) Euler angles are given as $(\\psi_{0}, \\theta_{0}, \\phi_{0}) = (40\\degree, 30\\degree, 80\\degree)$.\n",
    "\n",
    "Assume the angular velocity in the body-fixed frame is,\n",
    "$$\n",
    "\\vec{\\omega}(t) =\n",
    "20\\degree^{s^{-1}} \\left[\\begin{array}{ccc}\n",
    "sin (0.1t) \\\\\n",
    "0.01 \\\\\n",
    "cos (0.1t)\n",
    "\\end{array}\\right]\n",
    "$$"
   ]
  },
  {
   "cell_type": "code",
   "execution_count": 14,
   "id": "a458af1b",
   "metadata": {},
   "outputs": [],
   "source": [
    "def omega(t):\n",
    "    return 20/180*np.pi*np.array([np.sin(0.1*t),0.01,np.cos(0.1*t)])\n",
    "\n",
    "rtol = 1e-12\n",
    "atol = 1e-12\n",
    "\n",
    "times = np.arange(0,60,0.1)\n",
    "\n",
    "EA0 = np.radians(np.array([40,30,80]))\n",
    "\n",
    "psi = EA0[0]\n",
    "theta = EA0[1]\n",
    "phi = EA0[2]"
   ]
  },
  {
   "cell_type": "markdown",
   "id": "eae7570a",
   "metadata": {},
   "source": [
    "$\\newline$\n",
    "\n",
    "Perform the following tasks:\n",
    "\n",
    "### (a) Convert the initial (3-2-1) Euler angles to the corresponding quaternion vector.\n",
    "\n",
    "#### Solution:\n",
    "\n",
    "##### 1. Convert Euler angles to the associated 321 Rotation Matrix (T)\n",
    "\n",
    "$$\n",
    "T_{321} = \\left[\\begin{array}{ccc}\n",
    "c(\\theta)c(\\psi) && c(\\theta)s(\\psi) && s(\\theta) \\\\\n",
    "-c(\\phi)s(\\psi)+s(\\phi)s(\\theta)c(\\psi) && c(\\phi)c(\\psi)+s(\\phi)s(\\theta)s(\\psi) && s(\\phi)c(\\theta) \\\\\n",
    "s(\\phi)s(\\psi)+c(\\phi)s(\\theta)c(\\psi) && -s(\\phi)c(\\psi)+c(\\phi)s(\\theta)s(\\psi) && c(\\phi)c(\\theta)\n",
    "\\end{array}\\right]\n",
    "$$\n"
   ]
  },
  {
   "cell_type": "code",
   "execution_count": null,
   "id": "d88115b5",
   "metadata": {},
   "outputs": [],
   "source": [
    "T = np.array([[np.cos(theta)*np.cos(psi),np.cos(theta)*np.sin(psi),-np.sin(theta)],\n",
    "              [-np.cos(phi)*np.sin(psi)+np.sin(phi)*np.sin(theta)*np.cos(psi),np.cos(phi)*np.cos(psi)+np.sin(phi)*np.sin(theta)*np.sin(psi),np.sin(phi)*np.cos(theta)],\n",
    "              [np.sin(phi)*np.sin(psi)+np.cos(phi)*np.sin(theta)*np.cos(psi),-np.sin(phi)*np.cos(psi)+np.cos(phi)*np.sin(theta)*np.sin(psi),np.cos(phi)*np.cos(theta)]])\n",
    "\n",
    "displayH(sy.Symbol(r\"T_{321} =\"),sy.Matrix(T))"
   ]
  },
  {
   "cell_type": "markdown",
   "id": "49888c47",
   "metadata": {},
   "source": [
    "$\\newline$\n",
    "\n",
    "##### 2. Find Principal Rotation Vector ($\\hat{e}$) and Angle ($\\Psi$) \n",
    "\n",
    "$$\n",
    "\\Psi = cos^{-1}\\left(\\frac{trace(T)-1}{2}\\right)\n",
    "$$\n",
    "\n",
    "$$\n",
    "\\hat{e} = \\frac{1}{2sin(\\Psi)}\\left[\\begin{array}{ccc}\n",
    "T_{1,2}-T_{2,1} \\\\\n",
    "T_{2,0}-T_{0,2} \\\\\n",
    "T_{0,1}-T_{1,0}\n",
    "\\end{array}\\right]\n",
    "$$\n"
   ]
  },
  {
   "cell_type": "code",
   "execution_count": null,
   "id": "76edcea0",
   "metadata": {},
   "outputs": [],
   "source": [
    "PSI = np.arccos(0.5*(np.trace(T)-1))\n",
    "e = 0.5/np.sin(PSI)*np.array([T[1,2]-T[2,1],\n",
    "                              T[2,0]-T[0,2],\n",
    "                              T[0,1]-T[1,0]])\n",
    "\n",
    "displayH(sy.Symbol(r\"\\Psi =\"),np.degrees(PSI),sy.Symbol(r\"\\degree\"))\n",
    "displayH(sy.Symbol(r\"\\hat{e} =\"),sy.Matrix(e))"
   ]
  },
  {
   "cell_type": "markdown",
   "id": "f63361d0",
   "metadata": {},
   "source": [
    "$\\newline$\n",
    "\n",
    "##### 3. Find corresponding quaternion\n",
    "\n",
    "$$\n",
    "\\boxed{\n",
    "    \\vec{q} = \\left[\\begin{array}{cccc}\n",
    "    c(\\Psi/2) \\\\\n",
    "    e_{0}s(\\Psi/2) \\\\\n",
    "    e_{1}s(\\Psi/2) \\\\\n",
    "    e_{2}s(\\Psi/2)\n",
    "    \\end{array}\\right]\n",
    "}\n",
    "$$\n"
   ]
  },
  {
   "cell_type": "code",
   "execution_count": null,
   "id": "60ce06b5",
   "metadata": {},
   "outputs": [],
   "source": [
    "Q0 = np.array([np.cos(PSI/2),\n",
    "               e[0]*np.sin(PSI/2),\n",
    "               e[1]*np.sin(PSI/2),\n",
    "               e[2]*np.sin(PSI/2)])\n",
    "\n",
    "displayH(sy.Symbol(r\"\\vec{q}_{0} =\"),sy.Matrix(Q0))"
   ]
  },
  {
   "cell_type": "markdown",
   "id": "4df002d0",
   "metadata": {},
   "source": [
    "$\\newline$\n",
    "\n",
    "### (b) Write a program to numerically integrate both the (3-2-1) Euler angles and the quaternion vector over a simulation time of 1 minute. Plot the time histories.\n",
    "\n",
    "#### Solution:\n",
    "\n",
    "##### 1. Write the KDE for the (321) Euler Angles.\n",
    "\n",
    "$$\n",
    "\\left[\\begin{array}{ccc}\n",
    "\\dot{\\psi} \\\\\n",
    "\\dot{\\theta} \\\\\n",
    "\\dot{\\phi}\n",
    "\\end{array}\\right] = \n",
    "\\left[\\begin{array}{ccc}\n",
    "0 && \\frac{s(\\phi)}{c(\\theta)} && \\frac{c(\\phi)}{c(\\theta)} \\\\\n",
    "0 && c(\\phi) && -s(\\phi) \\\\\n",
    "1 && s(\\phi)t(\\theta) && c(\\phi)t(\\theta)\n",
    "\\end{array}\\right]\n",
    "\\left[\\begin{array}{ccc}\n",
    "\\omega_{0} \\\\\n",
    "\\omega_{1} \\\\\n",
    "\\omega_{2}\n",
    "\\end{array}\\right]\n",
    "$$\n"
   ]
  },
  {
   "cell_type": "code",
   "execution_count": null,
   "id": "0e3fdc36",
   "metadata": {},
   "outputs": [],
   "source": [
    "def d_EA(EA,time):\n",
    "    c = np.cos;s = np.sin;t = np.tan\n",
    "    psi = EA[0];theta = EA[1];phi = EA[2]\n",
    "    return np.array([[0,s(phi)/c(theta),c(phi)/c(theta)],\n",
    "                     [0,c(phi),-s(phi)],\n",
    "                     [1,s(phi)*t(theta),c(phi)*t(theta)]])@omega(time)\n",
    "EA = scipy.integrate.odeint(d_EA,EA0,times,rtol=rtol,atol=atol)\n",
    "fig,axes = plt.subplots(3,1,sharex=True,figsize=(5,3))\n",
    "axes[0].set_title(\"Euler Angles vs Time\")\n",
    "for idx in range(3):axes[idx].plot(times,np.degrees(EA[:,idx]));axes[idx].grid()\n",
    "axes[0].set_ylabel(r'$\\psi (t) [deg]$');axes[1].set_ylabel(r'$\\theta (t) [deg]$');axes[2].set_ylabel(r'$\\phi (t) [deg]$')\n",
    "plt.xlabel(\"Time (s)\")\n",
    "plt.show()"
   ]
  },
  {
   "cell_type": "markdown",
   "id": "9b3bb6fe",
   "metadata": {},
   "source": [
    "$\\newline$\n",
    "\n",
    "##### 2. Write the KDE for the Quaternion.\n",
    "\n",
    "$$\n",
    "\\underline{\\dot{q}} = \n",
    "\\frac{1}{2}\\left[\\begin{array}{cccc}\n",
    "q_{0} && -q_{1} && -q_{2} && -q_{3} \\\\\n",
    "q_{1} && q_{0} && -q_{3} && q_{2} \\\\\n",
    "q_{2} && q_{3} && q_{0} && -q_{1} \\\\\n",
    "q_{3} && -q_{2} && q_{1} && q_{0}\n",
    "\\end{array}\\right]\n",
    "\\left[\\begin{array}{cccc}\n",
    "0 \\\\\n",
    "\\omega_{0} \\\\\n",
    "\\omega_{1} \\\\\n",
    "\\omega_{2}\n",
    "\\end{array}\\right]\n",
    "$$\n"
   ]
  },
  {
   "cell_type": "code",
   "execution_count": null,
   "id": "f59a936e",
   "metadata": {},
   "outputs": [],
   "source": [
    "def d_Quat(Q,time):\n",
    "    A = np.array([[Q[0],-Q[1],-Q[2],-Q[3]],\n",
    "                  [Q[1],Q[0],-Q[3],Q[2]],\n",
    "                  [Q[2],Q[3],Q[0],-Q[1]],\n",
    "                  [Q[3],-Q[2],Q[1],Q[0]]])\n",
    "    return 0.5*A@np.insert(omega(time),0,0)\n",
    "\n",
    "Q = scipy.integrate.odeint(d_Quat,Q0,times,rtol=rtol,atol=atol)\n",
    "\n",
    "fig,axes = plt.subplots(4,1,sharex=True,figsize=(5,3))\n",
    "axes[0].set_title(\"Quaternion vs Time\")\n",
    "axes[0].plot(times,[q[0] for q in Q])\n",
    "axes[0].grid()\n",
    "for idx in range(1,4):\n",
    "    axes[idx].plot(times,[q[idx] for q in Q])\n",
    "    axes[idx].grid()\n",
    "axes[0].set_ylabel(r'$q_{0} (t)$')\n",
    "axes[1].set_ylabel(r'$q_{1} (t)$')\n",
    "axes[2].set_ylabel(r'$q_{2} (t)$')\n",
    "axes[3].set_ylabel(r'$q_{3} (t)$')\n",
    "plt.xlabel(\"Time (s)\")\n",
    "plt.show()"
   ]
  },
  {
   "cell_type": "markdown",
   "id": "9a590ed5",
   "metadata": {},
   "source": [
    "$\\newline$\n",
    "\n",
    "### (c) Additionally, plot the norm of the Quaternion vector at each time. Comment on these values.\n"
   ]
  },
  {
   "cell_type": "code",
   "execution_count": null,
   "id": "2adf6225",
   "metadata": {},
   "outputs": [],
   "source": [
    "plt.figure()\n",
    "plt.title(\"Quaternion Norm vs Time\")\n",
    "plt.plot(times,[np.linalg.norm(q) for q in Q])\n",
    "plt.grid()\n",
    "plt.ylabel(r'$Norm(Q) (t)$')\n",
    "plt.xlabel(\"Time (s)\")\n",
    "plt.show()"
   ]
  },
  {
   "cell_type": "markdown",
   "id": "3b40bace",
   "metadata": {},
   "source": [
    "$\\newline$\n",
    "\n",
    "We can see that the norm of the quaternion is roughly equal to 1, which is expected. However, we can also see that error starts to accumulate over time, meaning that we need an additional sensor reading to correct the orientation every once in a while.\n",
    "\n",
    "### (d) Convert the quaternion vector at the final simulation time back to the (3-2-1) Euler angles. Compare these values to the final Euler angles obtained from numerically integrating the (3-2-1) Euler angles. Are these values the same?\n",
    "\n",
    "#### Solution:\n",
    "\n",
    "##### 1. Convert the final quaternion to a dcm.\n",
    "\n",
    "$$\n",
    "T_{123} = \\left[\\begin{array}{ccc}\n",
    "1-2(q_{2}^{2}+q_{3}^{2}) && 2(q_{1}q_{2}+q_{0}q_{3}) && 2(q_{1}q_{3}-q_{0}q_{2}) \\\\\n",
    "2(q_{1}q_{2}-q_{0}q_{3}) && 1-2(q_{1}^{2}+q_{3}^{2}) && 2(q_{2}q_{3}+q_{0}q_{1}) \\\\\n",
    "2(q_{1}q_{3}+q_{0}q_{2}) && 2(q_{2}q_{3}-q_{0}q_{1}) && 1-2(q_{2}^{2}+q_{2}^{2})\n",
    "\\end{array}\\right]\n",
    "$$\n"
   ]
  },
  {
   "cell_type": "code",
   "execution_count": null,
   "id": "64f1f522",
   "metadata": {},
   "outputs": [],
   "source": [
    "w, x, y, z = Q[-1]\n",
    "xx, xy, xz, xw = x * x, x * y, x * z, x * w\n",
    "yy, yz, yw = y * y, y * z, y * w\n",
    "zz, zw = z * z, z * w\n",
    "T = np.array([\n",
    "    [1 - 2 * (yy + zz),     2 * (xy + zw),     2 * (xz - yw)],\n",
    "    [    2 * (xy - zw), 1 - 2 * (xx + zz),     2 * (yz + xw)],\n",
    "    [    2 * (xz + yw),     2 * (yz - xw), 1 - 2 * (xx + yy)]\n",
    "    ])\n",
    "displayH(sy.Symbol(r\"T_{321} =\"),sy.Matrix(T))"
   ]
  },
  {
   "cell_type": "markdown",
   "id": "ac1934b0",
   "metadata": {},
   "source": [
    "$\\newline$\n",
    "\n",
    "##### 2. Convert DCM to Euler Angles.\n",
    "\n",
    "$$\n",
    "\\left[\\begin{array}{ccc}\n",
    "\\psi \\\\\n",
    "\\theta \\\\\n",
    "\\phi\n",
    "\\end{array}\\right]\n",
    "=\n",
    "\\left[\\begin{array}{ccc}\n",
    "tan^{-1}\\left(\\frac{T_{0,1}}{T_{0,0}}\\right) \\\\\n",
    "-sin^{-1}(T_{0,2}) \\\\\n",
    "tan^{-1}\\left(\\frac{T_{1,2}}{T_{2,2}}\\right)\n",
    "\\end{array}\\right]\n",
    "$$\n"
   ]
  },
  {
   "cell_type": "code",
   "execution_count": null,
   "id": "d340a363",
   "metadata": {},
   "outputs": [],
   "source": [
    "EAf = np.array([np.arctan2(T[0,1],T[0,0]),-np.arcsin(T[0,2]),np.arctan2(T[1,2],T[2,2])])\n",
    "\n",
    "displayH(sy.Symbol(r\"\\left[\\begin{array}{ccc}\\psi_{q} \\\\ \\theta_{q} \\\\ \\phi_{q} \\end{array}\\right] =\"),sy.Matrix(EAf),sy.Symbol(r\"\\xrightarrow{wrap (2 \\pi)}\"),sy.Matrix(EAf%(2*np.pi)))\n",
    "displayH(sy.Symbol(r\"\\left[\\begin{array}{ccc}\\psi_{EA} \\\\ \\theta_{EA} \\\\ \\phi_{EA} \\end{array}\\right] =\"),sy.Matrix(EA[-1]),sy.Symbol(r\"\\xrightarrow{wrap (2 \\pi)}\"),sy.Matrix(EA[-1]%(2*np.pi)))"
   ]
  },
  {
   "cell_type": "markdown",
   "id": "16115ba7",
   "metadata": {},
   "source": [
    "Comparing the difference in the euler angles, we see that they represent the same orientation.\n"
   ]
  }
 ],
 "metadata": {
  "kernelspec": {
   "display_name": "Python 3",
   "language": "python",
   "name": "python3"
  },
  "language_info": {
   "codemirror_mode": {
    "name": "ipython",
    "version": 3
   },
   "file_extension": ".py",
   "mimetype": "text/x-python",
   "name": "python",
   "nbconvert_exporter": "python",
   "pygments_lexer": "ipython3",
   "version": "3.12.0"
  }
 },
 "nbformat": 4,
 "nbformat_minor": 5
}
