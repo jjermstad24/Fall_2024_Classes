{
 "cells": [
  {
   "cell_type": "code",
   "execution_count": 187,
   "metadata": {},
   "outputs": [],
   "source": [
    "import sympy as sy\n",
    "from sympy.physics.vector import ReferenceFrame,dynamicsymbols,Point\n",
    "from sympy.physics.mechanics import inertia\n",
    "\n",
    "import IPython\n",
    "from IPython.display import display\n",
    "\n",
    "def displayH(a1,a2='', a3='', a4='', a5='', a6='', a7='',):\n",
    "    latex_a1 = sy.latex(a1)\n",
    "    latex_a2 = sy.latex(a2)\n",
    "    latex_a3 = sy.latex(a3)\n",
    "    latex_a4 = sy.latex(a4)\n",
    "    latex_a5 = sy.latex(a5)\n",
    "    latex_a6 = sy.latex(a6)\n",
    "    latex_a7 = sy.latex(a7)\n",
    "    display( IPython.core.display.Math(latex_a1 + latex_a2 + latex_a3 + latex_a4 + latex_a5 + latex_a6 + latex_a7)  )"
   ]
  },
  {
   "cell_type": "code",
   "execution_count": 267,
   "metadata": {},
   "outputs": [],
   "source": [
    "ECI_Frame = ReferenceFrame('N')\n",
    "\n",
    "w_e = sy.Symbol(\"w_e\")\n",
    "t = sy.Symbol(\"t\")\n",
    "gamma = w_e*t\n",
    "\n",
    "ECEF_Frame = ECI_Frame.orientnew('E','Axis',[gamma,ECI_Frame.z])\n",
    "\n",
    "RAAN = dynamicsymbols(\"Omega\")\n",
    "INC = dynamicsymbols(\"i\")\n",
    "AOP = dynamicsymbols(\"omega\")\n",
    "F = dynamicsymbols(\"theta\")\n",
    "\n",
    "Perifocal_Frame = ECI_Frame.orientnew('O','Body',(RAAN,INC,AOP+F),'313')\n",
    "n = sy.Symbol(\"n\")\n",
    "Perifocal_Frame.set_ang_vel(ECI_Frame,n*Perifocal_Frame.y)\n",
    "\n",
    "Earth_Center = Point('O')\n",
    "Earth_Center.set_vel(ECI_Frame,0)\n",
    "Earth_Center.set_vel(ECEF_Frame,0)\n",
    "Earth_Center.set_vel(Perifocal_Frame,0)\n",
    "\n",
    "psi = dynamicsymbols(\"psi\")\n",
    "theta = dynamicsymbols(\"theta\")\n",
    "phi = dynamicsymbols(\"phi\")\n",
    "\n",
    "Body_Frame = Perifocal_Frame.orientnew('B','Body',(psi,theta,phi),'321')\n",
    "\n",
    "rx = dynamicsymbols(\"r_x\")\n",
    "ry = dynamicsymbols(\"r_y\")\n",
    "rz = dynamicsymbols(\"r_z\")\n",
    "R = sy.sqrt(rx**2+ry**2+rz**2)\n",
    "Body_Center = Earth_Center.locatenew(\"R_B\",R*Perifocal_Frame.y)\n",
    "Body_Center.set_vel(Body_Frame,0)\n",
    "Body_Center.set_vel(Body_Frame,0)"
   ]
  },
  {
   "cell_type": "code",
   "execution_count": 272,
   "metadata": {},
   "outputs": [
    {
     "data": {
      "text/latex": [
       "$\\displaystyle \\sqrt{r_{x}^{2}{\\left(t \\right)} + r_{y}^{2}{\\left(t \\right)} + r_{z}^{2}{\\left(t \\right)}} \\sin{\\left(\\psi{\\left(t \\right)} \\right)} \\cos{\\left(\\theta{\\left(t \\right)} \\right)}\\mathbf{\\hat{b}_x} + \\left(\\sin{\\left(\\phi{\\left(t \\right)} \\right)} \\sin{\\left(\\psi{\\left(t \\right)} \\right)} \\sin{\\left(\\theta{\\left(t \\right)} \\right)} + \\cos{\\left(\\phi{\\left(t \\right)} \\right)} \\cos{\\left(\\psi{\\left(t \\right)} \\right)}\\right) \\sqrt{r_{x}^{2}{\\left(t \\right)} + r_{y}^{2}{\\left(t \\right)} + r_{z}^{2}{\\left(t \\right)}}\\mathbf{\\hat{b}_y} + \\left(- \\sin{\\left(\\phi{\\left(t \\right)} \\right)} \\cos{\\left(\\psi{\\left(t \\right)} \\right)} + \\sin{\\left(\\psi{\\left(t \\right)} \\right)} \\sin{\\left(\\theta{\\left(t \\right)} \\right)} \\cos{\\left(\\phi{\\left(t \\right)} \\right)}\\right) \\sqrt{r_{x}^{2}{\\left(t \\right)} + r_{y}^{2}{\\left(t \\right)} + r_{z}^{2}{\\left(t \\right)}}\\mathbf{\\hat{b}_z}$"
      ],
      "text/plain": [
       "sqrt(r_x(t)**2 + r_y(t)**2 + r_z(t)**2)*sin(psi(t))*cos(theta(t))*B.x + (sin(phi(t))*sin(psi(t))*sin(theta(t)) + cos(phi(t))*cos(psi(t)))*sqrt(r_x(t)**2 + r_y(t)**2 + r_z(t)**2)*B.y + (-sin(phi(t))*cos(psi(t)) + sin(psi(t))*sin(theta(t))*cos(phi(t)))*sqrt(r_x(t)**2 + r_y(t)**2 + r_z(t)**2)*B.z"
      ]
     },
     "execution_count": 272,
     "metadata": {},
     "output_type": "execute_result"
    }
   ],
   "source": [
    "Body_Center.pos_from(Earth_Center).express(Body_Frame)"
   ]
  },
  {
   "cell_type": "code",
   "execution_count": 258,
   "metadata": {},
   "outputs": [
    {
     "data": {
      "text/latex": [
       "$\\displaystyle \\frac{3 G M \\left(- I_{2} r_{y}{\\left(t \\right)} r_{z}{\\left(t \\right)} + I_{3} r_{y}{\\left(t \\right)} r_{z}{\\left(t \\right)}\\right)}{\\left(r_{x}^{2}{\\left(t \\right)} + r_{y}^{2}{\\left(t \\right)} + r_{z}^{2}{\\left(t \\right)}\\right)^{\\frac{5}{2}}}\\mathbf{\\hat{b}_x} + \\frac{3 G M \\left(I_{1} r_{x}{\\left(t \\right)} r_{z}{\\left(t \\right)} - I_{3} r_{x}{\\left(t \\right)} r_{z}{\\left(t \\right)}\\right)}{\\left(r_{x}^{2}{\\left(t \\right)} + r_{y}^{2}{\\left(t \\right)} + r_{z}^{2}{\\left(t \\right)}\\right)^{\\frac{5}{2}}}\\mathbf{\\hat{b}_y} + \\frac{3 G M \\left(- I_{1} r_{x}{\\left(t \\right)} r_{y}{\\left(t \\right)} + I_{2} r_{x}{\\left(t \\right)} r_{y}{\\left(t \\right)}\\right)}{\\left(r_{x}^{2}{\\left(t \\right)} + r_{y}^{2}{\\left(t \\right)} + r_{z}^{2}{\\left(t \\right)}\\right)^{\\frac{5}{2}}}\\mathbf{\\hat{b}_z}\\mathtt{\\text{}}\\mathtt{\\text{}}\\mathtt{\\text{}}\\mathtt{\\text{}}\\mathtt{\\text{}}\\mathtt{\\text{}}$"
      ],
      "text/plain": [
       "<IPython.core.display.Math object>"
      ]
     },
     "metadata": {},
     "output_type": "display_data"
    },
    {
     "data": {
      "text/latex": [
       "$\\displaystyle \\frac{3 G M \\left(- \\left(I_{12} \\left(\\left(\\sin{\\left(\\phi{\\left(t \\right)} \\right)} \\sin{\\left(\\psi{\\left(t \\right)} \\right)} + \\sin{\\left(\\theta{\\left(t \\right)} \\right)} \\cos{\\left(\\phi{\\left(t \\right)} \\right)} \\cos{\\left(\\psi{\\left(t \\right)} \\right)}\\right) r_{z}{\\left(t \\right)} + \\left(\\sin{\\left(\\phi{\\left(t \\right)} \\right)} \\sin{\\left(\\theta{\\left(t \\right)} \\right)} \\cos{\\left(\\psi{\\left(t \\right)} \\right)} - \\sin{\\left(\\psi{\\left(t \\right)} \\right)} \\cos{\\left(\\phi{\\left(t \\right)} \\right)}\\right) r_{y}{\\left(t \\right)} + r_{x}{\\left(t \\right)} \\cos{\\left(\\psi{\\left(t \\right)} \\right)} \\cos{\\left(\\theta{\\left(t \\right)} \\right)}\\right) + I_{22} \\left(\\left(- \\sin{\\left(\\phi{\\left(t \\right)} \\right)} \\cos{\\left(\\psi{\\left(t \\right)} \\right)} + \\sin{\\left(\\psi{\\left(t \\right)} \\right)} \\sin{\\left(\\theta{\\left(t \\right)} \\right)} \\cos{\\left(\\phi{\\left(t \\right)} \\right)}\\right) r_{z}{\\left(t \\right)} + \\left(\\sin{\\left(\\phi{\\left(t \\right)} \\right)} \\sin{\\left(\\psi{\\left(t \\right)} \\right)} \\sin{\\left(\\theta{\\left(t \\right)} \\right)} + \\cos{\\left(\\phi{\\left(t \\right)} \\right)} \\cos{\\left(\\psi{\\left(t \\right)} \\right)}\\right) r_{y}{\\left(t \\right)} + r_{x}{\\left(t \\right)} \\sin{\\left(\\psi{\\left(t \\right)} \\right)} \\cos{\\left(\\theta{\\left(t \\right)} \\right)}\\right) + I_{23} \\left(- r_{x}{\\left(t \\right)} \\sin{\\left(\\theta{\\left(t \\right)} \\right)} + r_{y}{\\left(t \\right)} \\sin{\\left(\\phi{\\left(t \\right)} \\right)} \\cos{\\left(\\theta{\\left(t \\right)} \\right)} + r_{z}{\\left(t \\right)} \\cos{\\left(\\phi{\\left(t \\right)} \\right)} \\cos{\\left(\\theta{\\left(t \\right)} \\right)}\\right)\\right) \\left(- r_{x}{\\left(t \\right)} \\sin{\\left(\\theta{\\left(t \\right)} \\right)} + r_{y}{\\left(t \\right)} \\sin{\\left(\\phi{\\left(t \\right)} \\right)} \\cos{\\left(\\theta{\\left(t \\right)} \\right)} + r_{z}{\\left(t \\right)} \\cos{\\left(\\phi{\\left(t \\right)} \\right)} \\cos{\\left(\\theta{\\left(t \\right)} \\right)}\\right) + \\left(I_{13} \\left(\\left(\\sin{\\left(\\phi{\\left(t \\right)} \\right)} \\sin{\\left(\\psi{\\left(t \\right)} \\right)} + \\sin{\\left(\\theta{\\left(t \\right)} \\right)} \\cos{\\left(\\phi{\\left(t \\right)} \\right)} \\cos{\\left(\\psi{\\left(t \\right)} \\right)}\\right) r_{z}{\\left(t \\right)} + \\left(\\sin{\\left(\\phi{\\left(t \\right)} \\right)} \\sin{\\left(\\theta{\\left(t \\right)} \\right)} \\cos{\\left(\\psi{\\left(t \\right)} \\right)} - \\sin{\\left(\\psi{\\left(t \\right)} \\right)} \\cos{\\left(\\phi{\\left(t \\right)} \\right)}\\right) r_{y}{\\left(t \\right)} + r_{x}{\\left(t \\right)} \\cos{\\left(\\psi{\\left(t \\right)} \\right)} \\cos{\\left(\\theta{\\left(t \\right)} \\right)}\\right) + I_{23} \\left(\\left(- \\sin{\\left(\\phi{\\left(t \\right)} \\right)} \\cos{\\left(\\psi{\\left(t \\right)} \\right)} + \\sin{\\left(\\psi{\\left(t \\right)} \\right)} \\sin{\\left(\\theta{\\left(t \\right)} \\right)} \\cos{\\left(\\phi{\\left(t \\right)} \\right)}\\right) r_{z}{\\left(t \\right)} + \\left(\\sin{\\left(\\phi{\\left(t \\right)} \\right)} \\sin{\\left(\\psi{\\left(t \\right)} \\right)} \\sin{\\left(\\theta{\\left(t \\right)} \\right)} + \\cos{\\left(\\phi{\\left(t \\right)} \\right)} \\cos{\\left(\\psi{\\left(t \\right)} \\right)}\\right) r_{y}{\\left(t \\right)} + r_{x}{\\left(t \\right)} \\sin{\\left(\\psi{\\left(t \\right)} \\right)} \\cos{\\left(\\theta{\\left(t \\right)} \\right)}\\right) + I_{33} \\left(- r_{x}{\\left(t \\right)} \\sin{\\left(\\theta{\\left(t \\right)} \\right)} + r_{y}{\\left(t \\right)} \\sin{\\left(\\phi{\\left(t \\right)} \\right)} \\cos{\\left(\\theta{\\left(t \\right)} \\right)} + r_{z}{\\left(t \\right)} \\cos{\\left(\\phi{\\left(t \\right)} \\right)} \\cos{\\left(\\theta{\\left(t \\right)} \\right)}\\right)\\right) \\left(\\left(- \\sin{\\left(\\phi{\\left(t \\right)} \\right)} \\cos{\\left(\\psi{\\left(t \\right)} \\right)} + \\sin{\\left(\\psi{\\left(t \\right)} \\right)} \\sin{\\left(\\theta{\\left(t \\right)} \\right)} \\cos{\\left(\\phi{\\left(t \\right)} \\right)}\\right) r_{z}{\\left(t \\right)} + \\left(\\sin{\\left(\\phi{\\left(t \\right)} \\right)} \\sin{\\left(\\psi{\\left(t \\right)} \\right)} \\sin{\\left(\\theta{\\left(t \\right)} \\right)} + \\cos{\\left(\\phi{\\left(t \\right)} \\right)} \\cos{\\left(\\psi{\\left(t \\right)} \\right)}\\right) r_{y}{\\left(t \\right)} + r_{x}{\\left(t \\right)} \\sin{\\left(\\psi{\\left(t \\right)} \\right)} \\cos{\\left(\\theta{\\left(t \\right)} \\right)}\\right)\\right)}{\\left(\\left(\\left(\\sin{\\left(\\phi{\\left(t \\right)} \\right)} \\sin{\\left(\\psi{\\left(t \\right)} \\right)} + \\sin{\\left(\\theta{\\left(t \\right)} \\right)} \\cos{\\left(\\phi{\\left(t \\right)} \\right)} \\cos{\\left(\\psi{\\left(t \\right)} \\right)}\\right) r_{z}{\\left(t \\right)} + \\left(\\sin{\\left(\\phi{\\left(t \\right)} \\right)} \\sin{\\left(\\theta{\\left(t \\right)} \\right)} \\cos{\\left(\\psi{\\left(t \\right)} \\right)} - \\sin{\\left(\\psi{\\left(t \\right)} \\right)} \\cos{\\left(\\phi{\\left(t \\right)} \\right)}\\right) r_{y}{\\left(t \\right)} + r_{x}{\\left(t \\right)} \\cos{\\left(\\psi{\\left(t \\right)} \\right)} \\cos{\\left(\\theta{\\left(t \\right)} \\right)}\\right)^{2} + \\left(\\left(- \\sin{\\left(\\phi{\\left(t \\right)} \\right)} \\cos{\\left(\\psi{\\left(t \\right)} \\right)} + \\sin{\\left(\\psi{\\left(t \\right)} \\right)} \\sin{\\left(\\theta{\\left(t \\right)} \\right)} \\cos{\\left(\\phi{\\left(t \\right)} \\right)}\\right) r_{z}{\\left(t \\right)} + \\left(\\sin{\\left(\\phi{\\left(t \\right)} \\right)} \\sin{\\left(\\psi{\\left(t \\right)} \\right)} \\sin{\\left(\\theta{\\left(t \\right)} \\right)} + \\cos{\\left(\\phi{\\left(t \\right)} \\right)} \\cos{\\left(\\psi{\\left(t \\right)} \\right)}\\right) r_{y}{\\left(t \\right)} + r_{x}{\\left(t \\right)} \\sin{\\left(\\psi{\\left(t \\right)} \\right)} \\cos{\\left(\\theta{\\left(t \\right)} \\right)}\\right)^{2} + \\left(- r_{x}{\\left(t \\right)} \\sin{\\left(\\theta{\\left(t \\right)} \\right)} + r_{y}{\\left(t \\right)} \\sin{\\left(\\phi{\\left(t \\right)} \\right)} \\cos{\\left(\\theta{\\left(t \\right)} \\right)} + r_{z}{\\left(t \\right)} \\cos{\\left(\\phi{\\left(t \\right)} \\right)} \\cos{\\left(\\theta{\\left(t \\right)} \\right)}\\right)^{2}\\right)^{\\frac{5}{2}}}\\mathbf{\\hat{o}_x} + \\frac{3 G M \\left(\\left(I_{11} \\left(\\left(\\sin{\\left(\\phi{\\left(t \\right)} \\right)} \\sin{\\left(\\psi{\\left(t \\right)} \\right)} + \\sin{\\left(\\theta{\\left(t \\right)} \\right)} \\cos{\\left(\\phi{\\left(t \\right)} \\right)} \\cos{\\left(\\psi{\\left(t \\right)} \\right)}\\right) r_{z}{\\left(t \\right)} + \\left(\\sin{\\left(\\phi{\\left(t \\right)} \\right)} \\sin{\\left(\\theta{\\left(t \\right)} \\right)} \\cos{\\left(\\psi{\\left(t \\right)} \\right)} - \\sin{\\left(\\psi{\\left(t \\right)} \\right)} \\cos{\\left(\\phi{\\left(t \\right)} \\right)}\\right) r_{y}{\\left(t \\right)} + r_{x}{\\left(t \\right)} \\cos{\\left(\\psi{\\left(t \\right)} \\right)} \\cos{\\left(\\theta{\\left(t \\right)} \\right)}\\right) + I_{12} \\left(\\left(- \\sin{\\left(\\phi{\\left(t \\right)} \\right)} \\cos{\\left(\\psi{\\left(t \\right)} \\right)} + \\sin{\\left(\\psi{\\left(t \\right)} \\right)} \\sin{\\left(\\theta{\\left(t \\right)} \\right)} \\cos{\\left(\\phi{\\left(t \\right)} \\right)}\\right) r_{z}{\\left(t \\right)} + \\left(\\sin{\\left(\\phi{\\left(t \\right)} \\right)} \\sin{\\left(\\psi{\\left(t \\right)} \\right)} \\sin{\\left(\\theta{\\left(t \\right)} \\right)} + \\cos{\\left(\\phi{\\left(t \\right)} \\right)} \\cos{\\left(\\psi{\\left(t \\right)} \\right)}\\right) r_{y}{\\left(t \\right)} + r_{x}{\\left(t \\right)} \\sin{\\left(\\psi{\\left(t \\right)} \\right)} \\cos{\\left(\\theta{\\left(t \\right)} \\right)}\\right) + I_{13} \\left(- r_{x}{\\left(t \\right)} \\sin{\\left(\\theta{\\left(t \\right)} \\right)} + r_{y}{\\left(t \\right)} \\sin{\\left(\\phi{\\left(t \\right)} \\right)} \\cos{\\left(\\theta{\\left(t \\right)} \\right)} + r_{z}{\\left(t \\right)} \\cos{\\left(\\phi{\\left(t \\right)} \\right)} \\cos{\\left(\\theta{\\left(t \\right)} \\right)}\\right)\\right) \\left(- r_{x}{\\left(t \\right)} \\sin{\\left(\\theta{\\left(t \\right)} \\right)} + r_{y}{\\left(t \\right)} \\sin{\\left(\\phi{\\left(t \\right)} \\right)} \\cos{\\left(\\theta{\\left(t \\right)} \\right)} + r_{z}{\\left(t \\right)} \\cos{\\left(\\phi{\\left(t \\right)} \\right)} \\cos{\\left(\\theta{\\left(t \\right)} \\right)}\\right) - \\left(I_{13} \\left(\\left(\\sin{\\left(\\phi{\\left(t \\right)} \\right)} \\sin{\\left(\\psi{\\left(t \\right)} \\right)} + \\sin{\\left(\\theta{\\left(t \\right)} \\right)} \\cos{\\left(\\phi{\\left(t \\right)} \\right)} \\cos{\\left(\\psi{\\left(t \\right)} \\right)}\\right) r_{z}{\\left(t \\right)} + \\left(\\sin{\\left(\\phi{\\left(t \\right)} \\right)} \\sin{\\left(\\theta{\\left(t \\right)} \\right)} \\cos{\\left(\\psi{\\left(t \\right)} \\right)} - \\sin{\\left(\\psi{\\left(t \\right)} \\right)} \\cos{\\left(\\phi{\\left(t \\right)} \\right)}\\right) r_{y}{\\left(t \\right)} + r_{x}{\\left(t \\right)} \\cos{\\left(\\psi{\\left(t \\right)} \\right)} \\cos{\\left(\\theta{\\left(t \\right)} \\right)}\\right) + I_{23} \\left(\\left(- \\sin{\\left(\\phi{\\left(t \\right)} \\right)} \\cos{\\left(\\psi{\\left(t \\right)} \\right)} + \\sin{\\left(\\psi{\\left(t \\right)} \\right)} \\sin{\\left(\\theta{\\left(t \\right)} \\right)} \\cos{\\left(\\phi{\\left(t \\right)} \\right)}\\right) r_{z}{\\left(t \\right)} + \\left(\\sin{\\left(\\phi{\\left(t \\right)} \\right)} \\sin{\\left(\\psi{\\left(t \\right)} \\right)} \\sin{\\left(\\theta{\\left(t \\right)} \\right)} + \\cos{\\left(\\phi{\\left(t \\right)} \\right)} \\cos{\\left(\\psi{\\left(t \\right)} \\right)}\\right) r_{y}{\\left(t \\right)} + r_{x}{\\left(t \\right)} \\sin{\\left(\\psi{\\left(t \\right)} \\right)} \\cos{\\left(\\theta{\\left(t \\right)} \\right)}\\right) + I_{33} \\left(- r_{x}{\\left(t \\right)} \\sin{\\left(\\theta{\\left(t \\right)} \\right)} + r_{y}{\\left(t \\right)} \\sin{\\left(\\phi{\\left(t \\right)} \\right)} \\cos{\\left(\\theta{\\left(t \\right)} \\right)} + r_{z}{\\left(t \\right)} \\cos{\\left(\\phi{\\left(t \\right)} \\right)} \\cos{\\left(\\theta{\\left(t \\right)} \\right)}\\right)\\right) \\left(\\left(\\sin{\\left(\\phi{\\left(t \\right)} \\right)} \\sin{\\left(\\psi{\\left(t \\right)} \\right)} + \\sin{\\left(\\theta{\\left(t \\right)} \\right)} \\cos{\\left(\\phi{\\left(t \\right)} \\right)} \\cos{\\left(\\psi{\\left(t \\right)} \\right)}\\right) r_{z}{\\left(t \\right)} + \\left(\\sin{\\left(\\phi{\\left(t \\right)} \\right)} \\sin{\\left(\\theta{\\left(t \\right)} \\right)} \\cos{\\left(\\psi{\\left(t \\right)} \\right)} - \\sin{\\left(\\psi{\\left(t \\right)} \\right)} \\cos{\\left(\\phi{\\left(t \\right)} \\right)}\\right) r_{y}{\\left(t \\right)} + r_{x}{\\left(t \\right)} \\cos{\\left(\\psi{\\left(t \\right)} \\right)} \\cos{\\left(\\theta{\\left(t \\right)} \\right)}\\right)\\right)}{\\left(\\left(\\left(\\sin{\\left(\\phi{\\left(t \\right)} \\right)} \\sin{\\left(\\psi{\\left(t \\right)} \\right)} + \\sin{\\left(\\theta{\\left(t \\right)} \\right)} \\cos{\\left(\\phi{\\left(t \\right)} \\right)} \\cos{\\left(\\psi{\\left(t \\right)} \\right)}\\right) r_{z}{\\left(t \\right)} + \\left(\\sin{\\left(\\phi{\\left(t \\right)} \\right)} \\sin{\\left(\\theta{\\left(t \\right)} \\right)} \\cos{\\left(\\psi{\\left(t \\right)} \\right)} - \\sin{\\left(\\psi{\\left(t \\right)} \\right)} \\cos{\\left(\\phi{\\left(t \\right)} \\right)}\\right) r_{y}{\\left(t \\right)} + r_{x}{\\left(t \\right)} \\cos{\\left(\\psi{\\left(t \\right)} \\right)} \\cos{\\left(\\theta{\\left(t \\right)} \\right)}\\right)^{2} + \\left(\\left(- \\sin{\\left(\\phi{\\left(t \\right)} \\right)} \\cos{\\left(\\psi{\\left(t \\right)} \\right)} + \\sin{\\left(\\psi{\\left(t \\right)} \\right)} \\sin{\\left(\\theta{\\left(t \\right)} \\right)} \\cos{\\left(\\phi{\\left(t \\right)} \\right)}\\right) r_{z}{\\left(t \\right)} + \\left(\\sin{\\left(\\phi{\\left(t \\right)} \\right)} \\sin{\\left(\\psi{\\left(t \\right)} \\right)} \\sin{\\left(\\theta{\\left(t \\right)} \\right)} + \\cos{\\left(\\phi{\\left(t \\right)} \\right)} \\cos{\\left(\\psi{\\left(t \\right)} \\right)}\\right) r_{y}{\\left(t \\right)} + r_{x}{\\left(t \\right)} \\sin{\\left(\\psi{\\left(t \\right)} \\right)} \\cos{\\left(\\theta{\\left(t \\right)} \\right)}\\right)^{2} + \\left(- r_{x}{\\left(t \\right)} \\sin{\\left(\\theta{\\left(t \\right)} \\right)} + r_{y}{\\left(t \\right)} \\sin{\\left(\\phi{\\left(t \\right)} \\right)} \\cos{\\left(\\theta{\\left(t \\right)} \\right)} + r_{z}{\\left(t \\right)} \\cos{\\left(\\phi{\\left(t \\right)} \\right)} \\cos{\\left(\\theta{\\left(t \\right)} \\right)}\\right)^{2}\\right)^{\\frac{5}{2}}}\\mathbf{\\hat{o}_y} + \\frac{3 G M \\left(- \\left(I_{11} \\left(\\left(\\sin{\\left(\\phi{\\left(t \\right)} \\right)} \\sin{\\left(\\psi{\\left(t \\right)} \\right)} + \\sin{\\left(\\theta{\\left(t \\right)} \\right)} \\cos{\\left(\\phi{\\left(t \\right)} \\right)} \\cos{\\left(\\psi{\\left(t \\right)} \\right)}\\right) r_{z}{\\left(t \\right)} + \\left(\\sin{\\left(\\phi{\\left(t \\right)} \\right)} \\sin{\\left(\\theta{\\left(t \\right)} \\right)} \\cos{\\left(\\psi{\\left(t \\right)} \\right)} - \\sin{\\left(\\psi{\\left(t \\right)} \\right)} \\cos{\\left(\\phi{\\left(t \\right)} \\right)}\\right) r_{y}{\\left(t \\right)} + r_{x}{\\left(t \\right)} \\cos{\\left(\\psi{\\left(t \\right)} \\right)} \\cos{\\left(\\theta{\\left(t \\right)} \\right)}\\right) + I_{12} \\left(\\left(- \\sin{\\left(\\phi{\\left(t \\right)} \\right)} \\cos{\\left(\\psi{\\left(t \\right)} \\right)} + \\sin{\\left(\\psi{\\left(t \\right)} \\right)} \\sin{\\left(\\theta{\\left(t \\right)} \\right)} \\cos{\\left(\\phi{\\left(t \\right)} \\right)}\\right) r_{z}{\\left(t \\right)} + \\left(\\sin{\\left(\\phi{\\left(t \\right)} \\right)} \\sin{\\left(\\psi{\\left(t \\right)} \\right)} \\sin{\\left(\\theta{\\left(t \\right)} \\right)} + \\cos{\\left(\\phi{\\left(t \\right)} \\right)} \\cos{\\left(\\psi{\\left(t \\right)} \\right)}\\right) r_{y}{\\left(t \\right)} + r_{x}{\\left(t \\right)} \\sin{\\left(\\psi{\\left(t \\right)} \\right)} \\cos{\\left(\\theta{\\left(t \\right)} \\right)}\\right) + I_{13} \\left(- r_{x}{\\left(t \\right)} \\sin{\\left(\\theta{\\left(t \\right)} \\right)} + r_{y}{\\left(t \\right)} \\sin{\\left(\\phi{\\left(t \\right)} \\right)} \\cos{\\left(\\theta{\\left(t \\right)} \\right)} + r_{z}{\\left(t \\right)} \\cos{\\left(\\phi{\\left(t \\right)} \\right)} \\cos{\\left(\\theta{\\left(t \\right)} \\right)}\\right)\\right) \\left(\\left(- \\sin{\\left(\\phi{\\left(t \\right)} \\right)} \\cos{\\left(\\psi{\\left(t \\right)} \\right)} + \\sin{\\left(\\psi{\\left(t \\right)} \\right)} \\sin{\\left(\\theta{\\left(t \\right)} \\right)} \\cos{\\left(\\phi{\\left(t \\right)} \\right)}\\right) r_{z}{\\left(t \\right)} + \\left(\\sin{\\left(\\phi{\\left(t \\right)} \\right)} \\sin{\\left(\\psi{\\left(t \\right)} \\right)} \\sin{\\left(\\theta{\\left(t \\right)} \\right)} + \\cos{\\left(\\phi{\\left(t \\right)} \\right)} \\cos{\\left(\\psi{\\left(t \\right)} \\right)}\\right) r_{y}{\\left(t \\right)} + r_{x}{\\left(t \\right)} \\sin{\\left(\\psi{\\left(t \\right)} \\right)} \\cos{\\left(\\theta{\\left(t \\right)} \\right)}\\right) + \\left(I_{12} \\left(\\left(\\sin{\\left(\\phi{\\left(t \\right)} \\right)} \\sin{\\left(\\psi{\\left(t \\right)} \\right)} + \\sin{\\left(\\theta{\\left(t \\right)} \\right)} \\cos{\\left(\\phi{\\left(t \\right)} \\right)} \\cos{\\left(\\psi{\\left(t \\right)} \\right)}\\right) r_{z}{\\left(t \\right)} + \\left(\\sin{\\left(\\phi{\\left(t \\right)} \\right)} \\sin{\\left(\\theta{\\left(t \\right)} \\right)} \\cos{\\left(\\psi{\\left(t \\right)} \\right)} - \\sin{\\left(\\psi{\\left(t \\right)} \\right)} \\cos{\\left(\\phi{\\left(t \\right)} \\right)}\\right) r_{y}{\\left(t \\right)} + r_{x}{\\left(t \\right)} \\cos{\\left(\\psi{\\left(t \\right)} \\right)} \\cos{\\left(\\theta{\\left(t \\right)} \\right)}\\right) + I_{22} \\left(\\left(- \\sin{\\left(\\phi{\\left(t \\right)} \\right)} \\cos{\\left(\\psi{\\left(t \\right)} \\right)} + \\sin{\\left(\\psi{\\left(t \\right)} \\right)} \\sin{\\left(\\theta{\\left(t \\right)} \\right)} \\cos{\\left(\\phi{\\left(t \\right)} \\right)}\\right) r_{z}{\\left(t \\right)} + \\left(\\sin{\\left(\\phi{\\left(t \\right)} \\right)} \\sin{\\left(\\psi{\\left(t \\right)} \\right)} \\sin{\\left(\\theta{\\left(t \\right)} \\right)} + \\cos{\\left(\\phi{\\left(t \\right)} \\right)} \\cos{\\left(\\psi{\\left(t \\right)} \\right)}\\right) r_{y}{\\left(t \\right)} + r_{x}{\\left(t \\right)} \\sin{\\left(\\psi{\\left(t \\right)} \\right)} \\cos{\\left(\\theta{\\left(t \\right)} \\right)}\\right) + I_{23} \\left(- r_{x}{\\left(t \\right)} \\sin{\\left(\\theta{\\left(t \\right)} \\right)} + r_{y}{\\left(t \\right)} \\sin{\\left(\\phi{\\left(t \\right)} \\right)} \\cos{\\left(\\theta{\\left(t \\right)} \\right)} + r_{z}{\\left(t \\right)} \\cos{\\left(\\phi{\\left(t \\right)} \\right)} \\cos{\\left(\\theta{\\left(t \\right)} \\right)}\\right)\\right) \\left(\\left(\\sin{\\left(\\phi{\\left(t \\right)} \\right)} \\sin{\\left(\\psi{\\left(t \\right)} \\right)} + \\sin{\\left(\\theta{\\left(t \\right)} \\right)} \\cos{\\left(\\phi{\\left(t \\right)} \\right)} \\cos{\\left(\\psi{\\left(t \\right)} \\right)}\\right) r_{z}{\\left(t \\right)} + \\left(\\sin{\\left(\\phi{\\left(t \\right)} \\right)} \\sin{\\left(\\theta{\\left(t \\right)} \\right)} \\cos{\\left(\\psi{\\left(t \\right)} \\right)} - \\sin{\\left(\\psi{\\left(t \\right)} \\right)} \\cos{\\left(\\phi{\\left(t \\right)} \\right)}\\right) r_{y}{\\left(t \\right)} + r_{x}{\\left(t \\right)} \\cos{\\left(\\psi{\\left(t \\right)} \\right)} \\cos{\\left(\\theta{\\left(t \\right)} \\right)}\\right)\\right)}{\\left(\\left(\\left(\\sin{\\left(\\phi{\\left(t \\right)} \\right)} \\sin{\\left(\\psi{\\left(t \\right)} \\right)} + \\sin{\\left(\\theta{\\left(t \\right)} \\right)} \\cos{\\left(\\phi{\\left(t \\right)} \\right)} \\cos{\\left(\\psi{\\left(t \\right)} \\right)}\\right) r_{z}{\\left(t \\right)} + \\left(\\sin{\\left(\\phi{\\left(t \\right)} \\right)} \\sin{\\left(\\theta{\\left(t \\right)} \\right)} \\cos{\\left(\\psi{\\left(t \\right)} \\right)} - \\sin{\\left(\\psi{\\left(t \\right)} \\right)} \\cos{\\left(\\phi{\\left(t \\right)} \\right)}\\right) r_{y}{\\left(t \\right)} + r_{x}{\\left(t \\right)} \\cos{\\left(\\psi{\\left(t \\right)} \\right)} \\cos{\\left(\\theta{\\left(t \\right)} \\right)}\\right)^{2} + \\left(\\left(- \\sin{\\left(\\phi{\\left(t \\right)} \\right)} \\cos{\\left(\\psi{\\left(t \\right)} \\right)} + \\sin{\\left(\\psi{\\left(t \\right)} \\right)} \\sin{\\left(\\theta{\\left(t \\right)} \\right)} \\cos{\\left(\\phi{\\left(t \\right)} \\right)}\\right) r_{z}{\\left(t \\right)} + \\left(\\sin{\\left(\\phi{\\left(t \\right)} \\right)} \\sin{\\left(\\psi{\\left(t \\right)} \\right)} \\sin{\\left(\\theta{\\left(t \\right)} \\right)} + \\cos{\\left(\\phi{\\left(t \\right)} \\right)} \\cos{\\left(\\psi{\\left(t \\right)} \\right)}\\right) r_{y}{\\left(t \\right)} + r_{x}{\\left(t \\right)} \\sin{\\left(\\psi{\\left(t \\right)} \\right)} \\cos{\\left(\\theta{\\left(t \\right)} \\right)}\\right)^{2} + \\left(- r_{x}{\\left(t \\right)} \\sin{\\left(\\theta{\\left(t \\right)} \\right)} + r_{y}{\\left(t \\right)} \\sin{\\left(\\phi{\\left(t \\right)} \\right)} \\cos{\\left(\\theta{\\left(t \\right)} \\right)} + r_{z}{\\left(t \\right)} \\cos{\\left(\\phi{\\left(t \\right)} \\right)} \\cos{\\left(\\theta{\\left(t \\right)} \\right)}\\right)^{2}\\right)^{\\frac{5}{2}}}\\mathbf{\\hat{o}_z}\\mathtt{\\text{}}\\mathtt{\\text{}}\\mathtt{\\text{}}\\mathtt{\\text{}}\\mathtt{\\text{}}\\mathtt{\\text{}}$"
      ],
      "text/plain": [
       "<IPython.core.display.Math object>"
      ]
     },
     "metadata": {},
     "output_type": "display_data"
    }
   ],
   "source": [
    "R_B = Body_Center.pos_from(Earth_Center).express(Body_Frame)\n",
    "\n",
    "G = sy.Symbol(\"G\")\n",
    "M = sy.Symbol(\"M\")\n",
    "\n",
    "I1 = sy.Symbol(\"I_1\")\n",
    "I2 = sy.Symbol(\"I_2\")\n",
    "I3 = sy.Symbol(\"I_3\")\n",
    "I_B = inertia(ixx=I1,iyy=I2,izz=I3,frame=Body_Frame)\n",
    "\n",
    "Lg = 3*G*M/(sy.sqrt(R_B.dot(R_B)))**5*(R_B.cross(I_B.dot(R_B)))\n",
    "\n",
    "displayH(Lg)\n",
    "\n",
    "I11 = sy.Symbol(\"I_11\")\n",
    "I12 = sy.Symbol(\"I_12\")\n",
    "I13 = sy.Symbol(\"I_13\")\n",
    "I22 = sy.Symbol(\"I_22\")\n",
    "I23 = sy.Symbol(\"I_23\")\n",
    "I33 = sy.Symbol(\"I_33\")\n",
    "I_O = inertia(ixx=I11,iyy=I22,izz=I33,ixy=I12,iyz=I23,izx=I13,frame=Perifocal_Frame)\n",
    "\n",
    "R_O = Body_Center.pos_from(Earth_Center).express(Perifocal_Frame)\n",
    "\n",
    "Lg = 3*G*M/(sy.sqrt(R_O.dot(R_O)))**5*(R_O.cross(I_O.dot(R_O)))\n",
    "\n",
    "displayH(Lg)"
   ]
  }
 ],
 "metadata": {
  "kernelspec": {
   "display_name": "Python 3",
   "language": "python",
   "name": "python3"
  },
  "language_info": {
   "codemirror_mode": {
    "name": "ipython",
    "version": 3
   },
   "file_extension": ".py",
   "mimetype": "text/x-python",
   "name": "python",
   "nbconvert_exporter": "python",
   "pygments_lexer": "ipython3",
   "version": "3.13.0"
  }
 },
 "nbformat": 4,
 "nbformat_minor": 2
}
