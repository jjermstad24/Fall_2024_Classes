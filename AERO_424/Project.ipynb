{
 "cells": [
  {
   "cell_type": "code",
   "execution_count": 57,
   "metadata": {},
   "outputs": [],
   "source": [
    "import sympy as sy\n",
    "import numpy as np\n",
    "from sympy.physics.vector import ReferenceFrame,dynamicsymbols,Point,express\n",
    "from sympy.physics.mechanics import inertia\n",
    "from sympy.physics.vector.printing import vlatex\n",
    "\n",
    "import IPython\n",
    "from IPython.display import display\n",
    "\n",
    "def displayH(a1,a2='', a3='', a4='', a5='', a6='', a7='',):\n",
    "    latex_a1 = sy.latex(a1)\n",
    "    latex_a2 = sy.latex(a2)\n",
    "    latex_a3 = sy.latex(a3)\n",
    "    latex_a4 = sy.latex(a4)\n",
    "    latex_a5 = sy.latex(a5)\n",
    "    latex_a6 = sy.latex(a6)\n",
    "    latex_a7 = sy.latex(a7)\n",
    "    display( IPython.core.display.Math(latex_a1 + latex_a2 + latex_a3 + latex_a4 + latex_a5 + latex_a6 + latex_a7)  )"
   ]
  },
  {
   "cell_type": "code",
   "execution_count": 116,
   "metadata": {},
   "outputs": [],
   "source": [
    "ECI_Frame = ReferenceFrame('N')\n",
    "\n",
    "w_e = sy.Symbol(\"w_e\")\n",
    "t = sy.Symbol(\"t\")\n",
    "\n",
    "w_e = 7.2921159e-5\n",
    "t = 86400\n",
    "\n",
    "gamma = w_e*t\n",
    "\n",
    "ECEF_Frame = ECI_Frame.orientnew('E','Axis',[gamma,ECI_Frame.z])\n",
    "\n",
    "RAAN = dynamicsymbols(\"Omega\")\n",
    "INC = dynamicsymbols(\"i\")\n",
    "AOP = dynamicsymbols(\"omega\")\n",
    "F = dynamicsymbols(\"theta\")\n",
    "\n",
    "RAAN = 15/180*np.pi\n",
    "INC = 75/180*np.pi\n",
    "AOP = 45/180*np.pi\n",
    "F = 15/180*np.pi\n",
    "\n",
    "Perifocal_Frame = ECI_Frame.orientnew('O','Body',(RAAN,INC,AOP+F),'313')\n",
    "\n",
    "Earth_Center = Point('O')\n",
    "Earth_Center.set_vel(ECI_Frame,0)\n",
    "Earth_Center.set_vel(ECEF_Frame,0)\n",
    "Earth_Center.set_vel(Perifocal_Frame,0)\n",
    "\n",
    "psi = dynamicsymbols(\"psi\")\n",
    "theta = dynamicsymbols(\"theta\")\n",
    "phi = dynamicsymbols(\"phi\")\n",
    "\n",
    "psi = 1/180*np.pi\n",
    "theta = 1/180*np.pi\n",
    "phi = 1/180*np.pi\n",
    "\n",
    "Body_Frame = Perifocal_Frame.orientnew('B','Body',(psi,theta,phi),'321')\n",
    "\n",
    "R = sy.Symbol(\"R\")\n",
    "R = 6378+600\n",
    "V = sy.Symbol(\"V\")\n",
    "V = 7.61268398902\n",
    "Body_Center = Earth_Center.locatenew(\"R_B\",R*Perifocal_Frame.x)\n",
    "Body_Center.set_vel(Body_Frame,0)\n",
    "Body_Center.set_vel(Perifocal_Frame,V*Perifocal_Frame.y)\n",
    "\n",
    "G = sy.Symbol(\"G\")\n",
    "M = sy.Symbol(\"M\")\n",
    "\n",
    "G = (6.6743*1e-11)/1e9\n",
    "M = 5.972e24\n",
    "\n",
    "n = sy.Symbol(\"n\")\n",
    "n = sy.sqrt(G*M/R**3)\n",
    "\n",
    "Perifocal_Frame.set_ang_vel(ECI_Frame,n*Perifocal_Frame.y)"
   ]
  },
  {
   "cell_type": "code",
   "execution_count": 117,
   "metadata": {},
   "outputs": [
    {
     "data": {
      "text/latex": [
       "$\\displaystyle \\left[\\begin{matrix}1.07111484320071 \\cdot 10^{-7}\\\\1.24908205304538 \\cdot 10^{-5}\\\\6.03204185389235 \\cdot 10^{-6}\\end{matrix}\\right]\\mathtt{\\text{}}\\mathtt{\\text{}}\\mathtt{\\text{}}\\mathtt{\\text{}}\\mathtt{\\text{}}\\mathtt{\\text{}}$"
      ],
      "text/plain": [
       "<IPython.core.display.Math object>"
      ]
     },
     "metadata": {},
     "output_type": "display_data"
    },
    {
     "data": {
      "text/latex": [
       "$\\displaystyle \\left[\\begin{matrix}0\\\\1.23855308482444 \\cdot 10^{-5}\\\\6.24629689723241 \\cdot 10^{-6}\\end{matrix}\\right]\\mathtt{\\text{}}\\mathtt{\\text{}}\\mathtt{\\text{}}\\mathtt{\\text{}}\\mathtt{\\text{}}\\mathtt{\\text{}}$"
      ],
      "text/plain": [
       "<IPython.core.display.Math object>"
      ]
     },
     "metadata": {},
     "output_type": "display_data"
    },
    {
     "data": {
      "text/latex": [
       "$\\displaystyle \\left[\\begin{matrix}-9.21396088427314 \\cdot 10^{-6}\\\\-7.05582378095647 \\cdot 10^{-6}\\\\7.59841265767819 \\cdot 10^{-6}\\end{matrix}\\right]\\mathtt{\\text{}}\\mathtt{\\text{}}\\mathtt{\\text{}}\\mathtt{\\text{}}\\mathtt{\\text{}}\\mathtt{\\text{}}$"
      ],
      "text/plain": [
       "<IPython.core.display.Math object>"
      ]
     },
     "metadata": {},
     "output_type": "display_data"
    },
    {
     "data": {
      "text/latex": [
       "$\\displaystyle \\left[\\begin{matrix}-9.33397169344799 \\cdot 10^{-6}\\\\-6.8962813769984 \\cdot 10^{-6}\\\\7.59841265767808 \\cdot 10^{-6}\\end{matrix}\\right]\\mathtt{\\text{}}\\mathtt{\\text{}}\\mathtt{\\text{}}\\mathtt{\\text{}}\\mathtt{\\text{}}\\mathtt{\\text{}}$"
      ],
      "text/plain": [
       "<IPython.core.display.Math object>"
      ]
     },
     "metadata": {},
     "output_type": "display_data"
    }
   ],
   "source": [
    "R_Body = Body_Center.pos_from(Earth_Center).express(Body_Frame)\n",
    "\n",
    "I1 = sy.Symbol(\"I_1\")\n",
    "I2 = sy.Symbol(\"I_2\")\n",
    "I3 = sy.Symbol(\"I_3\")\n",
    "\n",
    "I1 = 400\n",
    "I2 = 300\n",
    "I3 = 200\n",
    "\n",
    "I_Body = inertia(ixx=I1,iyy=I2,izz=I3,frame=Body_Frame)\n",
    "\n",
    "Lg_Body = 3*G*M/R**5*(R_Body.cross(I_Body.dot(R_Body)))\n",
    "\n",
    "displayH(sy.Symbol(vlatex(Lg_Body.to_matrix(Body_Frame))))\n",
    "\n",
    "I_Perifocal = I_Body.express(Perifocal_Frame)\n",
    "\n",
    "R_Perifocal = Body_Center.pos_from(Earth_Center).express(Perifocal_Frame)\n",
    "\n",
    "Lg_O = 3*G*M/R**5*(R_Perifocal.cross(I_Perifocal.dot(R_Perifocal)))\n",
    "\n",
    "displayH(sy.Symbol(vlatex(Lg_O.to_matrix(Perifocal_Frame))))\n",
    "\n",
    "I_ECI = I_Body.express(ECI_Frame)\n",
    "\n",
    "R_ECI = Body_Center.pos_from(Earth_Center).express(ECI_Frame)\n",
    "\n",
    "Lg_ECI = 3*G*M/R**5*(R_ECI.cross(I_ECI.dot(R_ECI)))\n",
    "\n",
    "displayH(sy.Symbol(vlatex(Lg_ECI.to_matrix(ECI_Frame))))\n",
    "\n",
    "I_ECEF = I_Body.express(ECEF_Frame)\n",
    "\n",
    "R_ECEF = Body_Center.pos_from(Earth_Center).express(ECEF_Frame)\n",
    "\n",
    "Lg_ECEF = 3*G*M/R**5*(R_ECEF.cross(I_ECEF.dot(R_ECEF)))\n",
    "\n",
    "displayH(sy.Symbol(vlatex(Lg_ECEF.to_matrix(ECEF_Frame))))"
   ]
  },
  {
   "cell_type": "code",
   "execution_count": 122,
   "metadata": {},
   "outputs": [
    {
     "data": {
      "text/latex": [
       "$\\displaystyle \\left[\\begin{matrix}0\\\\0\\\\0\\end{matrix}\\right]\\mathtt{\\text{->}}0.0\\mathtt{\\text{}}\\mathtt{\\text{}}\\mathtt{\\text{}}\\mathtt{\\text{}}$"
      ],
      "text/plain": [
       "<IPython.core.display.Math object>"
      ]
     },
     "metadata": {},
     "output_type": "display_data"
    },
    {
     "data": {
      "text/latex": [
       "$\\displaystyle \\left[\\begin{matrix}0\\\\7.61268398902\\\\0\\end{matrix}\\right]\\mathtt{\\text{->}}7.61268398902\\mathtt{\\text{}}\\mathtt{\\text{}}\\mathtt{\\text{}}\\mathtt{\\text{}}$"
      ],
      "text/plain": [
       "<IPython.core.display.Math object>"
      ]
     },
     "metadata": {},
     "output_type": "display_data"
    },
    {
     "data": {
      "text/latex": [
       "$\\displaystyle \\left[\\begin{matrix}-1.88945819520424\\\\7.05155398327963\\\\-1.95611106337558\\end{matrix}\\right]\\mathtt{\\text{->}}7.55783278081697\\mathtt{\\text{}}\\mathtt{\\text{}}\\mathtt{\\text{}}\\mathtt{\\text{}}$"
      ],
      "text/plain": [
       "<IPython.core.display.Math object>"
      ]
     },
     "metadata": {},
     "output_type": "display_data"
    },
    {
     "data": {
      "text/latex": [
       "$\\displaystyle \\left[\\begin{matrix}-1.76787791718411\\\\7.08301302557493\\\\-1.95611106337558\\end{matrix}\\right]\\mathtt{\\text{->}}7.55783278081697\\mathtt{\\text{}}\\mathtt{\\text{}}\\mathtt{\\text{}}\\mathtt{\\text{}}$"
      ],
      "text/plain": [
       "<IPython.core.display.Math object>"
      ]
     },
     "metadata": {},
     "output_type": "display_data"
    }
   ],
   "source": [
    "for frame in [Body_Frame,Perifocal_Frame,ECI_Frame,ECEF_Frame]:\n",
    "    V = Body_Center.vel(frame)\n",
    "    displayH(V.to_matrix(frame),\"->\",np.linalg.norm(np.array(V.to_matrix(frame),dtype=float)))"
   ]
  }
 ],
 "metadata": {
  "kernelspec": {
   "display_name": "Python 3",
   "language": "python",
   "name": "python3"
  },
  "language_info": {
   "codemirror_mode": {
    "name": "ipython",
    "version": 3
   },
   "file_extension": ".py",
   "mimetype": "text/x-python",
   "name": "python",
   "nbconvert_exporter": "python",
   "pygments_lexer": "ipython3",
   "version": "3.13.0"
  }
 },
 "nbformat": 4,
 "nbformat_minor": 2
}
