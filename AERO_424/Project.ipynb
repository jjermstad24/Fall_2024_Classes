{
 "cells": [
  {
   "cell_type": "code",
   "execution_count": 102,
   "metadata": {},
   "outputs": [],
   "source": [
    "import sympy as sy\n",
    "from sympy.physics.vector import ReferenceFrame,dynamicsymbols,Point\n",
    "from sympy.physics.mechanics import inertia\n",
    "\n",
    "import IPython\n",
    "from IPython.display import display\n",
    "\n",
    "def displayH(a1,a2='', a3='', a4='', a5='', a6='', a7='',):\n",
    "    latex_a1 = sy.latex(a1)\n",
    "    latex_a2 = sy.latex(a2)\n",
    "    latex_a3 = sy.latex(a3)\n",
    "    latex_a4 = sy.latex(a4)\n",
    "    latex_a5 = sy.latex(a5)\n",
    "    latex_a6 = sy.latex(a6)\n",
    "    latex_a7 = sy.latex(a7)\n",
    "    display( IPython.core.display.Math(latex_a1 + latex_a2 + latex_a3 + latex_a4 + latex_a5 + latex_a6 + latex_a7)  )"
   ]
  },
  {
   "cell_type": "code",
   "execution_count": 233,
   "metadata": {},
   "outputs": [
    {
     "data": {
      "text/latex": [
       "$\\displaystyle \\left[ \\left( - \\frac{I_{w 1} \\Omega_{1}}{I_{1} - I_{2} + I_{w 1}}, \\  \\omega_{2}{\\left(t \\right)}, \\  0\\right), \\  \\left( - \\frac{I_{w 1} \\Omega_{1}}{I_{1} - I_{3} + I_{w 1}}, \\  0, \\  \\omega_{3}{\\left(t \\right)}\\right), \\  \\left( \\omega_{1}{\\left(t \\right)}, \\  0, \\  0\\right), \\  \\left( \\omega_{1}{\\left(t \\right)}, \\  0, \\  0\\right)\\right]\\mathtt{\\text{}}\\mathtt{\\text{}}\\mathtt{\\text{}}\\mathtt{\\text{}}\\mathtt{\\text{}}\\mathtt{\\text{}}$"
      ],
      "text/plain": [
       "<IPython.core.display.Math object>"
      ]
     },
     "metadata": {},
     "output_type": "display_data"
    }
   ],
   "source": [
    "t = sy.Symbol(\"t\")\n",
    "\n",
    "B = ReferenceFrame(\"B\")\n",
    "\n",
    "I1 = sy.Symbol(\"I_1\")\n",
    "I2 = sy.Symbol(\"I_2\")\n",
    "I3 = sy.Symbol(\"I_3\")\n",
    "\n",
    "I = inertia(ixx=I1,iyy=I2,izz=I3,frame=B)\n",
    "\n",
    "If1 = inertia(ixx=sy.Symbol(\"I_w_1\"),iyy=0,izz=0,frame=B)\n",
    "wf1 = sy.Symbol(\"Omega_1\")*B.x\n",
    "\n",
    "If2 = inertia(iyy=sy.Symbol(\"I_w_2\"),ixx=0,izz=0,frame=B)\n",
    "wf2 = sy.Symbol(\"Omega_2\")*B.y\n",
    "\n",
    "If3 = inertia(izz=sy.Symbol(\"I_w_3\"),iyy=0,ixx=0,frame=B)\n",
    "wf3 = sy.Symbol(\"Omega_3\")*B.z\n",
    "\n",
    "If = [If1,If2,If3]\n",
    "wf = [wf1,wf2,wf3]\n",
    "\n",
    "w1 = dynamicsymbols(\"omega_1\")\n",
    "w2 = dynamicsymbols(\"omega_2\")\n",
    "w3 = dynamicsymbols(\"omega_3\")\n",
    "\n",
    "wb = w1*B.x+w2*B.y+w3*B.z\n",
    "\n",
    "num_reaction_wheels = 1\n",
    "\n",
    "H = I.dot(wb)\n",
    "for idx in range(num_reaction_wheels):\n",
    "    H += If[idx].dot(wb+wf[idx])\n",
    "\n",
    "Hdot = sy.diff(H,t,B)+wb.cross(I.dot(wb))\n",
    "for idx in range(num_reaction_wheels):\n",
    "    Hdot += wb.cross(If[idx].dot(wb+wf[idx]))\n",
    "\n",
    "equilibrium_points = sy.solve((Hdot.subs(sy.diff(w1),0).subs(sy.diff(w2),0).subs(sy.diff(w3),0)).to_matrix(B),w1,w2,w3)\n",
    "displayH(equilibrium_points)"
   ]
  }
 ],
 "metadata": {
  "kernelspec": {
   "display_name": "Python 3",
   "language": "python",
   "name": "python3"
  },
  "language_info": {
   "codemirror_mode": {
    "name": "ipython",
    "version": 3
   },
   "file_extension": ".py",
   "mimetype": "text/x-python",
   "name": "python",
   "nbconvert_exporter": "python",
   "pygments_lexer": "ipython3",
   "version": "3.12.0"
  }
 },
 "nbformat": 4,
 "nbformat_minor": 2
}
