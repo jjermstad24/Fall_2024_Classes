{
 "cells": [
  {
   "cell_type": "raw",
   "metadata": {
    "vscode": {
     "languageId": "raw"
    }
   },
   "source": [
    "---\n",
    "title: AERO 424 Homework 1\n",
    "---"
   ]
  },
  {
   "cell_type": "code",
   "execution_count": 1,
   "metadata": {},
   "outputs": [],
   "source": [
    "import sympy as sy\n",
    "from sympy.physics.vector import ReferenceFrame,dynamicsymbols\n",
    "from sympy.physics.mechanics import inertia\n",
    "from sympy.physics.vector.printing import vpprint,vlatex\n",
    "\n",
    "import IPython\n",
    "from IPython.display import display\n",
    "\n",
    "import matplotlib.pyplot as plt\n",
    "\n",
    "import numpy as np\n",
    "\n",
    "from scipy.integrate import odeint\n",
    "\n",
    "def displayH(a1,a2='', a3='', a4='', a5='', a6='', a7='',):\n",
    "    latex_a1 = sy.latex(a1)\n",
    "    latex_a2 = sy.latex(a2)\n",
    "    latex_a3 = sy.latex(a3)\n",
    "    latex_a4 = sy.latex(a4)\n",
    "    latex_a5 = sy.latex(a5)\n",
    "    latex_a6 = sy.latex(a6)\n",
    "    latex_a7 = sy.latex(a7)\n",
    "    display( IPython.core.display.Math(latex_a1 + latex_a2 + latex_a3 + latex_a4 + latex_a5 + latex_a6 + latex_a7)  )"
   ]
  },
  {
   "cell_type": "markdown",
   "metadata": {},
   "source": [
    "## (1) Dual spin spacecraft.\n",
    "\n",
    "In class, we derived the linear stability conditions for a dual-spin spacecraft where the constant fly-wheel spin axis was aligned with $\\hat{b}_1$. For this homework problem, re-derive the linear stability conditions for the case when the fly-wheel spin axis is aligned with the third body axis, $\\hat{b}_3$."
   ]
  },
  {
   "cell_type": "code",
   "execution_count": 311,
   "metadata": {},
   "outputs": [
    {
     "name": "stdout",
     "output_type": "stream",
     "text": [
      "Using the following equilibrium points:\n"
     ]
    },
    {
     "data": {
      "text/latex": [
       "$\\displaystyle \\omega=\\left[\\begin{matrix}- \\frac{I_{f} \\Omega}{I_{1} - I_{2}}\\\\\\omega_{2}{\\left(t \\right)}\\\\0\\end{matrix}\\right]\\mathtt{\\text{}}\\mathtt{\\text{}}\\mathtt{\\text{}}\\mathtt{\\text{}}\\mathtt{\\text{}}$"
      ],
      "text/plain": [
       "<IPython.core.display.Math object>"
      ]
     },
     "metadata": {},
     "output_type": "display_data"
    },
    {
     "data": {
      "text/latex": [
       "$\\displaystyle \\mathtt{\\text{Normalizing by:  }}\\omega_{2}{\\left(t \\right)}\\mathtt{\\text{}}\\mathtt{\\text{}}\\mathtt{\\text{}}\\mathtt{\\text{}}\\mathtt{\\text{}}$"
      ],
      "text/plain": [
       "<IPython.core.display.Math object>"
      ]
     },
     "metadata": {},
     "output_type": "display_data"
    },
    {
     "data": {
      "text/latex": [
       "$\\displaystyle \\hat{\\Omega} =\\frac{\\Omega}{\\omega_{2}{\\left(t \\right)}}\\mathtt{\\text{}}\\mathtt{\\text{}}\\mathtt{\\text{}}\\mathtt{\\text{}}\\mathtt{\\text{}}$"
      ],
      "text/plain": [
       "<IPython.core.display.Math object>"
      ]
     },
     "metadata": {},
     "output_type": "display_data"
    },
    {
     "data": {
      "text/latex": [
       "$\\displaystyle \\delta\\dot{\\omega}=\\left[\\begin{matrix}\\frac{\\left(I_{2} - I_{3}\\right) \\delta\\omega_{3}{\\left(t \\right)} \\omega_{2}{\\left(t \\right)}}{I_{1}}\\\\\\frac{I_{f} \\hat{\\Omega} \\left(I_{2} - I_{3}\\right) \\delta\\omega_{3}{\\left(t \\right)} \\omega_{2}{\\left(t \\right)}}{I_{2} \\left(I_{1} - I_{2}\\right)}\\\\\\frac{\\left(I_{1} - I_{2}\\right) \\delta\\omega_{1}{\\left(t \\right)} \\omega_{2}{\\left(t \\right)}}{I_{3}}\\end{matrix}\\right]\\mathtt{\\text{}}\\mathtt{\\text{}}\\mathtt{\\text{}}\\mathtt{\\text{}}\\mathtt{\\text{}}$"
      ],
      "text/plain": [
       "<IPython.core.display.Math object>"
      ]
     },
     "metadata": {},
     "output_type": "display_data"
    },
    {
     "data": {
      "text/latex": [
       "$\\displaystyle \\delta\\ddot{\\omega}=\\left[\\begin{matrix}\\frac{\\left(I_{1} I_{2} - I_{1} I_{3} - I_{2}^{2} + I_{2} I_{3}\\right) \\delta\\omega_{1}{\\left(t \\right)} \\omega_{2}^{2}{\\left(t \\right)}}{I_{1} I_{3}}\\\\\\frac{I_{f} \\hat{\\Omega} \\left(I_{2} - I_{3}\\right) \\delta\\omega_{1}{\\left(t \\right)} \\omega_{2}^{2}{\\left(t \\right)}}{I_{2} I_{3}}\\\\\\frac{\\left(I_{1} I_{2} - I_{1} I_{3} - I_{2}^{2} + I_{2} I_{3}\\right) \\delta\\omega_{3}{\\left(t \\right)} \\omega_{2}^{2}{\\left(t \\right)}}{I_{1} I_{3}}\\end{matrix}\\right]\\mathtt{\\text{}}\\mathtt{\\text{}}\\mathtt{\\text{}}\\mathtt{\\text{}}\\mathtt{\\text{}}$"
      ],
      "text/plain": [
       "<IPython.core.display.Math object>"
      ]
     },
     "metadata": {},
     "output_type": "display_data"
    },
    {
     "name": "stdout",
     "output_type": "stream",
     "text": [
      "Using the following equilibrium points:\n"
     ]
    },
    {
     "data": {
      "text/latex": [
       "$\\displaystyle \\omega=\\left[\\begin{matrix}- \\frac{I_{f} \\Omega}{I_{1} - I_{3}}\\\\0\\\\\\omega_{3}{\\left(t \\right)}\\end{matrix}\\right]\\mathtt{\\text{}}\\mathtt{\\text{}}\\mathtt{\\text{}}\\mathtt{\\text{}}\\mathtt{\\text{}}$"
      ],
      "text/plain": [
       "<IPython.core.display.Math object>"
      ]
     },
     "metadata": {},
     "output_type": "display_data"
    },
    {
     "data": {
      "text/latex": [
       "$\\displaystyle \\mathtt{\\text{Normalizing by:  }}\\omega_{3}{\\left(t \\right)}\\mathtt{\\text{}}\\mathtt{\\text{}}\\mathtt{\\text{}}\\mathtt{\\text{}}\\mathtt{\\text{}}$"
      ],
      "text/plain": [
       "<IPython.core.display.Math object>"
      ]
     },
     "metadata": {},
     "output_type": "display_data"
    },
    {
     "data": {
      "text/latex": [
       "$\\displaystyle \\hat{\\Omega} =\\frac{\\Omega}{\\omega_{3}{\\left(t \\right)}}\\mathtt{\\text{}}\\mathtt{\\text{}}\\mathtt{\\text{}}\\mathtt{\\text{}}\\mathtt{\\text{}}$"
      ],
      "text/plain": [
       "<IPython.core.display.Math object>"
      ]
     },
     "metadata": {},
     "output_type": "display_data"
    },
    {
     "data": {
      "text/latex": [
       "$\\displaystyle \\delta\\dot{\\omega}=\\left[\\begin{matrix}\\frac{\\left(I_{2} - I_{3}\\right) \\delta\\omega_{2}{\\left(t \\right)} \\omega_{3}{\\left(t \\right)}}{I_{1}}\\\\\\frac{\\left(- I_{1} + I_{3}\\right) \\delta\\omega_{1}{\\left(t \\right)} \\omega_{3}{\\left(t \\right)}}{I_{2}}\\\\\\frac{I_{f} \\hat{\\Omega} \\left(I_{2} - I_{3}\\right) \\delta\\omega_{2}{\\left(t \\right)} \\omega_{3}{\\left(t \\right)}}{I_{3} \\left(I_{1} - I_{3}\\right)}\\end{matrix}\\right]\\mathtt{\\text{}}\\mathtt{\\text{}}\\mathtt{\\text{}}\\mathtt{\\text{}}\\mathtt{\\text{}}$"
      ],
      "text/plain": [
       "<IPython.core.display.Math object>"
      ]
     },
     "metadata": {},
     "output_type": "display_data"
    },
    {
     "data": {
      "text/latex": [
       "$\\displaystyle \\delta\\ddot{\\omega}=\\left[\\begin{matrix}\\frac{\\left(- I_{1} I_{2} + I_{1} I_{3} + I_{2} I_{3} - I_{3}^{2}\\right) \\delta\\omega_{1}{\\left(t \\right)} \\omega_{3}^{2}{\\left(t \\right)}}{I_{1} I_{2}}\\\\\\frac{\\left(- I_{1} I_{2} + I_{1} I_{3} + I_{2} I_{3} - I_{3}^{2}\\right) \\delta\\omega_{2}{\\left(t \\right)} \\omega_{3}^{2}{\\left(t \\right)}}{I_{1} I_{2}}\\\\\\frac{I_{f} \\hat{\\Omega} \\left(- I_{2} + I_{3}\\right) \\delta\\omega_{1}{\\left(t \\right)} \\omega_{3}^{2}{\\left(t \\right)}}{I_{2} I_{3}}\\end{matrix}\\right]\\mathtt{\\text{}}\\mathtt{\\text{}}\\mathtt{\\text{}}\\mathtt{\\text{}}\\mathtt{\\text{}}$"
      ],
      "text/plain": [
       "<IPython.core.display.Math object>"
      ]
     },
     "metadata": {},
     "output_type": "display_data"
    },
    {
     "name": "stdout",
     "output_type": "stream",
     "text": [
      "Using the following equilibrium points:\n"
     ]
    },
    {
     "data": {
      "text/latex": [
       "$\\displaystyle \\omega=\\left[\\begin{matrix}\\omega_{1}{\\left(t \\right)}\\\\0\\\\0\\end{matrix}\\right]\\mathtt{\\text{}}\\mathtt{\\text{}}\\mathtt{\\text{}}\\mathtt{\\text{}}\\mathtt{\\text{}}$"
      ],
      "text/plain": [
       "<IPython.core.display.Math object>"
      ]
     },
     "metadata": {},
     "output_type": "display_data"
    },
    {
     "data": {
      "text/latex": [
       "$\\displaystyle \\mathtt{\\text{Normalizing by:  }}\\omega_{1}{\\left(t \\right)}\\mathtt{\\text{}}\\mathtt{\\text{}}\\mathtt{\\text{}}\\mathtt{\\text{}}\\mathtt{\\text{}}$"
      ],
      "text/plain": [
       "<IPython.core.display.Math object>"
      ]
     },
     "metadata": {},
     "output_type": "display_data"
    },
    {
     "data": {
      "text/latex": [
       "$\\displaystyle \\hat{\\Omega} =\\frac{\\Omega}{\\omega_{1}{\\left(t \\right)}}\\mathtt{\\text{}}\\mathtt{\\text{}}\\mathtt{\\text{}}\\mathtt{\\text{}}\\mathtt{\\text{}}$"
      ],
      "text/plain": [
       "<IPython.core.display.Math object>"
      ]
     },
     "metadata": {},
     "output_type": "display_data"
    },
    {
     "data": {
      "text/latex": [
       "$\\displaystyle \\delta\\dot{\\omega}=\\left[\\begin{matrix}0\\\\\\frac{\\left(- I_{1} + I_{3} - I_{f} \\hat{\\Omega}\\right) \\delta\\omega_{3}{\\left(t \\right)} \\omega_{1}{\\left(t \\right)}}{I_{2}}\\\\\\frac{\\left(I_{1} - I_{2} + I_{f} \\hat{\\Omega}\\right) \\delta\\omega_{2}{\\left(t \\right)} \\omega_{1}{\\left(t \\right)}}{I_{3}}\\end{matrix}\\right]\\mathtt{\\text{}}\\mathtt{\\text{}}\\mathtt{\\text{}}\\mathtt{\\text{}}\\mathtt{\\text{}}$"
      ],
      "text/plain": [
       "<IPython.core.display.Math object>"
      ]
     },
     "metadata": {},
     "output_type": "display_data"
    },
    {
     "data": {
      "text/latex": [
       "$\\displaystyle \\delta\\ddot{\\omega}=\\left[\\begin{matrix}0\\\\\\frac{\\left(- I_{1} + I_{3} - I_{f} \\hat{\\Omega}\\right) \\left(I_{1} - I_{2} + I_{f} \\hat{\\Omega}\\right) \\delta\\omega_{2}{\\left(t \\right)} \\omega_{1}^{2}{\\left(t \\right)}}{I_{2} I_{3}}\\\\\\frac{\\left(- I_{1} + I_{2} - I_{f} \\hat{\\Omega}\\right) \\left(I_{1} - I_{3} + I_{f} \\hat{\\Omega}\\right) \\delta\\omega_{3}{\\left(t \\right)} \\omega_{1}^{2}{\\left(t \\right)}}{I_{2} I_{3}}\\end{matrix}\\right]\\mathtt{\\text{}}\\mathtt{\\text{}}\\mathtt{\\text{}}\\mathtt{\\text{}}\\mathtt{\\text{}}$"
      ],
      "text/plain": [
       "<IPython.core.display.Math object>"
      ]
     },
     "metadata": {},
     "output_type": "display_data"
    },
    {
     "name": "stdout",
     "output_type": "stream",
     "text": [
      "Stability Equations\n"
     ]
    },
    {
     "data": {
      "text/latex": [
       "$\\displaystyle \\ddot{\\delta\\omega}_{2}\\mathtt{\\text{=}}k\\delta\\omega_{2}\\rightarrow k=\\frac{\\left(- I_{1} + I_{3} - I_{f} \\hat{\\Omega}\\right) \\left(I_{1} - I_{2} + I_{f} \\hat{\\Omega}\\right) \\omega_{1}^{2}{\\left(t \\right)}}{I_{2} I_{3}}>0$"
      ],
      "text/plain": [
       "<IPython.core.display.Math object>"
      ]
     },
     "metadata": {},
     "output_type": "display_data"
    },
    {
     "data": {
      "text/latex": [
       "$\\displaystyle \\hat{\\Omega}_1 =\\frac{- I_{1} + I_{3}}{I_{f}}\\mathtt{\\text{}}\\mathtt{\\text{}}\\mathtt{\\text{}}\\mathtt{\\text{}}\\mathtt{\\text{}}$"
      ],
      "text/plain": [
       "<IPython.core.display.Math object>"
      ]
     },
     "metadata": {},
     "output_type": "display_data"
    },
    {
     "data": {
      "text/latex": [
       "$\\displaystyle \\hat{\\Omega}_2 =\\frac{- I_{1} + I_{2}}{I_{f}}\\mathtt{\\text{}}\\mathtt{\\text{}}\\mathtt{\\text{}}\\mathtt{\\text{}}\\mathtt{\\text{}}$"
      ],
      "text/plain": [
       "<IPython.core.display.Math object>"
      ]
     },
     "metadata": {},
     "output_type": "display_data"
    },
    {
     "data": {
      "image/png": "[encoded data removed]",
      "text/plain": [
       "<Figure size 640x480 with 1 Axes>"
      ]
     },
     "metadata": {},
     "output_type": "display_data"
    }
   ],
   "source": [
    "t = sy.Symbol(\"t\")\n",
    "\n",
    "B = ReferenceFrame(\"B\")\n",
    "\n",
    "I1 = sy.Symbol(\"I_1\")\n",
    "I2 = sy.Symbol(\"I_2\")\n",
    "I3 = sy.Symbol(\"I_3\")\n",
    "\n",
    "I = inertia(ixx=I1,iyy=I2,izz=I3,frame=B)\n",
    "\n",
    "If = inertia(ixx=sy.Symbol(\"I_f\"),iyy=0,izz=0,frame=B)\n",
    "wf = sy.Symbol(\"Omega\")*B.x\n",
    "\n",
    "# If = inertia(ixx=0,iyy=sy.Symbol(\"I_f\"),izz=0,frame=B)\n",
    "# wf = sy.Symbol(\"Omega\")*B.y\n",
    "\n",
    "# If = inertia(ixx=0,iyy=0,izz=sy.Symbol(\"I_f\"),frame=B)\n",
    "# wf = sy.Symbol(\"Omega\")*B.z\n",
    "\n",
    "w1 = dynamicsymbols(\"omega_1\")\n",
    "w2 = dynamicsymbols(\"omega_2\")\n",
    "w3 = dynamicsymbols(\"omega_3\")\n",
    "\n",
    "wb = w1*B.x+w2*B.y+w3*B.z\n",
    "\n",
    "H = I.dot(wb)+If.dot(wf)\n",
    "H_dot = sy.diff(H,t,B)+wb.cross(H)\n",
    "\n",
    "omega_dot = sy.solve(H_dot.to_matrix(B),[sy.diff(w1),sy.diff(w2),sy.diff(w3)])\n",
    "\n",
    "omega_dot_vector = 0\n",
    "for key,direction in zip(omega_dot,[B.x,B.y,B.z]):\n",
    "    omega_dot_vector += omega_dot[key]*direction\n",
    "\n",
    "omega_eq = sy.solve(omega_dot_vector.to_matrix(B),[w1,w2,w3])\n",
    "\n",
    "delta_omega = dynamicsymbols(r\"\\delta\\omega_1\")*B.x+dynamicsymbols(r\"\\delta\\omega_2\")*B.y+dynamicsymbols(r\"\\delta\\omega_3\")*B.z\n",
    "\n",
    "for sol in omega_eq:\n",
    "    print(\"Using the following equilibrium points:\")\n",
    "    displayH(sy.Symbol(r\"\\omega=\"),sy.Matrix(sol))\n",
    "\n",
    "    omega = (sol[0]*B.x+sol[1]*B.y+sol[2]*B.z+delta_omega).to_matrix(B)\n",
    "    eq = omega_dot_vector.subs(w1,omega[0]).subs(w2,omega[1]).subs(w3,omega[2])\n",
    "    eq = eq.to_matrix(B).expand()\n",
    "\n",
    "    # Ignoring delta product terms\n",
    "    for s1 in [dynamicsymbols(r\"\\delta\\omega_1\"),dynamicsymbols(r\"\\delta\\omega_2\"),dynamicsymbols(r\"\\delta\\omega_3\")]:\n",
    "        for s2 in [dynamicsymbols(r\"\\delta\\omega_1\"),dynamicsymbols(r\"\\delta\\omega_2\"),dynamicsymbols(r\"\\delta\\omega_3\")]:\n",
    "            eq = eq.subs(s1*s2,0)\n",
    "\n",
    "    stable_system = 0\n",
    "    for piece,direction in zip(eq,[B.x,B.y,B.z]):\n",
    "        stable_system+=piece*direction\n",
    "    stable_system_dot = sy.diff(stable_system,t,B)\n",
    "    stable_system_dot = stable_system_dot.subs(sy.diff(w1),0).subs(sy.diff(w2),0).subs(sy.diff(w3),0)\n",
    "    \n",
    "    for w,piece in zip([dynamicsymbols(r\"\\delta\\omega_1\"),dynamicsymbols(r\"\\delta\\omega_2\"),dynamicsymbols(r\"\\delta\\omega_3\")],eq):\n",
    "        stable_system_dot = stable_system_dot.subs(sy.diff(w),piece)\n",
    "\n",
    "    for i in sol:\n",
    "        for o in [w1,w2,w3]:\n",
    "            if i == o:\n",
    "                displayH(\"Normalizing by:  \",i)\n",
    "                displayH(sy.Symbol(r\"\\hat{\\Omega} =\"),sy.Symbol(r\"\\Omega\")/i)\n",
    "                stable_system = stable_system.subs(sy.Symbol(\"Omega\"),sy.Symbol(r\"\\hat{\\Omega}\")*i)\n",
    "                stable_system_dot = stable_system_dot.subs(sy.Symbol(\"Omega\"),sy.Symbol(r\"\\hat{\\Omega}\")*i)\n",
    "                break\n",
    "\n",
    "    stable_system = stable_system.simplify()\n",
    "    stable_system_dot = stable_system_dot.simplify()\n",
    "\n",
    "    displayH(sy.Symbol(r\"\\delta\\dot{\\omega}=\"),stable_system.to_matrix(B))\n",
    "    displayH(sy.Symbol(r\"\\delta\\ddot{\\omega}=\"),stable_system_dot.to_matrix(B))\n",
    "\n",
    "    if np.count_nonzero(sol) == 1:\n",
    "        print(\"Stability Equations\")\n",
    "        for line in stable_system_dot.to_matrix(B):\n",
    "            for s in [dynamicsymbols(r\"\\delta\\omega_1\"),dynamicsymbols(r\"\\delta\\omega_2\"),dynamicsymbols(r\"\\delta\\omega_3\")]:\n",
    "                val = line.coeff(s)\n",
    "                if val != 0:\n",
    "                    displayH(sy.Symbol(vlatex(sy.diff(sy.diff(s)))),\"=\",sy.Symbol(\"k\"),sy.Symbol(vlatex(s)),sy.Symbol(r\"\\rightarrow k=\"),val,sy.Symbol(\">0\"))\n",
    "                    break\n",
    "            else:\n",
    "                continue\n",
    "            break\n",
    "        o2,o1 = sy.solve(val,sy.Symbol(r\"\\hat{\\Omega}\"))\n",
    "        displayH(sy.Symbol(r\"\\hat{\\Omega}_1 =\"),o1)\n",
    "        displayH(sy.Symbol(r\"\\hat{\\Omega}_2 =\"),o2)\n",
    "\n",
    "        plt.figure()\n",
    "        s1 = float(o1.subs(I1,3).subs(I2,2).subs(I3,1).subs(sy.Symbol(\"I_f\"),1))\n",
    "        s2 = float(o2.subs(I1,3).subs(I2,2).subs(I3,1).subs(sy.Symbol(\"I_f\"),1))\n",
    "\n",
    "        plt.plot(2*[s1],[.75,1.25],color=\"black\",linestyle=\"dashed\")\n",
    "        plt.plot(2*[s2],[.75,1.25],color=\"black\",linestyle=\"dashed\")\n",
    "        plt.annotate(r\"$\\hat{\\Omega}_1$\",(s1-0.25,0.5))\n",
    "        plt.annotate(r\"$\\hat{\\Omega}_2$\",(s2-0.25,0.5))\n",
    "        w = np.linspace(-5,5,1000)\n",
    "        \n",
    "        # SC 1\n",
    "        sc1 = np.array([o > s1 and o > s2 for o in w])\n",
    "        plt.fill_between(w[sc1],y1=len(w[sc1])*[0.75],y2=len(w[sc1])*[1.25],color=\"yellow\",label=\"SC 1\",linewidth=0)\n",
    "        # SC 2\n",
    "        sc2 = np.array([o < s1 and o < s2 for o in w])\n",
    "        plt.fill_between(w[sc2],y1=len(w[sc2])*[0.75],y2=len(w[sc2])*[1.25],color=\"deepskyblue\",label=\"SC 2\",linewidth=0)\n",
    "        # Unstable\n",
    "        unstable = ~(sc1|sc2)\n",
    "        plt.fill_between(w[unstable],y1=len(w[unstable])*[0.75],y2=len(w[unstable])*[1.25],color=\"red\",label=\"Unstable\",linewidth=0)\n",
    "\n",
    "        s1 = float(o1.subs(I1,2).subs(I2,3).subs(I3,1).subs(sy.Symbol(\"I_f\"),1))\n",
    "        s2 = float(o2.subs(I1,2).subs(I2,3).subs(I3,1).subs(sy.Symbol(\"I_f\"),1))\n",
    "\n",
    "        plt.plot(2*[s1],[1.75,2.25],color=\"black\",linestyle=\"dashed\")\n",
    "        plt.plot(2*[s2],[1.75,2.25],color=\"black\",linestyle=\"dashed\")\n",
    "        plt.annotate(r\"$\\hat{\\Omega}_1$\",(s1-0.25,1.5))\n",
    "        plt.annotate(r\"$\\hat{\\Omega}_2$\",(s2-0.25,1.5))\n",
    "        \n",
    "        # SC 1\n",
    "        sc1 = np.array([o > s1 and o > s2 for o in w])\n",
    "        plt.fill_between(w[sc1],y1=len(w[sc1])*[1.75],y2=len(w[sc1])*[2.25],color=\"yellow\",linewidth=0)\n",
    "        # SC 2\n",
    "        sc2 = np.array([o < s1 and o < s2 for o in w])\n",
    "        plt.fill_between(w[sc2],y1=len(w[sc2])*[1.75],y2=len(w[sc2])*[2.25],color=\"deepskyblue\",linewidth=0)\n",
    "        # Unstable\n",
    "        unstable = ~(sc1|sc2)\n",
    "        plt.fill_between(w[unstable],y1=len(w[unstable])*[1.75],y2=len(w[unstable])*[2.25],color=\"red\",linewidth=0)\n",
    "\n",
    "        s1 = float(o1.subs(I1,1).subs(I2,2).subs(I3,3).subs(sy.Symbol(\"I_f\"),1))\n",
    "        s2 = float(o2.subs(I1,1).subs(I2,2).subs(I3,3).subs(sy.Symbol(\"I_f\"),1))\n",
    "\n",
    "        plt.plot(2*[s1],[2.75,3.25],color=\"black\",linestyle=\"dashed\")\n",
    "        plt.plot(2*[s2],[2.75,3.25],color=\"black\",linestyle=\"dashed\")\n",
    "        plt.annotate(r\"$\\hat{\\Omega}_1$\",(s1-0.25,2.5))\n",
    "        plt.annotate(r\"$\\hat{\\Omega}_2$\",(s2-0.25,2.5))\n",
    "\n",
    "        # SC 1\n",
    "        sc1 = np.array([o > s1 and o > s2 for o in w])\n",
    "        plt.fill_between(w[sc1],y1=len(w[sc1])*[2.75],y2=len(w[sc1])*[3.25],color=\"yellow\",linewidth=0)\n",
    "        # SC 2\n",
    "        sc2 = np.array([o < s1 and o < s2 for o in w])\n",
    "        plt.fill_between(w[sc2],y1=len(w[sc2])*[2.75],y2=len(w[sc2])*[3.25],color=\"deepskyblue\",linewidth=0)\n",
    "        # Unstable\n",
    "        unstable = ~(sc1|sc2)\n",
    "        plt.fill_between(w[unstable],y1=len(w[unstable])*[2.75],y2=len(w[unstable])*[3.25],color=\"red\",linewidth=0)\n",
    "\n",
    "        plt.axvline(x=0,linestyle=\"dotted\",color=\"black\")\n",
    "\n",
    "        plt.title(\"Stability Conditions for Various Inertia Cases\")\n",
    "        plt.annotate(f\"{r\"$\\hat{\\Omega}_1$\"} = ${o1}$\",(-5,3.75))\n",
    "        plt.annotate(f\"{r\"$\\hat{\\Omega}_2$\"} = ${o2}$\",(-5,3.5))\n",
    "        plt.plot([-2.25,-5.25,-5.25,-2.25,-2.25],[4,4,3.4,3.4,4],color=\"black\")\n",
    "        plt.yticks([1,2,3],[r\"$I_1>I_2>I_3$\",r\"$I_2>I_1>I_3$\",r\"$I_3>I_2>I_1$\"])\n",
    "        plt.ylim([0,4])\n",
    "        plt.ylabel(\"Case\")\n",
    "        # plt.xticks([0])\n",
    "        plt.xlabel(r\"$\\hat{\\Omega}$\")\n",
    "        plt.legend()\n",
    "        plt.show()"
   ]
  },
  {
   "cell_type": "markdown",
   "metadata": {},
   "source": [
    "$\\newline$\n",
    "\n",
    "## (3) Gravity-gradient stability simulation.\n",
    "The linearized equations of motion for the gravity-gradient satellite derived in class\n",
    "are as follows:\n",
    "\n",
    "$$\n",
    "\\ddot{\\theta} + 3n^2 \\left( \\frac{I_1 - I_3}{I_2} \\right) \\theta = 0 \n",
    "\\quad \\text{...for the pitch angle}\n",
    "$$\n",
    "\n",
    "$$\n",
    "\\begin{pmatrix}\n",
    "\\dot{\\phi} \\\\\n",
    "\\dot{\\psi}\n",
    "\\end{pmatrix}\n",
    "+ \n",
    "\\begin{bmatrix}\n",
    "0 & 0 \\\\\n",
    "n(k_R - 1) & n(1 - k_Y)\n",
    "\\end{bmatrix}\n",
    "\\begin{pmatrix}\n",
    "\\phi \\\\\n",
    "\\psi\n",
    "\\end{pmatrix}\n",
    "+\n",
    "\\begin{bmatrix}\n",
    "4n^2 k_Y & 0 \\\\\n",
    "0 & n^2 k_R\n",
    "\\end{bmatrix}\n",
    "\\begin{pmatrix}\n",
    "\\phi \\\\\n",
    "\\psi\n",
    "\\end{pmatrix}\n",
    "= \n",
    "\\begin{pmatrix}\n",
    "0 \\\\\n",
    "0\n",
    "\\end{pmatrix}\n",
    "\\quad \\text{...for the roll-yaw angles}\n",
    "$$\n",
    "\n",
    "where,\n",
    "\n",
    "$$\n",
    "k_R = \\frac{I_2 - I_1}{I_3}, \\quad\n",
    "k_Y = \\frac{I_2 - I_3}{I_1}, \\quad\n",
    "n = \\text{mean motion}\n",
    "$$\n",
    "\n",
    "A satellite is in a 7000 km circular orbit around the Earth ($\\mu = 398600.4418 \\, \\text{km}^3/\\text{s}^2$).The initial conditions for the Euler angles and the Euler angle rates are:\n",
    "\n",
    "$(\\phi_0, \\theta_0, \\psi_0) = (30^\\circ, 20^\\circ, 10^\\circ) \\quad \\text{and} \\quad (\\dot{\\phi}_0, \\dot{\\theta}_0, \\dot{\\psi}_0) = (0, 0, 0) \\, \\text{rad/s}$.\n",
    "\n",
    "Further, the following three sets of initial conditions for the moment of inertia matrix are given:\n",
    "\n",
    "$$\n",
    "I_{I} = \n",
    "\\begin{bmatrix}\n",
    "I_1 & 0 & 0 \\\\\n",
    "0 & I_2 & 0 \\\\\n",
    "0 & 0 & I_3\n",
    "\\end{bmatrix}\n",
    "=\n",
    "\\begin{bmatrix}\n",
    "I_{\\text{BIG}} & 0 & 0 \\\\\n",
    "0 & I_{\\text{Inter}} & 0 \\\\\n",
    "0 & 0 & I_{\\text{small}}\n",
    "\\end{bmatrix}\n",
    "$$\n",
    "\n",
    "$$\n",
    "I_{II} = \n",
    "\\begin{bmatrix}\n",
    "I_1 & 0 & 0 \\\\\n",
    "0 & I_2 & 0 \\\\\n",
    "0 & 0 & I_3\n",
    "\\end{bmatrix}\n",
    "=\n",
    "\\begin{bmatrix}\n",
    "I_{\\text{Inter}} & 0 & 0 \\\\\n",
    "0 & I_{\\text{BIG}} & 0 \\\\\n",
    "0 & 0 & I_{\\text{small}}\n",
    "\\end{bmatrix}\n",
    "$$\n",
    "\n",
    "$$\n",
    "I_{III} = \n",
    "\\begin{bmatrix}\n",
    "I_1 & 0 & 0 \\\\\n",
    "0 & I_2 & 0 \\\\\n",
    "0 & 0 & I_3\n",
    "\\end{bmatrix}\n",
    "=\n",
    "\\begin{bmatrix}\n",
    "I_{\\text{small}} & 0 & 0 \\\\\n",
    "0 & I_{\\text{Inter}} & 0 \\\\\n",
    "0 & 0 & I_{\\text{BIG}}\n",
    "\\end{bmatrix}\n",
    "$$\n",
    "\n",
    "where,\n",
    "\n",
    "$$\n",
    "I_{\\text{BIG}} = 400 \\, \\text{kg m}^2, \\\\\n",
    "I_{\\text{Inter}} = 300 \\, \\text{kg m}^2, \\\\\n",
    "I_{\\text{small}} = 200 \\, \\text{kg m}^2.\n",
    "$$"
   ]
  },
  {
   "cell_type": "code",
   "execution_count": 5,
   "metadata": {},
   "outputs": [],
   "source": [
    "mu = 398600.4418\n",
    "a = 7000\n",
    "x0 = np.radians([30,20,10,0,0,0])\n",
    "\n",
    "I_big = 400\n",
    "I_inter = 300\n",
    "I_small = 200\n",
    "\n",
    "I1 = [I_big,I_inter,I_small]\n",
    "I2 = [I_inter,I_big,I_small]\n",
    "I3 = [I_small,I_inter,I_big]\n",
    "\n",
    "def gravity_gradient(x,t,mu,a,I):\n",
    "    n = (mu/a**3)**0.5\n",
    "    k_R = (I[1]-I[0])/I[2]\n",
    "    k_Y = (I[1]-I[2])/I[0]\n",
    "    return [x[3],\n",
    "            x[4],\n",
    "            x[5],\n",
    "            -n*(1-k_Y)*x[5]-4*n**2*k_Y*x[0],\n",
    "            -3*n**2*(I[0]-I[2])/I[1]*x[1],\n",
    "            -n*(k_R-1)*x[3]-n**2*k_R*x[2]]\n",
    "\n",
    "times = np.arange(0,10000,0.1)\n",
    "tol = 1e-12\n",
    "\n",
    "x1 = np.degrees(odeint(gravity_gradient,x0,times,rtol=tol,atol=tol,args=(mu,a,I1)).T)\n",
    "x2 = np.degrees(odeint(gravity_gradient,x0,times,rtol=tol,atol=tol,args=(mu,a,I2)).T)\n",
    "x3 = np.degrees(odeint(gravity_gradient,x0,times,rtol=tol,atol=tol,args=(mu,a,I3)).T)"
   ]
  },
  {
   "cell_type": "code",
   "execution_count": 6,
   "metadata": {},
   "outputs": [
    {
     "data": {
      "image/png": "[encoded data removed]",
      "text/plain": [
       "<Figure size 500x300 with 18 Axes>"
      ]
     },
     "metadata": {},
     "output_type": "display_data"
    }
   ],
   "source": [
    "fig,axes = plt.subplots(6,3,sharex=True,figsize=(5,3))\n",
    "axes[0,1].set_title(r\"$\\vec{x}$ vs Time\")\n",
    "for i in range(6):\n",
    "    for j,x in enumerate([x1,x2,x3]):\n",
    "        if i < 3:\n",
    "            axes[i,j].plot(times,x[i]%360)\n",
    "        else:\n",
    "            axes[i,j].plot(times,x[i])\n",
    "\n",
    "axes[0,0].set_ylabel(r\"$\\phi(t)$\")\n",
    "axes[1,0].set_ylabel(r\"$\\theta(t)$\")\n",
    "axes[2,0].set_ylabel(r\"$\\psi(t)$\")\n",
    "axes[3,0].set_ylabel(r\"$\\dot{\\phi}(t)$\")\n",
    "axes[4,0].set_ylabel(r\"$\\dot{\\theta}(t)$\")\n",
    "axes[5,0].set_ylabel(r\"$\\dot{\\psi}(t)$\")\n",
    "axes[5,0].set_xlabel(\"time [s]\")\n",
    "plt.show()"
   ]
  }
 ],
 "metadata": {
  "kernelspec": {
   "display_name": "Python 3",
   "language": "python",
   "name": "python3"
  },
  "language_info": {
   "codemirror_mode": {
    "name": "ipython",
    "version": 3
   },
   "file_extension": ".py",
   "mimetype": "text/x-python",
   "name": "python",
   "nbconvert_exporter": "python",
   "pygments_lexer": "ipython3",
   "version": "3.12.0"
  }
 },
 "nbformat": 4,
 "nbformat_minor": 2
}
