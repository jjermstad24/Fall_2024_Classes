{
 "cells": [
  {
   "cell_type": "raw",
   "metadata": {
    "vscode": {
     "languageId": "raw"
    }
   },
   "source": [
    "---\n",
    "title: AERO 424 Homework 1\n",
    "---"
   ]
  },
  {
   "cell_type": "code",
   "execution_count": 1,
   "metadata": {},
   "outputs": [],
   "source": [
    "import sympy as sy\n",
    "from sympy.physics.vector import ReferenceFrame,dynamicsymbols\n",
    "from sympy.physics.mechanics import inertia\n",
    "from sympy.physics.vector.printing import vpprint,vlatex\n",
    "\n",
    "import IPython\n",
    "from IPython.display import display\n",
    "\n",
    "import matplotlib.pyplot as plt\n",
    "\n",
    "import numpy as np\n",
    "\n",
    "from scipy.integrate import odeint\n",
    "\n",
    "def displayH(a1,a2='', a3='', a4='', a5='', a6='', a7='',):\n",
    "    latex_a1 = sy.latex(a1)\n",
    "    latex_a2 = sy.latex(a2)\n",
    "    latex_a3 = sy.latex(a3)\n",
    "    latex_a4 = sy.latex(a4)\n",
    "    latex_a5 = sy.latex(a5)\n",
    "    latex_a6 = sy.latex(a6)\n",
    "    latex_a7 = sy.latex(a7)\n",
    "    display( IPython.core.display.Math(latex_a1 + latex_a2 + latex_a3 + latex_a4 + latex_a5 + latex_a6 + latex_a7)  )"
   ]
  },
  {
   "cell_type": "markdown",
   "metadata": {},
   "source": [
    "## (1) Dual spin spacecraft.\n",
    "\n",
    "In class, we derived the linear stability conditions for a dual-spin spacecraft where the constant fly-wheel spin axis was aligned with $\\hat{b}_1$. For this homework problem, re-derive the linear stability conditions for the case when the fly-wheel spin axis is aligned with the third body axis, $\\hat{b}_3$."
   ]
  },
  {
   "cell_type": "code",
   "execution_count": 5,
   "metadata": {},
   "outputs": [
    {
     "data": {
      "text/latex": [
       "$\\displaystyle \\left[\\begin{matrix}\\frac{\\left(I_{2} \\omega_{3}{\\left(t \\right)} - I_{3} \\omega_{3}{\\left(t \\right)} - I_{f} \\Omega\\right) \\omega_{2}{\\left(t \\right)}}{I_{1}}\\\\\\frac{\\left(- I_{1} \\omega_{3}{\\left(t \\right)} + I_{3} \\omega_{3}{\\left(t \\right)} + I_{f} \\Omega\\right) \\omega_{1}{\\left(t \\right)}}{I_{2}}\\\\\\frac{\\left(I_{1} - I_{2}\\right) \\omega_{1}{\\left(t \\right)} \\omega_{2}{\\left(t \\right)}}{I_{3}}\\end{matrix}\\right]\\mathtt{\\text{}}\\mathtt{\\text{}}\\mathtt{\\text{}}\\mathtt{\\text{}}\\mathtt{\\text{}}\\mathtt{\\text{}}$"
      ],
      "text/plain": [
       "<IPython.core.display.Math object>"
      ]
     },
     "metadata": {},
     "output_type": "display_data"
    },
    {
     "name": "stdout",
     "output_type": "stream",
     "text": [
      "Using the following equilibrium points:\n"
     ]
    },
    {
     "data": {
      "text/latex": [
       "$\\displaystyle \\omega=\\left[\\begin{matrix}0\\\\0\\\\\\omega_{3}{\\left(t \\right)}\\end{matrix}\\right]\\mathtt{\\text{}}\\mathtt{\\text{}}\\mathtt{\\text{}}\\mathtt{\\text{}}\\mathtt{\\text{}}$"
      ],
      "text/plain": [
       "<IPython.core.display.Math object>"
      ]
     },
     "metadata": {},
     "output_type": "display_data"
    },
    {
     "data": {
      "text/latex": [
       "$\\displaystyle \\mathtt{\\text{Normalizing by:  }}\\omega_{3}{\\left(t \\right)}\\mathtt{\\text{}}\\mathtt{\\text{}}\\mathtt{\\text{}}\\mathtt{\\text{}}\\mathtt{\\text{}}$"
      ],
      "text/plain": [
       "<IPython.core.display.Math object>"
      ]
     },
     "metadata": {},
     "output_type": "display_data"
    },
    {
     "data": {
      "text/latex": [
       "$\\displaystyle \\hat{\\Omega} =\\frac{\\Omega}{\\omega_{3}{\\left(t \\right)}}\\mathtt{\\text{}}\\mathtt{\\text{}}\\mathtt{\\text{}}\\mathtt{\\text{}}\\mathtt{\\text{}}$"
      ],
      "text/plain": [
       "<IPython.core.display.Math object>"
      ]
     },
     "metadata": {},
     "output_type": "display_data"
    },
    {
     "data": {
      "text/latex": [
       "$\\displaystyle \\delta\\dot{\\omega}=\\left[\\begin{matrix}\\frac{\\left(I_{2} - I_{3} - I_{f} \\hat{\\Omega}\\right) \\delta\\omega_{2}{\\left(t \\right)} \\omega_{3}{\\left(t \\right)}}{I_{1}}\\\\\\frac{\\left(- I_{1} + I_{3} + I_{f} \\hat{\\Omega}\\right) \\delta\\omega_{1}{\\left(t \\right)} \\omega_{3}{\\left(t \\right)}}{I_{2}}\\\\0\\end{matrix}\\right]\\mathtt{\\text{}}\\mathtt{\\text{}}\\mathtt{\\text{}}\\mathtt{\\text{}}\\mathtt{\\text{}}$"
      ],
      "text/plain": [
       "<IPython.core.display.Math object>"
      ]
     },
     "metadata": {},
     "output_type": "display_data"
    },
    {
     "data": {
      "text/latex": [
       "$\\displaystyle \\delta\\ddot{\\omega}=\\left[\\begin{matrix}\\frac{\\left(- I_{1} + I_{3} + I_{f} \\hat{\\Omega}\\right) \\left(I_{2} - I_{3} - I_{f} \\hat{\\Omega}\\right) \\delta\\omega_{1}{\\left(t \\right)} \\omega_{3}^{2}{\\left(t \\right)}}{I_{1} I_{2}}\\\\\\frac{\\left(I_{1} - I_{3} - I_{f} \\hat{\\Omega}\\right) \\left(- I_{2} + I_{3} + I_{f} \\hat{\\Omega}\\right) \\delta\\omega_{2}{\\left(t \\right)} \\omega_{3}^{2}{\\left(t \\right)}}{I_{1} I_{2}}\\\\0\\end{matrix}\\right]\\mathtt{\\text{}}\\mathtt{\\text{}}\\mathtt{\\text{}}\\mathtt{\\text{}}\\mathtt{\\text{}}$"
      ],
      "text/plain": [
       "<IPython.core.display.Math object>"
      ]
     },
     "metadata": {},
     "output_type": "display_data"
    },
    {
     "name": "stdout",
     "output_type": "stream",
     "text": [
      "Stability Equations\n"
     ]
    },
    {
     "data": {
      "text/latex": [
       "$\\displaystyle \\ddot{\\delta\\omega}_{1}\\mathtt{\\text{=}}k\\delta\\omega_{1}\\rightarrow k=\\frac{\\left(- I_{1} + I_{3} + I_{f} \\hat{\\Omega}\\right) \\left(I_{2} - I_{3} - I_{f} \\hat{\\Omega}\\right) \\omega_{3}^{2}{\\left(t \\right)}}{I_{1} I_{2}}>0$"
      ],
      "text/plain": [
       "<IPython.core.display.Math object>"
      ]
     },
     "metadata": {},
     "output_type": "display_data"
    },
    {
     "data": {
      "text/latex": [
       "$\\displaystyle \\hat{\\Omega}_1 =\\frac{I_{2} - I_{3}}{I_{f}}\\mathtt{\\text{}}\\mathtt{\\text{}}\\mathtt{\\text{}}\\mathtt{\\text{}}\\mathtt{\\text{}}$"
      ],
      "text/plain": [
       "<IPython.core.display.Math object>"
      ]
     },
     "metadata": {},
     "output_type": "display_data"
    },
    {
     "data": {
      "text/latex": [
       "$\\displaystyle \\hat{\\Omega}_2 =\\frac{I_{1} - I_{3}}{I_{f}}\\mathtt{\\text{}}\\mathtt{\\text{}}\\mathtt{\\text{}}\\mathtt{\\text{}}\\mathtt{\\text{}}$"
      ],
      "text/plain": [
       "<IPython.core.display.Math object>"
      ]
     },
     "metadata": {},
     "output_type": "display_data"
    },
    {
     "data": {
      "image/png": "[encoded data removed]",
      "text/plain": [
       "<Figure size 640x480 with 1 Axes>"
      ]
     },
     "metadata": {},
     "output_type": "display_data"
    },
    {
     "name": "stdout",
     "output_type": "stream",
     "text": [
      "Using the following equilibrium points:\n"
     ]
    },
    {
     "data": {
      "text/latex": [
       "$\\displaystyle \\omega=\\left[\\begin{matrix}0\\\\\\omega_{2}{\\left(t \\right)}\\\\\\frac{I_{f} \\Omega}{I_{2} - I_{3}}\\end{matrix}\\right]\\mathtt{\\text{}}\\mathtt{\\text{}}\\mathtt{\\text{}}\\mathtt{\\text{}}\\mathtt{\\text{}}$"
      ],
      "text/plain": [
       "<IPython.core.display.Math object>"
      ]
     },
     "metadata": {},
     "output_type": "display_data"
    },
    {
     "data": {
      "text/latex": [
       "$\\displaystyle \\mathtt{\\text{Normalizing by:  }}\\omega_{2}{\\left(t \\right)}\\mathtt{\\text{}}\\mathtt{\\text{}}\\mathtt{\\text{}}\\mathtt{\\text{}}\\mathtt{\\text{}}$"
      ],
      "text/plain": [
       "<IPython.core.display.Math object>"
      ]
     },
     "metadata": {},
     "output_type": "display_data"
    },
    {
     "data": {
      "text/latex": [
       "$\\displaystyle \\hat{\\Omega} =\\frac{\\Omega}{\\omega_{2}{\\left(t \\right)}}\\mathtt{\\text{}}\\mathtt{\\text{}}\\mathtt{\\text{}}\\mathtt{\\text{}}\\mathtt{\\text{}}$"
      ],
      "text/plain": [
       "<IPython.core.display.Math object>"
      ]
     },
     "metadata": {},
     "output_type": "display_data"
    },
    {
     "data": {
      "text/latex": [
       "$\\displaystyle \\delta\\dot{\\omega}=\\left[\\begin{matrix}\\frac{\\left(I_{2} - I_{3}\\right) \\delta\\omega_{3}{\\left(t \\right)} \\omega_{2}{\\left(t \\right)}}{I_{1}}\\\\\\frac{I_{f} \\hat{\\Omega} \\left(- I_{1} + I_{2}\\right) \\delta\\omega_{1}{\\left(t \\right)} \\omega_{2}{\\left(t \\right)}}{I_{2} \\left(I_{2} - I_{3}\\right)}\\\\\\frac{\\left(I_{1} - I_{2}\\right) \\delta\\omega_{1}{\\left(t \\right)} \\omega_{2}{\\left(t \\right)}}{I_{3}}\\end{matrix}\\right]\\mathtt{\\text{}}\\mathtt{\\text{}}\\mathtt{\\text{}}\\mathtt{\\text{}}\\mathtt{\\text{}}$"
      ],
      "text/plain": [
       "<IPython.core.display.Math object>"
      ]
     },
     "metadata": {},
     "output_type": "display_data"
    },
    {
     "data": {
      "text/latex": [
       "$\\displaystyle \\delta\\ddot{\\omega}=\\left[\\begin{matrix}\\frac{\\left(I_{1} I_{2} - I_{1} I_{3} - I_{2}^{2} + I_{2} I_{3}\\right) \\delta\\omega_{1}{\\left(t \\right)} \\omega_{2}^{2}{\\left(t \\right)}}{I_{1} I_{3}}\\\\\\frac{I_{f} \\hat{\\Omega} \\left(- I_{1} + I_{2}\\right) \\delta\\omega_{3}{\\left(t \\right)} \\omega_{2}^{2}{\\left(t \\right)}}{I_{1} I_{2}}\\\\\\frac{\\left(I_{1} I_{2} - I_{1} I_{3} - I_{2}^{2} + I_{2} I_{3}\\right) \\delta\\omega_{3}{\\left(t \\right)} \\omega_{2}^{2}{\\left(t \\right)}}{I_{1} I_{3}}\\end{matrix}\\right]\\mathtt{\\text{}}\\mathtt{\\text{}}\\mathtt{\\text{}}\\mathtt{\\text{}}\\mathtt{\\text{}}$"
      ],
      "text/plain": [
       "<IPython.core.display.Math object>"
      ]
     },
     "metadata": {},
     "output_type": "display_data"
    },
    {
     "name": "stdout",
     "output_type": "stream",
     "text": [
      "Using the following equilibrium points:\n"
     ]
    },
    {
     "data": {
      "text/latex": [
       "$\\displaystyle \\omega=\\left[\\begin{matrix}\\omega_{1}{\\left(t \\right)}\\\\0\\\\\\frac{I_{f} \\Omega}{I_{1} - I_{3}}\\end{matrix}\\right]\\mathtt{\\text{}}\\mathtt{\\text{}}\\mathtt{\\text{}}\\mathtt{\\text{}}\\mathtt{\\text{}}$"
      ],
      "text/plain": [
       "<IPython.core.display.Math object>"
      ]
     },
     "metadata": {},
     "output_type": "display_data"
    },
    {
     "data": {
      "text/latex": [
       "$\\displaystyle \\mathtt{\\text{Normalizing by:  }}\\omega_{1}{\\left(t \\right)}\\mathtt{\\text{}}\\mathtt{\\text{}}\\mathtt{\\text{}}\\mathtt{\\text{}}\\mathtt{\\text{}}$"
      ],
      "text/plain": [
       "<IPython.core.display.Math object>"
      ]
     },
     "metadata": {},
     "output_type": "display_data"
    },
    {
     "data": {
      "text/latex": [
       "$\\displaystyle \\hat{\\Omega} =\\frac{\\Omega}{\\omega_{1}{\\left(t \\right)}}\\mathtt{\\text{}}\\mathtt{\\text{}}\\mathtt{\\text{}}\\mathtt{\\text{}}\\mathtt{\\text{}}$"
      ],
      "text/plain": [
       "<IPython.core.display.Math object>"
      ]
     },
     "metadata": {},
     "output_type": "display_data"
    },
    {
     "data": {
      "text/latex": [
       "$\\displaystyle \\delta\\dot{\\omega}=\\left[\\begin{matrix}\\frac{I_{f} \\hat{\\Omega} \\left(- I_{1} + I_{2}\\right) \\delta\\omega_{2}{\\left(t \\right)} \\omega_{1}{\\left(t \\right)}}{I_{1} \\left(I_{1} - I_{3}\\right)}\\\\\\frac{\\left(- I_{1} + I_{3}\\right) \\delta\\omega_{3}{\\left(t \\right)} \\omega_{1}{\\left(t \\right)}}{I_{2}}\\\\\\frac{\\left(I_{1} - I_{2}\\right) \\delta\\omega_{2}{\\left(t \\right)} \\omega_{1}{\\left(t \\right)}}{I_{3}}\\end{matrix}\\right]\\mathtt{\\text{}}\\mathtt{\\text{}}\\mathtt{\\text{}}\\mathtt{\\text{}}\\mathtt{\\text{}}$"
      ],
      "text/plain": [
       "<IPython.core.display.Math object>"
      ]
     },
     "metadata": {},
     "output_type": "display_data"
    },
    {
     "data": {
      "text/latex": [
       "$\\displaystyle \\delta\\ddot{\\omega}=\\left[\\begin{matrix}\\frac{I_{f} \\hat{\\Omega} \\left(I_{1} - I_{2}\\right) \\delta\\omega_{3}{\\left(t \\right)} \\omega_{1}^{2}{\\left(t \\right)}}{I_{1} I_{2}}\\\\\\frac{\\left(- I_{1}^{2} + I_{1} I_{2} + I_{1} I_{3} - I_{2} I_{3}\\right) \\delta\\omega_{2}{\\left(t \\right)} \\omega_{1}^{2}{\\left(t \\right)}}{I_{2} I_{3}}\\\\\\frac{\\left(- I_{1}^{2} + I_{1} I_{2} + I_{1} I_{3} - I_{2} I_{3}\\right) \\delta\\omega_{3}{\\left(t \\right)} \\omega_{1}^{2}{\\left(t \\right)}}{I_{2} I_{3}}\\end{matrix}\\right]\\mathtt{\\text{}}\\mathtt{\\text{}}\\mathtt{\\text{}}\\mathtt{\\text{}}\\mathtt{\\text{}}$"
      ],
      "text/plain": [
       "<IPython.core.display.Math object>"
      ]
     },
     "metadata": {},
     "output_type": "display_data"
    }
   ],
   "source": [
    "t = sy.Symbol(\"t\")\n",
    "\n",
    "B = ReferenceFrame(\"B\")\n",
    "\n",
    "I1 = sy.Symbol(\"I_1\")\n",
    "I2 = sy.Symbol(\"I_2\")\n",
    "I3 = sy.Symbol(\"I_3\")\n",
    "\n",
    "I = inertia(ixx=I1,iyy=I2,izz=I3,frame=B)\n",
    "\n",
    "If = inertia(ixx=0,iyy=0,izz=sy.Symbol(\"I_f\"),frame=B)\n",
    "wf = sy.Symbol(\"Omega\")*B.z\n",
    "\n",
    "w1 = dynamicsymbols(\"omega_1\")\n",
    "w2 = dynamicsymbols(\"omega_2\")\n",
    "w3 = dynamicsymbols(\"omega_3\")\n",
    "\n",
    "wb = w1*B.x+w2*B.y+w3*B.z\n",
    "\n",
    "H = I.dot(wb)+If.dot(wf)\n",
    "H_dot = sy.diff(H,t,B)+wb.cross(H)\n",
    "\n",
    "omega_dot = sy.solve(H_dot.to_matrix(B),[sy.diff(w1),sy.diff(w2),sy.diff(w3)])\n",
    "\n",
    "omega_dot_vector = 0\n",
    "for key,direction in zip(omega_dot,[B.x,B.y,B.z]):\n",
    "    omega_dot_vector += omega_dot[key]*direction\n",
    "\n",
    "omega_eq = sy.solve(omega_dot_vector.to_matrix(B),[w1,w2,w3])\n",
    "\n",
    "displayH(omega_dot_vector.to_matrix(B).simplify())\n",
    "\n",
    "delta_omega = dynamicsymbols(r\"\\delta\\omega_1\")*B.x+dynamicsymbols(r\"\\delta\\omega_2\")*B.y+dynamicsymbols(r\"\\delta\\omega_3\")*B.z\n",
    "\n",
    "for sol in omega_eq:\n",
    "    print(\"Using the following equilibrium points:\")\n",
    "    displayH(sy.Symbol(r\"\\omega=\"),sy.Matrix(sol))\n",
    "\n",
    "    omega = (sol[0]*B.x+sol[1]*B.y+sol[2]*B.z+delta_omega).to_matrix(B)\n",
    "    eq = omega_dot_vector.subs(w1,omega[0]).subs(w2,omega[1]).subs(w3,omega[2])\n",
    "    eq = eq.to_matrix(B).expand()\n",
    "\n",
    "    # Ignoring delta product terms\n",
    "    for s1 in [dynamicsymbols(r\"\\delta\\omega_1\"),dynamicsymbols(r\"\\delta\\omega_2\"),dynamicsymbols(r\"\\delta\\omega_3\")]:\n",
    "        for s2 in [dynamicsymbols(r\"\\delta\\omega_1\"),dynamicsymbols(r\"\\delta\\omega_2\"),dynamicsymbols(r\"\\delta\\omega_3\")]:\n",
    "            eq = eq.subs(s1*s2,0)\n",
    "\n",
    "    stable_system = 0\n",
    "    for piece,direction in zip(eq,[B.x,B.y,B.z]):\n",
    "        stable_system+=piece*direction\n",
    "    stable_system_dot = sy.diff(stable_system,t,B)\n",
    "    stable_system_dot = stable_system_dot.subs(sy.diff(w1),0).subs(sy.diff(w2),0).subs(sy.diff(w3),0)\n",
    "    \n",
    "    for w,piece in zip([dynamicsymbols(r\"\\delta\\omega_1\"),dynamicsymbols(r\"\\delta\\omega_2\"),dynamicsymbols(r\"\\delta\\omega_3\")],eq):\n",
    "        stable_system_dot = stable_system_dot.subs(sy.diff(w),piece)\n",
    "\n",
    "    for i in sol:\n",
    "        for o in [w1,w2,w3]:\n",
    "            if i == o:\n",
    "                displayH(\"Normalizing by:  \",i)\n",
    "                displayH(sy.Symbol(r\"\\hat{\\Omega} =\"),sy.Symbol(r\"\\Omega\")/i)\n",
    "                stable_system = stable_system.subs(sy.Symbol(\"Omega\"),sy.Symbol(r\"\\hat{\\Omega}\")*i)\n",
    "                stable_system_dot = stable_system_dot.subs(sy.Symbol(\"Omega\"),sy.Symbol(r\"\\hat{\\Omega}\")*i)\n",
    "                break\n",
    "\n",
    "    stable_system = stable_system.simplify()\n",
    "    stable_system_dot = stable_system_dot.simplify()\n",
    "\n",
    "    displayH(sy.Symbol(r\"\\delta\\dot{\\omega}=\"),stable_system.to_matrix(B))\n",
    "    displayH(sy.Symbol(r\"\\delta\\ddot{\\omega}=\"),stable_system_dot.to_matrix(B))\n",
    "\n",
    "    if np.count_nonzero(sol) == 1:\n",
    "        print(\"Stability Equations\")\n",
    "        for line in stable_system_dot.to_matrix(B):\n",
    "            for s in [dynamicsymbols(r\"\\delta\\omega_1\"),dynamicsymbols(r\"\\delta\\omega_2\"),dynamicsymbols(r\"\\delta\\omega_3\")]:\n",
    "                val = line.coeff(s)\n",
    "                if val != 0:\n",
    "                    displayH(sy.Symbol(vlatex(sy.diff(sy.diff(s)))),\"=\",sy.Symbol(\"k\"),sy.Symbol(vlatex(s)),sy.Symbol(r\"\\rightarrow k=\"),val,sy.Symbol(\">0\"))\n",
    "                    break\n",
    "            else:\n",
    "                continue\n",
    "            break\n",
    "        o2,o1 = sy.solve(val,sy.Symbol(r\"\\hat{\\Omega}\"))\n",
    "        displayH(sy.Symbol(r\"\\hat{\\Omega}_1 =\"),o1)\n",
    "        displayH(sy.Symbol(r\"\\hat{\\Omega}_2 =\"),o2)\n",
    "\n",
    "        plt.figure()\n",
    "        s1 = float(o1.subs(I1,3).subs(I2,2).subs(I3,1).subs(sy.Symbol(\"I_f\"),1))\n",
    "        s2 = float(o2.subs(I1,3).subs(I2,2).subs(I3,1).subs(sy.Symbol(\"I_f\"),1))\n",
    "\n",
    "        plt.plot(2*[s1],[.75,1.25],color=\"black\",linestyle=\"dashed\")\n",
    "        plt.plot(2*[s2],[.75,1.25],color=\"black\",linestyle=\"dashed\")\n",
    "        plt.annotate(r\"$\\hat{\\Omega}_1$\",(s1-0.25,0.5))\n",
    "        plt.annotate(r\"$\\hat{\\Omega}_2$\",(s2-0.25,0.5))\n",
    "        w = np.linspace(-5,5,1000)\n",
    "        \n",
    "        # SC 1\n",
    "        sc1 = np.array([o > s1 and o > s2 for o in w])\n",
    "        plt.fill_between(w[sc1],y1=len(w[sc1])*[0.75],y2=len(w[sc1])*[1.25],color=\"yellow\",label=\"SC 1\",linewidth=0)\n",
    "        # SC 2\n",
    "        sc2 = np.array([o < s1 and o < s2 for o in w])\n",
    "        plt.fill_between(w[sc2],y1=len(w[sc2])*[0.75],y2=len(w[sc2])*[1.25],color=\"deepskyblue\",label=\"SC 2\",linewidth=0)\n",
    "        # Unstable\n",
    "        unstable = ~(sc1|sc2)\n",
    "        plt.fill_between(w[unstable],y1=len(w[unstable])*[0.75],y2=len(w[unstable])*[1.25],color=\"red\",label=\"Unstable\",linewidth=0)\n",
    "\n",
    "        s1 = float(o1.subs(I1,2).subs(I2,3).subs(I3,1).subs(sy.Symbol(\"I_f\"),1))\n",
    "        s2 = float(o2.subs(I1,2).subs(I2,3).subs(I3,1).subs(sy.Symbol(\"I_f\"),1))\n",
    "\n",
    "        plt.plot(2*[s1],[1.75,2.25],color=\"black\",linestyle=\"dashed\")\n",
    "        plt.plot(2*[s2],[1.75,2.25],color=\"black\",linestyle=\"dashed\")\n",
    "        plt.annotate(r\"$\\hat{\\Omega}_1$\",(s1-0.25,1.5))\n",
    "        plt.annotate(r\"$\\hat{\\Omega}_2$\",(s2-0.25,1.5))\n",
    "        \n",
    "        # SC 1\n",
    "        sc1 = np.array([o > s1 and o > s2 for o in w])\n",
    "        plt.fill_between(w[sc1],y1=len(w[sc1])*[1.75],y2=len(w[sc1])*[2.25],color=\"yellow\",linewidth=0)\n",
    "        # SC 2\n",
    "        sc2 = np.array([o < s1 and o < s2 for o in w])\n",
    "        plt.fill_between(w[sc2],y1=len(w[sc2])*[1.75],y2=len(w[sc2])*[2.25],color=\"deepskyblue\",linewidth=0)\n",
    "        # Unstable\n",
    "        unstable = ~(sc1|sc2)\n",
    "        plt.fill_between(w[unstable],y1=len(w[unstable])*[1.75],y2=len(w[unstable])*[2.25],color=\"red\",linewidth=0)\n",
    "\n",
    "        s1 = float(o1.subs(I1,1).subs(I2,2).subs(I3,3).subs(sy.Symbol(\"I_f\"),1))\n",
    "        s2 = float(o2.subs(I1,1).subs(I2,2).subs(I3,3).subs(sy.Symbol(\"I_f\"),1))\n",
    "\n",
    "        plt.plot(2*[s1],[2.75,3.25],color=\"black\",linestyle=\"dashed\")\n",
    "        plt.plot(2*[s2],[2.75,3.25],color=\"black\",linestyle=\"dashed\")\n",
    "        plt.annotate(r\"$\\hat{\\Omega}_1$\",(s1-0.25,2.5))\n",
    "        plt.annotate(r\"$\\hat{\\Omega}_2$\",(s2-0.25,2.5))\n",
    "\n",
    "        # SC 1\n",
    "        sc1 = np.array([o > s1 and o > s2 for o in w])\n",
    "        plt.fill_between(w[sc1],y1=len(w[sc1])*[2.75],y2=len(w[sc1])*[3.25],color=\"yellow\",linewidth=0)\n",
    "        # SC 2\n",
    "        sc2 = np.array([o < s1 and o < s2 for o in w])\n",
    "        plt.fill_between(w[sc2],y1=len(w[sc2])*[2.75],y2=len(w[sc2])*[3.25],color=\"deepskyblue\",linewidth=0)\n",
    "        # Unstable\n",
    "        unstable = ~(sc1|sc2)\n",
    "        plt.fill_between(w[unstable],y1=len(w[unstable])*[2.75],y2=len(w[unstable])*[3.25],color=\"red\",linewidth=0)\n",
    "\n",
    "        plt.axvline(x=0,linestyle=\"dotted\",color=\"black\")\n",
    "\n",
    "        plt.title(\"Stability Conditions for Various Inertia Cases\")\n",
    "        plt.annotate(f\"{r\"$\\hat{\\Omega}_1$\"} = ${o1}$\",(-5,3.75))\n",
    "        plt.annotate(f\"{r\"$\\hat{\\Omega}_2$\"} = ${o2}$\",(-5,3.5))\n",
    "        plt.plot([-2.25,-5.25,-5.25,-2.25,-2.25],[4,4,3.4,3.4,4],color=\"black\")\n",
    "        plt.yticks([1,2,3],[r\"$I_1>I_2>I_3$\",r\"$I_2>I_1>I_3$\",r\"$I_3>I_2>I_1$\"])\n",
    "        plt.ylim([0,4])\n",
    "        plt.ylabel(\"Case\")\n",
    "        # plt.xticks([0])\n",
    "        plt.xlabel(r\"$\\hat{\\Omega}$\")\n",
    "        plt.legend()\n",
    "        plt.show()"
   ]
  },
  {
   "cell_type": "markdown",
   "metadata": {},
   "source": [
    "## (2) Gravity-gradient stability conditions.\n",
    "The following characteristic equation for the gravity-gradient stability was derived in class:\n",
    "\n",
    "$$\n",
    "\\lambda^4+\\lambda^2n^2(1+3k_Y+k_Yk_R)+4n^4k_Yk_R=0\n",
    "$$\n",
    "\n",
    "Verify that the necessary and sufficient conditions that guarantee stability are:\n",
    "\n",
    "$$\n",
    "(1+3k_Y+k_Yk_R)^2>16k_Yk_R \\\\\n",
    "k_Yk_R > 0\n",
    "$$\n",
    "\n",
    "Hint:\n",
    "- The characteristic equation is a quadratic in $\\lambda^2$.\n",
    "- Stability requires that none of the roots have a positive real part.\n",
    "- It is clear that if $\\lambda_i$ is a root, then $-\\lambda_i$ is also a root.\n",
    "- So stability requires all the roots be purely imaginary numbers.\n",
    "- Therefore, you need to verify that the stability conditions guarantee that all $\\lambda_i^2$ terms are negative and real.\n",
    "\n",
    "##### Solution:\n",
    "\n",
    "Solving the quartic as a quadratic:\n",
    "\n",
    "$$\n",
    "a = 1 \\\\\n",
    "b = n^2(1+3k_Y+k_Yk_R) \\\\\n",
    "c = 4n^4k_Yk_R\\\\\n",
    "\\lambda^2 = \\frac{-b\\pm\\sqrt{b^2-4ac}}{2a}\n",
    "$$\n",
    "\n",
    "Real part must be negative:\n",
    "\n",
    "$$\n",
    "-b < 0 \\\\\n",
    "-n^2(1+3k_Y+k_Yk_R) < 0 \\\\\n",
    "$$\n",
    "$$\n",
    "\\begin{equation}\\tag{1}\n",
    "(1+3k_Y+k_Yk_R) < 0\n",
    "\\end{equation}\n",
    "$$\n",
    "\n",
    "Roots must be real:\n",
    "\n",
    "$$\n",
    "b^2-4ac > 0\n",
    "n^4(1+3k_Y+k_Yk_R)^2-16n^4k_Yk_R > 0\n",
    "$$\n",
    "$$\n",
    "\\begin{equation}\\tag{2}\n",
    "(1+3k_Y+k_Yk_R)^2 > 16k_Tk_R\n",
    "\\end{equation}\n",
    "$$\n",
    "\n",
    "Using Equation 2, we can rewrite Equation 1 to match the prompt:\n",
    "\n",
    "$$\n",
    "0^2> (1+3k_Y+k_Yk_R)^2 > 16k_Tk_R \\\\\n",
    "0 > 16k_Yk_R \\\\\n",
    "0 > k_Yk_R\n",
    "$$\n",
    "\n",
    "This results in the following two inequalities (Equation 1 and Equation 2), which guarantee that the roots will be real and negative:\n",
    "\n",
    "$$\n",
    "\\begin{equation}\\tag{3}\n",
    "(1+3k_Y+k_Yk_R)^2 > 16k_Tk_R\n",
    "\\end{equation}\n",
    "$$\n",
    "\n",
    "$$\n",
    "\\begin{equation}\\tag{4}\n",
    "k_Yk_R > 0\n",
    "\\end{equation}\n",
    "$$"
   ]
  },
  {
   "cell_type": "code",
   "execution_count": null,
   "metadata": {},
   "outputs": [],
   "source": [
    "x = np.linspace(-1,1,1000)\n",
    "y = np.linspace(-1,1,1000)\n",
    "X,Y = np.meshgrid(x,y)\n",
    "\n",
    "def roll_yaw_stability_1(ky,kr):\n",
    "    return (1+3*ky+ky*kr)**2>16*ky*kr\n",
    "s\n",
    "def roll_yaw_stability_2(ky,kr):\n",
    "    return kr*ky>0\n",
    "\n",
    "roll_yaw_1_vals = roll_yaw_stability_1(X,Y)\n",
    "roll_yaw_2_vals = roll_yaw_stability_2(X,Y)\n",
    "\n",
    "plt.figure()\n",
    "plt.title(r\"Gravity Gradient Stability (roll/yaw) over $k_Y$ vs $k_R$\")\n",
    "plt.xlabel(r\"$k_Y$\")\n",
    "plt.ylabel(r\"$k_R$\")\n",
    "plt.grid()\n",
    "\n",
    "plt.contour(x,y,roll_yaw_1_vals)\n",
    "plt.contour(x,y,roll_yaw_2_vals)\n",
    "\n",
    "plt.contourf(x,y,~(roll_yaw_1_vals&roll_yaw_2_vals).astype(int),alpha=0.25,cmap='PuBu_r')\n",
    "\n",
    "plt.show()"
   ]
  },
  {
   "cell_type": "markdown",
   "metadata": {},
   "source": [
    "$\\newline$\n",
    "\n",
    "## (3) Gravity-gradient stability simulation.\n",
    "The linearized equations of motion for the gravity-gradient satellite derived in class\n",
    "are as follows:\n",
    "\n",
    "$$\n",
    "\\ddot{\\theta} + 3n^2 \\left( \\frac{I_1 - I_3}{I_2} \\right) \\theta = 0 \n",
    "\\quad \\text{...for the pitch angle}\n",
    "$$\n",
    "\n",
    "$$\n",
    "\\begin{pmatrix}\n",
    "\\dot{\\phi} \\\\\n",
    "\\dot{\\psi}\n",
    "\\end{pmatrix}\n",
    "+ \n",
    "\\begin{bmatrix}\n",
    "0 & 0 \\\\\n",
    "n(k_R - 1) & n(1 - k_Y)\n",
    "\\end{bmatrix}\n",
    "\\begin{pmatrix}\n",
    "\\phi \\\\\n",
    "\\psi\n",
    "\\end{pmatrix}\n",
    "+\n",
    "\\begin{bmatrix}\n",
    "4n^2 k_Y & 0 \\\\\n",
    "0 & n^2 k_R\n",
    "\\end{bmatrix}\n",
    "\\begin{pmatrix}\n",
    "\\phi \\\\\n",
    "\\psi\n",
    "\\end{pmatrix}\n",
    "= \n",
    "\\begin{pmatrix}\n",
    "0 \\\\\n",
    "0\n",
    "\\end{pmatrix}\n",
    "\\quad \\text{...for the roll-yaw angles}\n",
    "$$\n",
    "\n",
    "where,\n",
    "\n",
    "$$\n",
    "k_R = \\frac{I_2 - I_1}{I_3}, \\\\\n",
    "k_Y = \\frac{I_2 - I_3}{I_1}, \\\\\n",
    "n = \\text{mean motion}\n",
    "$$\n",
    "\n",
    "A satellite is in a 7000 km circular orbit around the Earth ($\\mu = 398600.4418 \\, \\text{km}^3/\\text{s}^2$).The initial conditions for the Euler angles and the Euler angle rates are:\n",
    "\n",
    "$(\\phi_0, \\theta_0, \\psi_0) = (30^\\circ, 20^\\circ, 10^\\circ) \\quad \\text{and} \\quad (\\dot{\\phi}_0, \\dot{\\theta}_0, \\dot{\\psi}_0) = (0, 0, 0) \\, \\text{rad/s}$.\n",
    "\n",
    "Further, the following three sets of initial conditions for the moment of inertia matrix are given:\n",
    "\n",
    "$$\n",
    "I_{I} = \n",
    "\\begin{bmatrix}\n",
    "I_1 & 0 & 0 \\\\\n",
    "0 & I_2 & 0 \\\\\n",
    "0 & 0 & I_3\n",
    "\\end{bmatrix}\n",
    "=\n",
    "\\begin{bmatrix}\n",
    "I_{\\text{BIG}} & 0 & 0 \\\\\n",
    "0 & I_{\\text{Inter}} & 0 \\\\\n",
    "0 & 0 & I_{\\text{small}}\n",
    "\\end{bmatrix}\n",
    "$$\n",
    "\n",
    "$$\n",
    "I_{II} = \n",
    "\\begin{bmatrix}\n",
    "I_1 & 0 & 0 \\\\\n",
    "0 & I_2 & 0 \\\\\n",
    "0 & 0 & I_3\n",
    "\\end{bmatrix}\n",
    "=\n",
    "\\begin{bmatrix}\n",
    "I_{\\text{Inter}} & 0 & 0 \\\\\n",
    "0 & I_{\\text{BIG}} & 0 \\\\\n",
    "0 & 0 & I_{\\text{small}}\n",
    "\\end{bmatrix}\n",
    "$$\n",
    "\n",
    "$$\n",
    "I_{III} = \n",
    "\\begin{bmatrix}\n",
    "I_1 & 0 & 0 \\\\\n",
    "0 & I_2 & 0 \\\\\n",
    "0 & 0 & I_3\n",
    "\\end{bmatrix}\n",
    "=\n",
    "\\begin{bmatrix}\n",
    "I_{\\text{small}} & 0 & 0 \\\\\n",
    "0 & I_{\\text{Inter}} & 0 \\\\\n",
    "0 & 0 & I_{\\text{BIG}}\n",
    "\\end{bmatrix}\n",
    "$$\n",
    "\n",
    "where,\n",
    "\n",
    "$$\n",
    "I_{\\text{BIG}} = 400 \\, \\text{kg m}^2, \\\\\n",
    "I_{\\text{Inter}} = 300 \\, \\text{kg m}^2, \\\\\n",
    "I_{\\text{small}} = 200 \\, \\text{kg m}^2.\n",
    "$$\n",
    "\n",
    "Perform the following tasks:"
   ]
  },
  {
   "cell_type": "markdown",
   "metadata": {},
   "source": [
    "#### (a) Convert the three second-order differential equations of motion into six first-order differential equations, i.e., express the equations of motion in the state-space form.\n",
    "\n",
    "##### Solution:\n",
    "\n",
    "State Space Form:\n",
    "\n",
    "$$\n",
    "\\dot{\\textbf{x}}=A\\textbf{x}\n",
    "$$\n",
    "\n",
    "$$\n",
    "\\textbf{x} = \\left(\\begin{array}{c}\n",
    "\\phi \\\\\n",
    "\\theta \\\\\n",
    "\\psi \\\\\n",
    "\\dot{\\phi} \\\\\n",
    "\\dot{\\theta} \\\\\n",
    "\\dot{\\psi}\n",
    "\\end{array}\\right)\n",
    "$$\n",
    "\n",
    "$$\n",
    "\\dot{\\textbf{x}} = \\left(\\begin{array}{c}\n",
    "\\dot{\\phi} \\\\\n",
    "\\dot{\\theta} \\\\\n",
    "\\dot{\\psi} \\\\\n",
    "\\ddot{\\phi} \\\\\n",
    "\\ddot{\\theta} \\\\\n",
    "\\ddot{\\psi}\n",
    "\\end{array}\\right)=\n",
    "\\left[\\begin{array}{c|c|c|c|c|c}\n",
    "0&0&0&1&0&0 \\\\\n",
    "\\hline\n",
    "0&0&0&0&1&0 \\\\\n",
    "\\hline\n",
    "0&0&0&0&0&1 \\\\\n",
    "\\hline\n",
    "-4n^2k_Y&0&0&0&0&-n(1-k_Y) \\\\\n",
    "\\hline\n",
    "0&-3n^2\\left(\\frac{I_1-I_3}{I_2}\\right)&0&0&0&0 \\\\\n",
    "\\hline\n",
    "0&0&-n^2k_R&-n(k_R-1)&0&0\n",
    "\\end{array}\\right]\n",
    "\\left(\\begin{array}{c}\n",
    "\\phi \\\\\n",
    "\\theta \\\\\n",
    "\\psi \\\\\n",
    "\\dot{\\phi} \\\\\n",
    "\\dot{\\theta} \\\\\n",
    "\\dot{\\psi}\n",
    "\\end{array}\\right)\n",
    "$$"
   ]
  },
  {
   "cell_type": "markdown",
   "metadata": {},
   "source": [
    "#### (b) Use MATLAB’s ”ode45” function (or equivalent integration packages in other software) to numerically integrate the first-order differential equations of motion for a time period of 10, 000 seconds for the given three sets of initial conditions for the moment of inertia matrix.\n",
    "\n",
    "##### Solution:"
   ]
  },
  {
   "cell_type": "code",
   "execution_count": 4,
   "metadata": {},
   "outputs": [],
   "source": [
    "mu = 398600.4418\n",
    "a = 7000\n",
    "init_state = np.radians([30,20,10,0,0,0])\n",
    "\n",
    "I_big = 400\n",
    "I_inter = 300\n",
    "I_small = 200\n",
    "\n",
    "I1 = [I_big,I_inter,I_small]\n",
    "I2 = [I_inter,I_big,I_small]\n",
    "I3 = [I_small,I_inter,I_big]\n",
    "\n",
    "def gravity_gradient(x,t,mu,a,I):\n",
    "    n = (mu/a**3)**0.5\n",
    "    k_R = (I[1]-I[0])/I[2]\n",
    "    k_Y = (I[1]-I[2])/I[0]\n",
    "    return np.array([[0,0,0,1,0,0],\n",
    "                     [0,0,0,0,1,0],\n",
    "                     [0,0,0,0,0,1],\n",
    "                     [-4*n**2*k_Y,0,0,0,0,-n*(1-k_Y)],\n",
    "                     [0,-3*n**2*(I[0]-I[2])/I[1],0,0,0,0],\n",
    "                     [0,0,-n**2*k_R,-n*(k_R-1),0,0]])@x\n",
    "\n",
    "times = np.arange(0,10000,0.1)\n",
    "tol = 1e-12\n",
    "\n",
    "state1 = np.degrees(odeint(gravity_gradient,init_state,times,rtol=tol,atol=tol,args=(mu,a,I1)).T)\n",
    "state2 = np.degrees(odeint(gravity_gradient,init_state,times,rtol=tol,atol=tol,args=(mu,a,I2)).T)\n",
    "state3 = np.degrees(odeint(gravity_gradient,init_state,times,rtol=tol,atol=tol,args=(mu,a,I3)).T)"
   ]
  },
  {
   "cell_type": "markdown",
   "metadata": {},
   "source": [
    "#### (c) Plot the Euler angles φ(t), θ(t), and ψ(t) over the time interval t = (0, 0.1, 0.2, . . . 10000) for all three sets of initial conditions. Be sure to wrap the numerically integrated Euler angles between the range [−π, π].\n",
    "\n",
    "##### Solution:"
   ]
  },
  {
   "cell_type": "code",
   "execution_count": null,
   "metadata": {},
   "outputs": [],
   "source": [
    "plotting_vars = 3\n",
    "\n",
    "for case_num,state in enumerate([state1,state2,state3]):\n",
    "    fig,axes = plt.subplots(plotting_vars,sharex=True)\n",
    "    axes[0].set_title(f\"Case: {case_num+1}\")\n",
    "    for idx,var_name in enumerate([r\"$\\phi$\",r\"$\\theta$\",r\"$\\psi$\",r\"$\\dot{\\psi}$\",r\"$\\dot{\\theta}$\",r\"$\\dot{\\phi}$\"][:plotting_vars]):\n",
    "        if idx < 3:\n",
    "            axes[idx].plot(times,np.interp(state[idx]%360,(0,360),(-180,180)))\n",
    "        else:\n",
    "            axes[idx].plot(times,state[idx])\n",
    "        axes[idx].set_ylabel(var_name+\"(t)\")\n",
    "    axes[-1].set_xlabel(\"time [s]\")\n",
    "    plt.show()"
   ]
  },
  {
   "cell_type": "markdown",
   "metadata": {},
   "source": [
    "#### (d) Discuss the stability of the pitch angle as well as the coupled roll-yaw angle stability for the three sets of initial conditions. Provide an explanation based on your observations.\n",
    "\n",
    "##### Solution:\n",
    "\n",
    "From the plots in part (c), we see that the only stable case is Case 2. Case 3 is unstable, and can be seen to start tumbling around 1000s. Case 1 is also roll/yaw unstable, and it can be seen to start tumbling around 5000 seconds. The only stable case is Case 2, where there is no tumbling seen. This makes sense as well, as Case 2 is seen to lie within the Lagrange Region of stability, Case 1 lies within pitch stability, and Case 3 lies outside of all regions of stability."
   ]
  },
  {
   "cell_type": "code",
   "execution_count": null,
   "metadata": {},
   "outputs": [],
   "source": [
    "x = np.linspace(-1,1,1000)\n",
    "y = np.linspace(-1,1,1000)\n",
    "X,Y = np.meshgrid(x,y)\n",
    "\n",
    "def roll_yaw_stability_1(ky,kr):\n",
    "    return (1+3*ky+ky*kr)**2>16*ky*kr\n",
    "def roll_yaw_stability_2(ky,kr):\n",
    "    return kr*ky>0\n",
    "def pitch_stability(ky,kr):\n",
    "    return ky>kr\n",
    "\n",
    "roll_yaw_1_vals = roll_yaw_stability_1(X,Y)\n",
    "roll_yaw_2_vals = roll_yaw_stability_2(X,Y)\n",
    "pitch_vals = pitch_stability(X,Y)\n",
    "\n",
    "plt.figure()\n",
    "plt.title(r\"Gravity Gradient Stability over $k_Y$ vs $k_R$\")\n",
    "plt.xlabel(r\"$k_Y$\")\n",
    "plt.ylabel(r\"$k_R$\")\n",
    "plt.grid()\n",
    "plt.contour(x,y,roll_yaw_1_vals)\n",
    "plt.contour(x,y,roll_yaw_2_vals)\n",
    "plt.contour(x,y,pitch_vals)\n",
    "plt.contourf(x,y,~(roll_yaw_1_vals&roll_yaw_2_vals&pitch_vals).astype(int),alpha=0.25,cmap='PuBu_r')\n",
    "plt.contourf(x,y,~(pitch_vals).astype(int),alpha=0.1,cmap='PuBu_r')\n",
    "plt.annotate(\"Lagrange Region\",xytext=(0.3,0.8),xy=(0.3,0.25),ha=\"center\",va=\"center\",arrowprops=dict(facecolor='black', shrink=0.15))\n",
    "plt.annotate(\"Gyric Region\",xytext=(0.4,-0.2),xy=(-0.05,-0.2),ha=\"center\",va=\"center\",arrowprops=dict(facecolor='black', shrink=0.15))\n",
    "plt.annotate(\"Pitch Stability\",xy=(-0.65,-0.575),rotation=37.5)\n",
    "for case_num,I in enumerate([I1,I2,I3],start=1):\n",
    "    kr = (I[1]-I[0])/I[2]\n",
    "    ky = (I[1]-I[2])/I[0]\n",
    "    plt.scatter(ky,kr,label=f\"Case {case_num}\")\n",
    "plt.legend(loc=\"upper left\")\n",
    "plt.show()"
   ]
  }
 ],
 "metadata": {
  "kernelspec": {
   "display_name": "Python 3",
   "language": "python",
   "name": "python3"
  },
  "language_info": {
   "codemirror_mode": {
    "name": "ipython",
    "version": 3
   },
   "file_extension": ".py",
   "mimetype": "text/x-python",
   "name": "python",
   "nbconvert_exporter": "python",
   "pygments_lexer": "ipython3",
   "version": "3.12.0"
  }
 },
 "nbformat": 4,
 "nbformat_minor": 2
}
