{
 "cells": [
  {
   "cell_type": "code",
   "execution_count": 130,
   "metadata": {},
   "outputs": [],
   "source": [
    "import numpy as np\n",
    "import pandas as pd\n",
    "\n",
    "# Input Constraints\n",
    "m_dot = 20\n",
    "eta_t = 0.9\n",
    "T01 = 1100\n",
    "DT0_13 = 145\n",
    "P01_P03 = 1.873\n",
    "P01 = 4\n",
    "\n",
    "# Gas Properties\n",
    "Cp = 1148\n",
    "gamma = 1.333\n",
    "R = 287\n",
    "\n",
    "# Design Variables\n",
    "N = 250\n",
    "U_mean = 340\n",
    "lambda_N = 0.05"
   ]
  },
  {
   "cell_type": "code",
   "execution_count": 131,
   "metadata": {},
   "outputs": [
    {
     "data": {
      "text/html": [
       "<div>\n",
       "<style scoped>\n",
       "    .dataframe tbody tr th:only-of-type {\n",
       "        vertical-align: middle;\n",
       "    }\n",
       "\n",
       "    .dataframe tbody tr th {\n",
       "        vertical-align: top;\n",
       "    }\n",
       "\n",
       "    .dataframe thead th {\n",
       "        text-align: right;\n",
       "    }\n",
       "</style>\n",
       "<table border=\"1\" class=\"dataframe\">\n",
       "  <thead>\n",
       "    <tr style=\"text-align: right;\">\n",
       "      <th></th>\n",
       "      <th>0</th>\n",
       "      <th>1</th>\n",
       "      <th>2</th>\n",
       "    </tr>\n",
       "  </thead>\n",
       "  <tbody>\n",
       "    <tr>\n",
       "      <th>Area</th>\n",
       "      <td>0.062665</td>\n",
       "      <td>0.083360</td>\n",
       "      <td>0.103361</td>\n",
       "    </tr>\n",
       "    <tr>\n",
       "      <th>Height</th>\n",
       "      <td>0.046077</td>\n",
       "      <td>0.061294</td>\n",
       "      <td>0.076001</td>\n",
       "    </tr>\n",
       "    <tr>\n",
       "      <th>rt_rr</th>\n",
       "      <td>1.238234</td>\n",
       "      <td>1.329886</td>\n",
       "      <td>1.425893</td>\n",
       "    </tr>\n",
       "  </tbody>\n",
       "</table>\n",
       "</div>"
      ],
      "text/plain": [
       "               0         1         2\n",
       "Area    0.062665  0.083360  0.103361\n",
       "Height  0.046077  0.061294  0.076001\n",
       "rt_rr   1.238234  1.329886  1.425893"
      ]
     },
     "execution_count": 131,
     "metadata": {},
     "output_type": "execute_result"
    }
   ],
   "source": [
    "psi = 2*Cp*DT0_13/U_mean**2\n",
    "phi = 0.8\n",
    "\n",
    "Alpha3 = np.deg2rad(10)\n",
    "Beta3 = np.arctan(np.tan(Alpha3)+1/phi)\n",
    "Lambda = (np.tan(Beta3)*2*phi-0.5*psi)/2\n",
    "\n",
    "Beta2 = np.arctan(0.5/phi*(0.5*psi-2*Lambda))\n",
    "Alpha2 = np.arctan(np.tan(Beta2)+1/phi)\n",
    "\n",
    "Beta1 = 0\n",
    "Alpha1 = 0\n",
    "\n",
    "# Stage 2\n",
    "Ca2 = Ca3 = U_mean*phi\n",
    "C2 = Ca2/np.cos(Alpha2)\n",
    "T02 = T01\n",
    "T2 = T02-C2**2/2/Cp\n",
    "T2_p = T2-lambda_N*C2**2/2/Cp\n",
    "P01_P2 = (T01/T2_p)**(gamma/(gamma-1))\n",
    "P2 = P01/P01_P2\n",
    "P_crit = ((gamma+1)/2)**(gamma/(gamma-1))\n",
    "rho2 = P2/R/T2*1e5\n",
    "A2 = m_dot/rho2/Ca2\n",
    "A2N = A2*np.cos(Alpha2)\n",
    "Ca2 = U_mean*phi\n",
    "C2 = Ca2/np.cos(Alpha2)\n",
    "\n",
    "r_m2 = U_mean/2/np.pi/N\n",
    "h2 = A2*N/U_mean\n",
    "rt2 = r_m2+h2/2\n",
    "rr2 = r_m2-h2/2\n",
    "rt_rr2 = rt2/rr2\n",
    "\n",
    "# Stage 1\n",
    "Ca1 = C1 = C3 = Ca3/np.cos(Alpha3)\n",
    "T1 = T01 - C1**2/2/Cp\n",
    "P1_P01 = (T1/T01)**(gamma/(gamma-1))\n",
    "P1 = P1_P01*P01\n",
    "rho1 = P1/R/T1*1e5\n",
    "A1 = m_dot/rho1/C1\n",
    "\n",
    "r_m1 = U_mean/2/np.pi/N\n",
    "h1 = A1*N/U_mean\n",
    "rt1 = r_m1+h1/2\n",
    "rr1 = r_m1-h1/2\n",
    "rt_rr1 = rt1/rr1\n",
    "\n",
    "# Stage 3\n",
    "T03 = T01-DT0_13\n",
    "T3 = T03 - C3**2/2/Cp\n",
    "P3_P03 = (T3/T03)**(gamma/(gamma-1))\n",
    "P03 = P01/P01_P03\n",
    "P3 = P3_P03*P03\n",
    "rho3 = P3/R/T3*1e5\n",
    "A3 = m_dot/rho3/C3\n",
    "\n",
    "r_m3 = U_mean/2/np.pi/N\n",
    "h3 = A3*N/U_mean\n",
    "rt3 = r_m3+h3/2\n",
    "rr3 = r_m3-h3/2\n",
    "rt_rr3 = rt3/rr3\n",
    "M3 = C3/(gamma*R*T3)**0.5\n",
    "\n",
    "data = {\"Area\":[A1,A2,A3],\n",
    "        \"Height\":[h1,h2,h3],\n",
    "        \"rt_rr\":[rt_rr1,rt_rr2,rt_rr3]}\n",
    "pd.DataFrame(data).T"
   ]
  },
  {
   "cell_type": "code",
   "execution_count": 132,
   "metadata": {},
   "outputs": [
    {
     "data": {
      "text/plain": [
       "0.08852735226151685"
      ]
     },
     "execution_count": 132,
     "metadata": {},
     "output_type": "execute_result"
    }
   ],
   "source": [
    "T3_pp = T2/(P2/P3)**((gamma-1)/gamma)\n",
    "V3 = Ca3/np.cos(Beta3)\n",
    "\n",
    "lambda_R = (T3-T3_pp)/(V3**2/2/Cp)\n",
    "lambda_R"
   ]
  },
  {
   "cell_type": "code",
   "execution_count": 133,
   "metadata": {},
   "outputs": [
    {
     "name": "stdout",
     "output_type": "stream",
     "text": [
      "tip: [54.8885989  -0.2711014   8.78037785 57.69345481]\n",
      "root [62.13464416 39.2976512  11.607716   51.96703446]\n"
     ]
    }
   ],
   "source": [
    "def Alpha12_Beta12(r):\n",
    "    a2 = np.arctan((r_m2/r)*np.tan(Alpha2))\n",
    "    a3 = np.arctan((r_m3/r)*np.tan(Alpha3))\n",
    "    b2 = np.arctan((r_m2/r)*np.tan(Alpha2)-(r/r_m2)*U_mean/Ca2)\n",
    "    b3 = np.arctan((r_m3/r)*np.tan(Alpha3)+(r/r_m3)*U_mean/Ca3)\n",
    "    return a2,b2,a3,b3\n",
    "\n",
    "print(\"tip:\",np.rad2deg(Alpha12_Beta12(rt2)))\n",
    "print(\"root\",np.rad2deg(Alpha12_Beta12(rr2)))"
   ]
  }
 ],
 "metadata": {
  "kernelspec": {
   "display_name": "base",
   "language": "python",
   "name": "python3"
  },
  "language_info": {
   "codemirror_mode": {
    "name": "ipython",
    "version": 3
   },
   "file_extension": ".py",
   "mimetype": "text/x-python",
   "name": "python",
   "nbconvert_exporter": "python",
   "pygments_lexer": "ipython3",
   "version": "3.11.7"
  }
 },
 "nbformat": 4,
 "nbformat_minor": 2
}
