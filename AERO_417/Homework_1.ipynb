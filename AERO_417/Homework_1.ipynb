{
 "cells": [
  {
   "cell_type": "markdown",
   "metadata": {},
   "source": [
    "AERO 417 Homework 1"
   ]
  },
  {
   "cell_type": "markdown",
   "metadata": {},
   "source": [
    "1) Create a graphic in a spreadsheet, showing the variation of the normalized specific work vs pressure ration (r) for different t values (1,2,3,4, and 5). Explain the behavior of the curves based on the technological level of metals. Use: $\\gamma=1.4$ (air).\n",
    "\n",
    "$$\n",
    "\\frac{W_{L}}{C_{p}T_{t_{1}}}=t\\left[1-\\frac{1}{r^{\\frac{\\gamma-1}{\\gamma}}}\\right]-\\left[r^{\\frac{\\gamma-1}{\\gamma}}-1\\right]\n",
    "$$"
   ]
  },
  {
   "cell_type": "code",
   "execution_count": null,
   "metadata": {},
   "outputs": [],
   "source": []
  },
  {
   "cell_type": "markdown",
   "metadata": {},
   "source": [
    "2) About the text: for a Brayton Cycle, the maximum normalized specific work is obtained when $T_{2}=T_{4}$ (compressor outlet temperature = turbine outlet temperature). Is this true or false?\n",
    "(Use the normalized specific work equation to develop and answer this question)"
   ]
  }
 ],
 "metadata": {
  "kernelspec": {
   "display_name": "Python 3",
   "language": "python",
   "name": "python3"
  },
  "language_info": {
   "name": "python",
   "version": "3.12.0"
  }
 },
 "nbformat": 4,
 "nbformat_minor": 2
}
