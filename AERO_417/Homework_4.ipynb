{
 "cells": [
  {
   "cell_type": "raw",
   "metadata": {
    "vscode": {
     "languageId": "raw"
    }
   },
   "source": [
    "---\n",
    "title: AERO 424 Homework 2\n",
    "---"
   ]
  },
  {
   "cell_type": "markdown",
   "metadata": {},
   "source": [
    "## (1) Comparing centrifugal and axial compressors, what is the reason in which centrifugal compressor presents higher pressure ratio per stage than axial compressors?\n",
    "\n",
    "Centrifugal compressors achieve higher pressure ratios per stage compared to axial compressors primarily due to their design and operational principles. One key reason is velocity conversion; centrifugal compressors effectively convert kinetic energy from the rotating impeller into static pressure. The radial flow direction allows for a greater increase in velocity and, consequently, a larger increase in pressure as the gas moves through the diffuser.\n",
    "\n",
    "Another factor is the geometry and flow path. The compact design of centrifugal compressors directs flow outward, enabling a significant increase in pressure within a single stage. This more confined flow path facilitates higher pressure recovery. Additionally, while both types of compressors can have multiple stages, centrifugal compressors can achieve higher pressure ratios in a single stage, resulting in a more compact design for applications that require significant pressure increases.\n",
    "\n",
    "Surge margin is another advantage; centrifugal compressors typically exhibit a wider surge margin, which enables them to operate efficiently at higher pressure ratios without stalling. Finally, as gas flows through a centrifugal compressor, the increase in density due to the pressure rise can enhance the pressure ratio achieved in a single stage, in contrast to the axial design, which may experience limitations in pressure rise per stage. Overall, the design and operational mechanisms of centrifugal compressors allow them to achieve higher pressure ratios per stage compared to axial compressors."
   ]
  },
  {
   "cell_type": "markdown",
   "metadata": {},
   "source": [
    "## (2) Based on a specific axial compressor design requirement, describe with details the procedure to obtain an adequate preliminary 3D turbomachine sizing. Also, create a diagram of this project process.\n",
    "\n",
    "1D Thermodynamic Cycle\\\n",
    "In a 1D analysis of a thermodynamic cycle, the focus is on simplified models that capture essential performance characteristics without delving into spatial variations. This approach often employs the ideal gas law and fundamental thermodynamic principles, such as the first law of thermodynamics, to calculate important metrics like work output, heat input, and efficiency. The cycle can be represented graphically through pressure-volume (P-V) or temperature-entropy (T-s) diagrams, providing a visual understanding of the energy transformations occurring within the system. By analyzing these parameters in a one-dimensional framework, engineers can quickly identify the theoretical performance limits of a given cycle.\n",
    "\n",
    "2D Analysis\\\n",
    "Transitioning to a 2D analysis introduces spatial considerations that account for variations in pressure and temperature across the turbomachine. In this phase, averaged properties over cross-sections, such as blade rows, allow for a more nuanced understanding of the flow distribution and performance. Utilizing 2D computational models in software like ANSYS or Fluent enables the visualization of flow paths, revealing critical phenomena such as flow separation or areas of high losses. This detailed examination of flow patterns helps engineers optimize designs by identifying potential issues early in the development process, providing insights that are not possible in a 1D analysis.\n",
    "\n",
    "3D Computational Fluid Dynamics (CFD)\\\n",
    "The final step involves transitioning to a full 3D analysis using Computational Fluid Dynamics (CFD), which captures the intricate geometric features of the compressor or turbine. In this phase, a detailed 3D model is created, encompassing all components and their interactions. The computational mesh is generated to ensure sufficient resolution in critical areas, such as blade surfaces and flow inlets/outlets. By running CFD simulations, engineers can analyze comprehensive flow characteristics, including velocity vectors, pressure distributions, and temperature fields. This depth of analysis allows for a thorough evaluation of performance, enabling engineers to optimize designs effectively and validate findings from 1D and 2D analyses against real-world behavior, leading to enhanced efficiency and reliability in turbomachinery applications."
   ]
  },
  {
   "cell_type": "markdown",
   "metadata": {},
   "source": [
    "## (3) What is the objective in the use of variable geometry (VIGV and VSV).\n",
    "The use of variable geometry in turbomachines, specifically through Variable Inlet Guide Vanes (VIGV) and Variable Stator Vanes (VSV), aims to enhance performance across varying operating conditions. By adjusting the angles of these vanes, engineers can optimize aerodynamic performance, ensuring efficient energy conversion at different speeds and loads. This adaptability not only maximizes efficiency but also helps prevent issues such as surge and stall in compressors by maintaining stable flow conditions. Additionally, variable geometry provides operational flexibility, allowing turbomachines to perform effectively in a broader range of applications, from aircraft engines to power generation systems. Ultimately, this technology enables machines to respond dynamically to changing conditions, improving reliability, efficiency, and fuel economy while reducing emissions."
   ]
  },
  {
   "cell_type": "markdown",
   "metadata": {},
   "source": [
    "## (4) In a compressor operational map, for each rotational speed there are two limit points, stall and choke. Make a sketch of a compressor map with different rotational speeds, identifying these points including the stall/surge line and explain the physical aspects of stall, surge and choke.\n",
    "\n",
    "\n",
    "A compressor operational map visually represents the relationship between mass flow rate and pressure ratio at various rotational speeds. On this map, two critical limit points are identified for each speed: the stall line and the choke line. The choke line indicates the maximum mass flow rate the compressor can handle, beyond which the flow cannot increase, leading to a sharp drop in pressure ratio. Conversely, the stall line marks the lower limit of operational range, where flow rates drop below a certain point, causing the compressor to experience stall, a condition characterized by flow separation and a loss of lift on the blades.\n",
    "\n",
    "Stall occurs when the airflow decreases to a point where the blades cannot maintain attached flow, often resulting in vibrations and instability. Surge, which can follow stall, is a more dynamic instability characterized by the complete reversal of airflow through the compressor. This condition leads to oscillations in pressure and flow, which can cause significant damage if not managed. On the other hand, choke occurs at high mass flow rates when the flow velocity reaches sonic conditions at the compressor's throat. At this point, any further increase in flow rate results in a decreased pressure ratio, as the flow becomes limited by the gas's physical properties. Understanding these critical phenomena is essential for optimizing compressor design and ensuring efficient performance across various operating conditions.\n",
    "\n",
    "               Pressure Ratio\n",
    "                ↑\n",
    "                |                               Choke Line\n",
    "                |                  _________/            \n",
    "                |                /             \n",
    "                |              /\n",
    "                |            /\n",
    "                |          /\n",
    "                |        /\n",
    "                |      /\n",
    "                |    /\n",
    "                |  /\n",
    "                |/______________________________ Mass Flow Rate\n",
    "                       |    |    |    |\n",
    "                       |    |    |    |\n",
    "                     N1   N2   N3   N4  (Different Rotational Speeds)"
   ]
  }
 ],
 "metadata": {
  "kernelspec": {
   "display_name": "base",
   "language": "python",
   "name": "python3"
  },
  "language_info": {
   "name": "python",
   "version": "3.11.7"
  }
 },
 "nbformat": 4,
 "nbformat_minor": 2
}
