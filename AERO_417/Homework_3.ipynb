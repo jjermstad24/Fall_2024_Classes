{
 "cells": [
  {
   "cell_type": "raw",
   "metadata": {
    "vscode": {
     "languageId": "raw"
    }
   },
   "source": [
    "---\n",
    "title: AERO 417 Homework 3\n",
    "---"
   ]
  },
  {
   "cell_type": "code",
   "execution_count": 1,
   "metadata": {},
   "outputs": [],
   "source": [
    "import sympy as sy\n",
    "import numpy as np\n",
    "import matplotlib.pyplot as plt\n",
    "import IPython\n",
    "from IPython.display import display\n",
    "from PIL import Image\n",
    "import matplotlib\n",
    "from matplotlib.lines import Line2D\n",
    "import scipy\n",
    "matplotlib.rcParams['mathtext.fontset'] = 'stix'\n",
    "matplotlib.rcParams['font.family'] = 'STIXGeneral'\n",
    "matplotlib.rcParams['font.size'] = 18\n",
    "\n",
    "def displayH(a1,a2='', a3='', a4='', a5='', a6='', a7='',):\n",
    "    latex_a1 = sy.latex(a1)\n",
    "    latex_a2 = sy.latex(a2)\n",
    "    latex_a3 = sy.latex(a3)\n",
    "    latex_a4 = sy.latex(a4)\n",
    "    latex_a5 = sy.latex(a5)\n",
    "    latex_a6 = sy.latex(a6)\n",
    "    latex_a7 = sy.latex(a7)\n",
    "    display( IPython.core.display.Math(latex_a1 + latex_a2 + latex_a3 + latex_a4 + latex_a5 + latex_a6 + latex_a7)  )"
   ]
  },
  {
   "cell_type": "markdown",
   "metadata": {},
   "source": [
    "#### 1) Why centrifugal compressors are not used in long-range aircraft as a component of the main engines?\n",
    "\n",
    "Centrifugal compressors are not typically used in long-range aircraft engines because they generally have lower efficiency compared to axial-flow compressors. Achieving high pressure ratios is also more challenging with centrifugal compressors. While axial compressors can easily stack multiple stages to steadily increase pressure, centrifugal compressors require a much more complex design for multistage operation. Additionally, centrifugal compressors struggle to handle high Mach numbers as effectively due to the presence of shock waves. Finally, cooling is easier to implement in axial-flow compressors because of their design, further limiting the use of centrifugal compressors in aircraft engines."
   ]
  },
  {
   "cell_type": "markdown",
   "metadata": {},
   "source": [
    "#### 2) Explain, using mathematical expressions the source of pressure increases in a centrifugal compressor and make a reflection and describe what is the source/term that indicates the pressure increase in high performance centrifugal compressors.\n",
    "\n",
    "A centrifugal compressor works by accelerating air through an impeller, increasing its velocity and dynamic pressure $\\left( \\frac{1}{2} \\rho v^2 \\right)$. As air enters the compressor, it is energized by the rotational speed of the impeller. Although the axial velocity of the air may remain similar, the radial velocity increases as the air is forced outward along the impeller's radius, due to the relationship $v = \\omega r$ (where $\\omega$ is angular velocity and $r$ is radius). This increase in radial velocity raises the air’s dynamic pressure. In the diffuser, this dynamic pressure is converted into static pressure, resulting in an overall increase in total pressure $\\left( P_0 = P + \\frac{1}{2} \\rho v^2 \\right)$, which is the goal of the compression process."
   ]
  },
  {
   "cell_type": "markdown",
   "metadata": {},
   "source": [
    "#### 3) Air enters the inducer blades of a centrifugal compressor at p 01 = 1.02 bar, T 01 = 335 K. The hub and tip diameters of the impeller eye are 10 and 25 cm respectively. If the compressor runs at 7200 rpm and delivers 5.0 kg/s of air, determine the air angle at the inducer blade entry and the relative Mach number."
   ]
  },
  {
   "cell_type": "code",
   "execution_count": 18,
   "metadata": {},
   "outputs": [
    {
     "data": {
      "text/latex": [
       "$\\displaystyle \\rho_{01} =1.00441635429464\\mathtt{\\text{}}\\mathtt{\\text{}}\\mathtt{\\text{}}\\mathtt{\\text{}}\\mathtt{\\text{}}$"
      ],
      "text/plain": [
       "<IPython.core.display.Math object>"
      ]
     },
     "metadata": {},
     "output_type": "display_data"
    },
    {
     "data": {
      "text/latex": [
       "$\\displaystyle v_{a} =120.727732582125\\mathtt{\\text{}}\\mathtt{\\text{}}\\mathtt{\\text{}}\\mathtt{\\text{}}\\mathtt{\\text{}}$"
      ],
      "text/plain": [
       "<IPython.core.display.Math object>"
      ]
     },
     "metadata": {},
     "output_type": "display_data"
    },
    {
     "data": {
      "text/latex": [
       "$\\displaystyle U_{tip} =94.2477796076938\\mathtt{\\text{}}\\mathtt{\\text{}}\\mathtt{\\text{}}\\mathtt{\\text{}}\\mathtt{\\text{}}$"
      ],
      "text/plain": [
       "<IPython.core.display.Math object>"
      ]
     },
     "metadata": {},
     "output_type": "display_data"
    },
    {
     "data": {
      "text/latex": [
       "$\\displaystyle U_{hub} =37.6991118430775\\mathtt{\\text{}}\\mathtt{\\text{}}\\mathtt{\\text{}}\\mathtt{\\text{}}\\mathtt{\\text{}}$"
      ],
      "text/plain": [
       "<IPython.core.display.Math object>"
      ]
     },
     "metadata": {},
     "output_type": "display_data"
    },
    {
     "data": {
      "text/latex": [
       "$\\displaystyle \\Beta_{tip} =37.9778723975421\\mathtt{\\text{}}\\mathtt{\\text{}}\\mathtt{\\text{}}\\mathtt{\\text{}}\\mathtt{\\text{}}$"
      ],
      "text/plain": [
       "<IPython.core.display.Math object>"
      ]
     },
     "metadata": {},
     "output_type": "display_data"
    },
    {
     "data": {
      "text/latex": [
       "$\\displaystyle \\Beta_{hub} =17.3417859425384\\mathtt{\\text{}}\\mathtt{\\text{}}\\mathtt{\\text{}}\\mathtt{\\text{}}\\mathtt{\\text{}}$"
      ],
      "text/plain": [
       "<IPython.core.display.Math object>"
      ]
     },
     "metadata": {},
     "output_type": "display_data"
    },
    {
     "data": {
      "text/latex": [
       "$\\displaystyle M_{tip} =0.422054446717507\\mathtt{\\text{}}\\mathtt{\\text{}}\\mathtt{\\text{}}\\mathtt{\\text{}}\\mathtt{\\text{}}$"
      ],
      "text/plain": [
       "<IPython.core.display.Math object>"
      ]
     },
     "metadata": {},
     "output_type": "display_data"
    },
    {
     "data": {
      "text/latex": [
       "$\\displaystyle M_{hub} =0.348526504945584\\mathtt{\\text{}}\\mathtt{\\text{}}\\mathtt{\\text{}}\\mathtt{\\text{}}\\mathtt{\\text{}}$"
      ],
      "text/plain": [
       "<IPython.core.display.Math object>"
      ]
     },
     "metadata": {},
     "output_type": "display_data"
    }
   ],
   "source": [
    "P01 = 1.02*10**5\n",
    "T01 = 335\n",
    "dh = 10/100\n",
    "dt = 25/100\n",
    "RPM = 7200\n",
    "RPS = RPM/60\n",
    "mdot = 5\n",
    "Cp = 1005\n",
    "gamma = 1.4\n",
    "R = 287\n",
    "\n",
    "A = np.pi/4*(dt**2-dh**2)\n",
    "\n",
    "rho01 = P01/T01/R\n",
    "while True:\n",
    "    v = mdot/rho01/A\n",
    "    T1 = T01-v**2/2/Cp\n",
    "    P1 = P01*(T1/T01)**(gamma/(gamma-1))\n",
    "    rho1 = P1/T1/R\n",
    "    if np.abs(rho01-rho1)<1e-10:\n",
    "        break\n",
    "    rho01 = rho1\n",
    "\n",
    "a = (gamma*R*T1)**0.5\n",
    "\n",
    "Uh = np.pi*RPS*dh\n",
    "Ut = np.pi*RPS*dt\n",
    "\n",
    "Wt = (v**2+Ut**2)**0.5\n",
    "Wh = (v**2+Uh**2)**0.5\n",
    "\n",
    "Mt = Wt/a\n",
    "Mh = Wh/a\n",
    "\n",
    "Betat = np.arctan2(Ut,v)\n",
    "Betah = np.arctan2(Uh,v)\n",
    "\n",
    "displayH(sy.Symbol(\"\\\\rho_{01} =\"),rho01)\n",
    "\n",
    "displayH(sy.Symbol(\"v_{a} =\"),v)\n",
    "\n",
    "displayH(sy.Symbol(\"U_{tip} =\"),Ut)\n",
    "displayH(sy.Symbol(\"U_{hub} =\"),Uh)\n",
    "\n",
    "displayH(sy.Symbol(\"\\\\Beta_{tip} =\"),np.degrees(Betat))\n",
    "displayH(sy.Symbol(\"\\\\Beta_{hub} =\"),np.degrees(Betah))\n",
    "\n",
    "displayH(sy.Symbol(\"M_{tip} =\"),Mt)\n",
    "displayH(sy.Symbol(\"M_{hub} =\"),Mh)"
   ]
  }
 ],
 "metadata": {
  "kernelspec": {
   "display_name": "Python 3",
   "language": "python",
   "name": "python3"
  },
  "language_info": {
   "codemirror_mode": {
    "name": "ipython",
    "version": 3
   },
   "file_extension": ".py",
   "mimetype": "text/x-python",
   "name": "python",
   "nbconvert_exporter": "python",
   "pygments_lexer": "ipython3",
   "version": "3.12.0"
  }
 },
 "nbformat": 4,
 "nbformat_minor": 2
}
